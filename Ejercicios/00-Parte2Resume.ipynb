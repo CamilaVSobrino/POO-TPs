{
 "cells": [
  {
   "cell_type": "markdown",
   "metadata": {},
   "source": [
    "# Apuntes Segunda Parte\n",
    "| numpy: es una biblioteca de álgebra lineal para Python, las arrays Numpy esencialmente vienen en dos sabores: vectores y matrices. Los vectores son arreglos estrictamente unidimensionales y las matrices son bidimensionales (pero debe tener en cuenta que una matriz aún puede tener solo una fila o una columna).\n"
   ]
  },
  {
   "cell_type": "code",
   "execution_count": 104,
   "metadata": {},
   "outputs": [],
   "source": [
    "import numpy as np"
   ]
  },
  {
   "cell_type": "code",
   "execution_count": 105,
   "metadata": {},
   "outputs": [
    {
     "data": {
      "text/plain": [
       "[1, 2, 3]"
      ]
     },
     "execution_count": 105,
     "metadata": {},
     "output_type": "execute_result"
    }
   ],
   "source": [
    "una_lista = [1,2,3] #Podemos directamente de una lista o listas de lista armar una numpy array\n",
    "una_lista"
   ]
  },
  {
   "cell_type": "code",
   "execution_count": 106,
   "metadata": {},
   "outputs": [
    {
     "data": {
      "text/plain": [
       "array([1, 2, 3])"
      ]
     },
     "execution_count": 106,
     "metadata": {},
     "output_type": "execute_result"
    }
   ],
   "source": [
    "np.array(una_lista)"
   ]
  },
  {
   "cell_type": "code",
   "execution_count": 107,
   "metadata": {},
   "outputs": [
    {
     "data": {
      "text/plain": [
       "[[1, 2, 3], [4, 5, 6], [7, 8, 9]]"
      ]
     },
     "execution_count": 107,
     "metadata": {},
     "output_type": "execute_result"
    }
   ],
   "source": [
    "una_matriz = [[1,2,3],[4,5,6],[7,8,9]]\n",
    "una_matriz"
   ]
  },
  {
   "cell_type": "code",
   "execution_count": 108,
   "metadata": {},
   "outputs": [
    {
     "data": {
      "text/plain": [
       "array([[1, 2, 3],\n",
       "       [4, 5, 6],\n",
       "       [7, 8, 9]])"
      ]
     },
     "execution_count": 108,
     "metadata": {},
     "output_type": "execute_result"
    }
   ],
   "source": [
    "np.array(una_matriz)"
   ]
  },
  {
   "cell_type": "markdown",
   "metadata": {},
   "source": [
    "Puedo indexar y seleccionar\n"
   ]
  },
  {
   "cell_type": "code",
   "execution_count": 109,
   "metadata": {},
   "outputs": [
    {
     "data": {
      "text/plain": [
       "array([ 0,  1,  2,  3,  4,  5,  6,  7,  8,  9, 10])"
      ]
     },
     "execution_count": 109,
     "metadata": {},
     "output_type": "execute_result"
    }
   ],
   "source": [
    "array = np.arange(0,11)     #Creo y busco dentro del array\n",
    "array"
   ]
  },
  {
   "cell_type": "code",
   "execution_count": 110,
   "metadata": {},
   "outputs": [
    {
     "data": {
      "text/plain": [
       "8"
      ]
     },
     "execution_count": 110,
     "metadata": {},
     "output_type": "execute_result"
    }
   ],
   "source": [
    "array[8]"
   ]
  },
  {
   "cell_type": "code",
   "execution_count": 111,
   "metadata": {},
   "outputs": [
    {
     "data": {
      "text/plain": [
       "array([0, 1, 2, 3, 4])"
      ]
     },
     "execution_count": 111,
     "metadata": {},
     "output_type": "execute_result"
    }
   ],
   "source": [
    "array[0:5]"
   ]
  },
  {
   "cell_type": "code",
   "execution_count": 112,
   "metadata": {},
   "outputs": [
    {
     "data": {
      "text/plain": [
       "array([100, 100, 100, 100, 100,   5,   6,   7,   8,   9,  10])"
      ]
     },
     "execution_count": 112,
     "metadata": {},
     "output_type": "execute_result"
    }
   ],
   "source": [
    "array [0:5]=100 #Setting a value with index range (Broadcasting)\n",
    "array"
   ]
  },
  {
   "cell_type": "code",
   "execution_count": 113,
   "metadata": {},
   "outputs": [
    {
     "data": {
      "text/plain": [
       "array([ 0,  1,  2,  3,  4,  5,  6,  7,  8,  9, 10])"
      ]
     },
     "execution_count": 113,
     "metadata": {},
     "output_type": "execute_result"
    }
   ],
   "source": [
    "# Reseteamos el array para seguir trabajando \n",
    "array = np.arange(0,11)\n",
    "array"
   ]
  },
  {
   "cell_type": "code",
   "execution_count": 114,
   "metadata": {},
   "outputs": [
    {
     "data": {
      "text/plain": [
       "array([0, 1, 2, 3, 4, 5])"
      ]
     },
     "execution_count": 114,
     "metadata": {},
     "output_type": "execute_result"
    }
   ],
   "source": [
    "#Seleccionamos una pieza de ese array para trabajar\n",
    "slice_of_arr = array[0:6]\n",
    "slice_of_arr"
   ]
  },
  {
   "cell_type": "code",
   "execution_count": 115,
   "metadata": {},
   "outputs": [
    {
     "data": {
      "text/plain": [
       "array([99, 99, 99, 99, 99, 99])"
      ]
     },
     "execution_count": 115,
     "metadata": {},
     "output_type": "execute_result"
    }
   ],
   "source": [
    "slice_of_arr[:] =99 # Hago que me valgan 99 esos 6 primeros numeros\n",
    "slice_of_arr"
   ]
  },
  {
   "cell_type": "code",
   "execution_count": 116,
   "metadata": {},
   "outputs": [
    {
     "data": {
      "text/plain": [
       "array([99, 99, 99, 99, 99, 99,  6,  7,  8,  9, 10])"
      ]
     },
     "execution_count": 116,
     "metadata": {},
     "output_type": "execute_result"
    }
   ],
   "source": [
    "array #El cambio se plasma en el array ORIGINAL"
   ]
  },
  {
   "cell_type": "code",
   "execution_count": 117,
   "metadata": {},
   "outputs": [
    {
     "data": {
      "text/plain": [
       "array([99, 99, 99, 99, 99, 99,  6,  7,  8,  9, 10])"
      ]
     },
     "execution_count": 117,
     "metadata": {},
     "output_type": "execute_result"
    }
   ],
   "source": [
    "# Necesitamos hacer una copia para que no se modifique en el array original\n",
    "arr_copy = array.copy()\n",
    "arr_copy"
   ]
  },
  {
   "cell_type": "markdown",
   "metadata": {},
   "source": [
    "### Indexing a 2Dimension array (matrices)\n",
    "\n",
    "El formato general es **arr_2d[row][col]** o **arr_2d[row,col]**. recomiendo usar la coma para no confundirse"
   ]
  },
  {
   "cell_type": "code",
   "execution_count": 118,
   "metadata": {},
   "outputs": [
    {
     "data": {
      "text/plain": [
       "array([[ 5, 10, 15],\n",
       "       [20, 25, 30],\n",
       "       [35, 40, 45]])"
      ]
     },
     "execution_count": 118,
     "metadata": {},
     "output_type": "execute_result"
    }
   ],
   "source": [
    "arr_2d = np.array(([5,10,15],[20,25,30],[35,40,45]))\n",
    "arr_2d"
   ]
  },
  {
   "cell_type": "code",
   "execution_count": 119,
   "metadata": {},
   "outputs": [
    {
     "data": {
      "text/plain": [
       "array([[20, 25],\n",
       "       [35, 40]])"
      ]
     },
     "execution_count": 119,
     "metadata": {},
     "output_type": "execute_result"
    }
   ],
   "source": [
    "arr_2d[1:3,0:2]"
   ]
  },
  {
   "cell_type": "code",
   "execution_count": 120,
   "metadata": {},
   "outputs": [
    {
     "data": {
      "text/plain": [
       "array([20, 25, 30])"
      ]
     },
     "execution_count": 120,
     "metadata": {},
     "output_type": "execute_result"
    }
   ],
   "source": [
    "arr_2d[1] #Indexing fila"
   ]
  },
  {
   "cell_type": "code",
   "execution_count": 121,
   "metadata": {},
   "outputs": [
    {
     "data": {
      "text/plain": [
       "20"
      ]
     },
     "execution_count": 121,
     "metadata": {},
     "output_type": "execute_result"
    }
   ],
   "source": [
    "arr_2d[1][0]   # arr_2d[fila][columna] or arr_2d[fila,columna]"
   ]
  },
  {
   "cell_type": "markdown",
   "metadata": {},
   "source": [
    "### Seleccion condicional"
   ]
  },
  {
   "cell_type": "code",
   "execution_count": 122,
   "metadata": {},
   "outputs": [
    {
     "data": {
      "text/plain": [
       "array([ 1,  2,  3,  4,  5,  6,  7,  8,  9, 10])"
      ]
     },
     "execution_count": 122,
     "metadata": {},
     "output_type": "execute_result"
    }
   ],
   "source": [
    "array = np.arange(1,11)\n",
    "array"
   ]
  },
  {
   "cell_type": "code",
   "execution_count": 123,
   "metadata": {},
   "outputs": [
    {
     "data": {
      "text/plain": [
       "array([False, False, False, False,  True,  True,  True,  True,  True,\n",
       "        True])"
      ]
     },
     "execution_count": 123,
     "metadata": {},
     "output_type": "execute_result"
    }
   ],
   "source": [
    "array > 4   # Me devuelve booleano"
   ]
  },
  {
   "cell_type": "code",
   "execution_count": 124,
   "metadata": {},
   "outputs": [
    {
     "data": {
      "text/plain": [
       "array([False, False, False, False,  True,  True,  True,  True,  True,\n",
       "        True])"
      ]
     },
     "execution_count": 124,
     "metadata": {},
     "output_type": "execute_result"
    }
   ],
   "source": [
    "array_booleano = array > 4\n",
    "array_booleano"
   ]
  },
  {
   "cell_type": "code",
   "execution_count": 125,
   "metadata": {},
   "outputs": [
    {
     "data": {
      "text/plain": [
       "array([ 5,  6,  7,  8,  9, 10])"
      ]
     },
     "execution_count": 125,
     "metadata": {},
     "output_type": "execute_result"
    }
   ],
   "source": [
    "array[array_booleano]"
   ]
  },
  {
   "cell_type": "code",
   "execution_count": 126,
   "metadata": {},
   "outputs": [
    {
     "data": {
      "text/plain": [
       "array([ 3,  4,  5,  6,  7,  8,  9, 10])"
      ]
     },
     "execution_count": 126,
     "metadata": {},
     "output_type": "execute_result"
    }
   ],
   "source": [
    "array[array>2]  #Ahora si me devuelve con nro"
   ]
  },
  {
   "cell_type": "code",
   "execution_count": 127,
   "metadata": {},
   "outputs": [
    {
     "data": {
      "text/plain": [
       "array([ 3,  4,  5,  6,  7,  8,  9, 10])"
      ]
     },
     "execution_count": 127,
     "metadata": {},
     "output_type": "execute_result"
    }
   ],
   "source": [
    "x = 2\n",
    "array[array>x]"
   ]
  },
  {
   "cell_type": "markdown",
   "metadata": {},
   "source": [
    "### Operaciones"
   ]
  },
  {
   "cell_type": "code",
   "execution_count": 128,
   "metadata": {},
   "outputs": [
    {
     "data": {
      "text/plain": [
       "array([ 1,  2,  3,  4,  5,  6,  7,  8,  9, 10])"
      ]
     },
     "execution_count": 128,
     "metadata": {},
     "output_type": "execute_result"
    }
   ],
   "source": [
    "array"
   ]
  },
  {
   "cell_type": "code",
   "execution_count": 129,
   "metadata": {},
   "outputs": [
    {
     "data": {
      "text/plain": [
       "array([ 2,  4,  6,  8, 10, 12, 14, 16, 18, 20])"
      ]
     },
     "execution_count": 129,
     "metadata": {},
     "output_type": "execute_result"
    }
   ],
   "source": [
    "array + array"
   ]
  },
  {
   "cell_type": "code",
   "execution_count": 130,
   "metadata": {},
   "outputs": [
    {
     "data": {
      "text/plain": [
       "array([  1,   4,   9,  16,  25,  36,  49,  64,  81, 100])"
      ]
     },
     "execution_count": 130,
     "metadata": {},
     "output_type": "execute_result"
    }
   ],
   "source": [
    "array * array"
   ]
  },
  {
   "cell_type": "code",
   "execution_count": 131,
   "metadata": {},
   "outputs": [
    {
     "data": {
      "text/plain": [
       "array([0, 0, 0, 0, 0, 0, 0, 0, 0, 0])"
      ]
     },
     "execution_count": 131,
     "metadata": {},
     "output_type": "execute_result"
    }
   ],
   "source": [
    "array - array"
   ]
  },
  {
   "cell_type": "code",
   "execution_count": 132,
   "metadata": {},
   "outputs": [
    {
     "data": {
      "text/plain": [
       "array([1., 1., 1., 1., 1., 1., 1., 1., 1., 1.])"
      ]
     },
     "execution_count": 132,
     "metadata": {},
     "output_type": "execute_result"
    }
   ],
   "source": [
    "array/array"
   ]
  },
  {
   "cell_type": "code",
   "execution_count": 133,
   "metadata": {},
   "outputs": [
    {
     "data": {
      "text/plain": [
       "array([1.        , 0.5       , 0.33333333, 0.25      , 0.2       ,\n",
       "       0.16666667, 0.14285714, 0.125     , 0.11111111, 0.1       ])"
      ]
     },
     "execution_count": 133,
     "metadata": {},
     "output_type": "execute_result"
    }
   ],
   "source": [
    "1/array  # Also warning, but not an error instead infinity"
   ]
  },
  {
   "cell_type": "code",
   "execution_count": 134,
   "metadata": {},
   "outputs": [
    {
     "data": {
      "text/plain": [
       "array([ 3,  6,  9, 12, 15, 18, 21, 24, 27, 30])"
      ]
     },
     "execution_count": 134,
     "metadata": {},
     "output_type": "execute_result"
    }
   ],
   "source": [
    "array*3"
   ]
  },
  {
   "cell_type": "markdown",
   "metadata": {},
   "source": [
    "### Operaciones Universales"
   ]
  },
  {
   "cell_type": "code",
   "execution_count": 135,
   "metadata": {},
   "outputs": [
    {
     "data": {
      "text/plain": [
       "array([1.        , 1.41421356, 1.73205081, 2.        , 2.23606798,\n",
       "       2.44948974, 2.64575131, 2.82842712, 3.        , 3.16227766])"
      ]
     },
     "execution_count": 135,
     "metadata": {},
     "output_type": "execute_result"
    }
   ],
   "source": [
    "#Taking Square Roots\n",
    "np.sqrt(array)"
   ]
  },
  {
   "cell_type": "code",
   "execution_count": 136,
   "metadata": {},
   "outputs": [
    {
     "data": {
      "text/plain": [
       "array([2.71828183e+00, 7.38905610e+00, 2.00855369e+01, 5.45981500e+01,\n",
       "       1.48413159e+02, 4.03428793e+02, 1.09663316e+03, 2.98095799e+03,\n",
       "       8.10308393e+03, 2.20264658e+04])"
      ]
     },
     "execution_count": 136,
     "metadata": {},
     "output_type": "execute_result"
    }
   ],
   "source": [
    "#Calcualting exponential (e^)\n",
    "np.exp(array)"
   ]
  },
  {
   "cell_type": "code",
   "execution_count": 137,
   "metadata": {},
   "outputs": [
    {
     "data": {
      "text/plain": [
       "10"
      ]
     },
     "execution_count": 137,
     "metadata": {},
     "output_type": "execute_result"
    }
   ],
   "source": [
    "array.max()"
   ]
  },
  {
   "cell_type": "markdown",
   "metadata": {},
   "source": [
    "# Repaso"
   ]
  },
  {
   "cell_type": "markdown",
   "metadata": {},
   "source": [
    "00-pre"
   ]
  },
  {
   "cell_type": "code",
   "execution_count": 138,
   "metadata": {},
   "outputs": [],
   "source": [
    "jugadores = [\"Di Maria\", \"Messi\", \"El Diego\"]"
   ]
  },
  {
   "cell_type": "code",
   "execution_count": 139,
   "metadata": {},
   "outputs": [
    {
     "name": "stdout",
     "output_type": "stream",
     "text": [
      "Di Maria\n",
      "Messi\n",
      "El Diego\n"
     ]
    }
   ],
   "source": [
    "for jugador in jugadores:\n",
    "    print(jugador)"
   ]
  },
  {
   "cell_type": "code",
   "execution_count": 140,
   "metadata": {},
   "outputs": [
    {
     "name": "stdout",
     "output_type": "stream",
     "text": [
      "0 Di Maria\n",
      "1 Messi\n",
      "2 El Diego\n"
     ]
    }
   ],
   "source": [
    "for i,j in enumerate(jugadores):\n",
    "    print(i,j)"
   ]
  },
  {
   "cell_type": "code",
   "execution_count": 141,
   "metadata": {},
   "outputs": [
    {
     "name": "stdout",
     "output_type": "stream",
     "text": [
      "0\n",
      "1\n",
      "2\n"
     ]
    }
   ],
   "source": [
    "for i in range(0,len(jugadores)):\n",
    "    print(i)"
   ]
  },
  {
   "cell_type": "code",
   "execution_count": 142,
   "metadata": {},
   "outputs": [
    {
     "name": "stdout",
     "output_type": "stream",
     "text": [
      "El Diego\n"
     ]
    }
   ],
   "source": [
    "for i in jugadores:\n",
    "    if i == \"El Diego\":\n",
    "        print(i)"
   ]
  },
  {
   "cell_type": "code",
   "execution_count": 143,
   "metadata": {},
   "outputs": [],
   "source": [
    "crear_undict = {}   #Diccionario"
   ]
  },
  {
   "cell_type": "code",
   "execution_count": 144,
   "metadata": {},
   "outputs": [],
   "source": [
    "crear_undict[\"provincia\"] = \"santa_fe\""
   ]
  },
  {
   "cell_type": "code",
   "execution_count": 145,
   "metadata": {},
   "outputs": [
    {
     "data": {
      "text/plain": [
       "{'provincia': 'santa_fe'}"
      ]
     },
     "execution_count": 145,
     "metadata": {},
     "output_type": "execute_result"
    }
   ],
   "source": [
    "crear_undict"
   ]
  },
  {
   "cell_type": "markdown",
   "metadata": {},
   "source": [
    "# BASIC EDA"
   ]
  },
  {
   "cell_type": "markdown",
   "metadata": {},
   "source": [
    "La idea de esta notebook es cargar data de kaggle. Hacernos las preguntas típicas de exploración de datos y responderlas con gráficos.\n",
    "* Determinar si hay problemas en el dataset (Contrato de datos)\n",
    "* Determinar si las preguntas que tenemos pueden\n",
    "* Desarrollar una respuesta, hacer nuevas preguntas o refinar las que tenemos.\n",
    "Dataset attrack puede ser descargado de [aquí](https://www.kaggle.com/teajay/global-shark-attacks/version/1)"
   ]
  },
  {
   "cell_type": "code",
   "execution_count": 146,
   "metadata": {},
   "outputs": [],
   "source": [
    "import pandas as pd"
   ]
  },
  {
   "cell_type": "code",
   "execution_count": 147,
   "metadata": {},
   "outputs": [],
   "source": [
    "df =pd.read_csv(\"attacks.csv\", encoding=\"latin-1\")  #codificación que incluye la mayoría de los caracteres utilizados en los idiomas europeos occidentales."
   ]
  },
  {
   "cell_type": "code",
   "execution_count": 148,
   "metadata": {},
   "outputs": [
    {
     "data": {
      "text/html": [
       "<div>\n",
       "<style scoped>\n",
       "    .dataframe tbody tr th:only-of-type {\n",
       "        vertical-align: middle;\n",
       "    }\n",
       "\n",
       "    .dataframe tbody tr th {\n",
       "        vertical-align: top;\n",
       "    }\n",
       "\n",
       "    .dataframe thead th {\n",
       "        text-align: right;\n",
       "    }\n",
       "</style>\n",
       "<table border=\"1\" class=\"dataframe\">\n",
       "  <thead>\n",
       "    <tr style=\"text-align: right;\">\n",
       "      <th></th>\n",
       "      <th>Case Number</th>\n",
       "      <th>Date</th>\n",
       "      <th>Year</th>\n",
       "      <th>Type</th>\n",
       "      <th>Country</th>\n",
       "      <th>Area</th>\n",
       "      <th>Location</th>\n",
       "      <th>Activity</th>\n",
       "      <th>Name</th>\n",
       "      <th>Sex</th>\n",
       "      <th>...</th>\n",
       "      <th>Species</th>\n",
       "      <th>Investigator or Source</th>\n",
       "      <th>pdf</th>\n",
       "      <th>href formula</th>\n",
       "      <th>href</th>\n",
       "      <th>Case Number.1</th>\n",
       "      <th>Case Number.2</th>\n",
       "      <th>original order</th>\n",
       "      <th>Unnamed: 22</th>\n",
       "      <th>Unnamed: 23</th>\n",
       "    </tr>\n",
       "  </thead>\n",
       "  <tbody>\n",
       "    <tr>\n",
       "      <th>0</th>\n",
       "      <td>2018.06.25</td>\n",
       "      <td>25-Jun-2018</td>\n",
       "      <td>2018.0</td>\n",
       "      <td>Boating</td>\n",
       "      <td>USA</td>\n",
       "      <td>California</td>\n",
       "      <td>Oceanside, San Diego County</td>\n",
       "      <td>Paddling</td>\n",
       "      <td>Julie Wolfe</td>\n",
       "      <td>F</td>\n",
       "      <td>...</td>\n",
       "      <td>White shark</td>\n",
       "      <td>R. Collier, GSAF</td>\n",
       "      <td>2018.06.25-Wolfe.pdf</td>\n",
       "      <td>http://sharkattackfile.net/spreadsheets/pdf_di...</td>\n",
       "      <td>http://sharkattackfile.net/spreadsheets/pdf_di...</td>\n",
       "      <td>2018.06.25</td>\n",
       "      <td>2018.06.25</td>\n",
       "      <td>6303.0</td>\n",
       "      <td>NaN</td>\n",
       "      <td>NaN</td>\n",
       "    </tr>\n",
       "    <tr>\n",
       "      <th>1</th>\n",
       "      <td>2018.06.18</td>\n",
       "      <td>18-Jun-2018</td>\n",
       "      <td>2018.0</td>\n",
       "      <td>Unprovoked</td>\n",
       "      <td>USA</td>\n",
       "      <td>Georgia</td>\n",
       "      <td>St. Simon Island, Glynn County</td>\n",
       "      <td>Standing</td>\n",
       "      <td>Adyson McNeely</td>\n",
       "      <td>F</td>\n",
       "      <td>...</td>\n",
       "      <td>NaN</td>\n",
       "      <td>K.McMurray, TrackingSharks.com</td>\n",
       "      <td>2018.06.18-McNeely.pdf</td>\n",
       "      <td>http://sharkattackfile.net/spreadsheets/pdf_di...</td>\n",
       "      <td>http://sharkattackfile.net/spreadsheets/pdf_di...</td>\n",
       "      <td>2018.06.18</td>\n",
       "      <td>2018.06.18</td>\n",
       "      <td>6302.0</td>\n",
       "      <td>NaN</td>\n",
       "      <td>NaN</td>\n",
       "    </tr>\n",
       "    <tr>\n",
       "      <th>2</th>\n",
       "      <td>2018.06.09</td>\n",
       "      <td>09-Jun-2018</td>\n",
       "      <td>2018.0</td>\n",
       "      <td>Invalid</td>\n",
       "      <td>USA</td>\n",
       "      <td>Hawaii</td>\n",
       "      <td>Habush, Oahu</td>\n",
       "      <td>Surfing</td>\n",
       "      <td>John Denges</td>\n",
       "      <td>M</td>\n",
       "      <td>...</td>\n",
       "      <td>NaN</td>\n",
       "      <td>K.McMurray, TrackingSharks.com</td>\n",
       "      <td>2018.06.09-Denges.pdf</td>\n",
       "      <td>http://sharkattackfile.net/spreadsheets/pdf_di...</td>\n",
       "      <td>http://sharkattackfile.net/spreadsheets/pdf_di...</td>\n",
       "      <td>2018.06.09</td>\n",
       "      <td>2018.06.09</td>\n",
       "      <td>6301.0</td>\n",
       "      <td>NaN</td>\n",
       "      <td>NaN</td>\n",
       "    </tr>\n",
       "    <tr>\n",
       "      <th>3</th>\n",
       "      <td>2018.06.08</td>\n",
       "      <td>08-Jun-2018</td>\n",
       "      <td>2018.0</td>\n",
       "      <td>Unprovoked</td>\n",
       "      <td>AUSTRALIA</td>\n",
       "      <td>New South Wales</td>\n",
       "      <td>Arrawarra Headland</td>\n",
       "      <td>Surfing</td>\n",
       "      <td>male</td>\n",
       "      <td>M</td>\n",
       "      <td>...</td>\n",
       "      <td>2 m shark</td>\n",
       "      <td>B. Myatt, GSAF</td>\n",
       "      <td>2018.06.08-Arrawarra.pdf</td>\n",
       "      <td>http://sharkattackfile.net/spreadsheets/pdf_di...</td>\n",
       "      <td>http://sharkattackfile.net/spreadsheets/pdf_di...</td>\n",
       "      <td>2018.06.08</td>\n",
       "      <td>2018.06.08</td>\n",
       "      <td>6300.0</td>\n",
       "      <td>NaN</td>\n",
       "      <td>NaN</td>\n",
       "    </tr>\n",
       "    <tr>\n",
       "      <th>4</th>\n",
       "      <td>2018.06.04</td>\n",
       "      <td>04-Jun-2018</td>\n",
       "      <td>2018.0</td>\n",
       "      <td>Provoked</td>\n",
       "      <td>MEXICO</td>\n",
       "      <td>Colima</td>\n",
       "      <td>La Ticla</td>\n",
       "      <td>Free diving</td>\n",
       "      <td>Gustavo Ramos</td>\n",
       "      <td>M</td>\n",
       "      <td>...</td>\n",
       "      <td>Tiger shark, 3m</td>\n",
       "      <td>A .Kipper</td>\n",
       "      <td>2018.06.04-Ramos.pdf</td>\n",
       "      <td>http://sharkattackfile.net/spreadsheets/pdf_di...</td>\n",
       "      <td>http://sharkattackfile.net/spreadsheets/pdf_di...</td>\n",
       "      <td>2018.06.04</td>\n",
       "      <td>2018.06.04</td>\n",
       "      <td>6299.0</td>\n",
       "      <td>NaN</td>\n",
       "      <td>NaN</td>\n",
       "    </tr>\n",
       "  </tbody>\n",
       "</table>\n",
       "<p>5 rows × 24 columns</p>\n",
       "</div>"
      ],
      "text/plain": [
       "  Case Number         Date    Year        Type    Country             Area  \\\n",
       "0  2018.06.25  25-Jun-2018  2018.0     Boating        USA       California   \n",
       "1  2018.06.18  18-Jun-2018  2018.0  Unprovoked        USA          Georgia   \n",
       "2  2018.06.09  09-Jun-2018  2018.0     Invalid        USA           Hawaii   \n",
       "3  2018.06.08  08-Jun-2018  2018.0  Unprovoked  AUSTRALIA  New South Wales   \n",
       "4  2018.06.04  04-Jun-2018  2018.0    Provoked     MEXICO           Colima   \n",
       "\n",
       "                         Location     Activity             Name Sex   ...  \\\n",
       "0     Oceanside, San Diego County     Paddling      Julie Wolfe    F  ...   \n",
       "1  St. Simon Island, Glynn County     Standing  Adyson McNeely     F  ...   \n",
       "2                    Habush, Oahu      Surfing      John Denges    M  ...   \n",
       "3              Arrawarra Headland      Surfing             male    M  ...   \n",
       "4                        La Ticla  Free diving   Gustavo Ramos     M  ...   \n",
       "\n",
       "          Species           Investigator or Source                       pdf  \\\n",
       "0      White shark                R. Collier, GSAF      2018.06.25-Wolfe.pdf   \n",
       "1              NaN  K.McMurray, TrackingSharks.com    2018.06.18-McNeely.pdf   \n",
       "2              NaN  K.McMurray, TrackingSharks.com     2018.06.09-Denges.pdf   \n",
       "3        2 m shark                  B. Myatt, GSAF  2018.06.08-Arrawarra.pdf   \n",
       "4  Tiger shark, 3m                       A .Kipper      2018.06.04-Ramos.pdf   \n",
       "\n",
       "                                        href formula  \\\n",
       "0  http://sharkattackfile.net/spreadsheets/pdf_di...   \n",
       "1  http://sharkattackfile.net/spreadsheets/pdf_di...   \n",
       "2  http://sharkattackfile.net/spreadsheets/pdf_di...   \n",
       "3  http://sharkattackfile.net/spreadsheets/pdf_di...   \n",
       "4  http://sharkattackfile.net/spreadsheets/pdf_di...   \n",
       "\n",
       "                                                href Case Number.1  \\\n",
       "0  http://sharkattackfile.net/spreadsheets/pdf_di...    2018.06.25   \n",
       "1  http://sharkattackfile.net/spreadsheets/pdf_di...    2018.06.18   \n",
       "2  http://sharkattackfile.net/spreadsheets/pdf_di...    2018.06.09   \n",
       "3  http://sharkattackfile.net/spreadsheets/pdf_di...    2018.06.08   \n",
       "4  http://sharkattackfile.net/spreadsheets/pdf_di...    2018.06.04   \n",
       "\n",
       "  Case Number.2 original order Unnamed: 22 Unnamed: 23  \n",
       "0    2018.06.25         6303.0         NaN         NaN  \n",
       "1    2018.06.18         6302.0         NaN         NaN  \n",
       "2    2018.06.09         6301.0         NaN         NaN  \n",
       "3    2018.06.08         6300.0         NaN         NaN  \n",
       "4    2018.06.04         6299.0         NaN         NaN  \n",
       "\n",
       "[5 rows x 24 columns]"
      ]
     },
     "execution_count": 148,
     "metadata": {},
     "output_type": "execute_result"
    }
   ],
   "source": [
    "df.head()"
   ]
  },
  {
   "cell_type": "code",
   "execution_count": 149,
   "metadata": {},
   "outputs": [
    {
     "data": {
      "text/html": [
       "<div>\n",
       "<style scoped>\n",
       "    .dataframe tbody tr th:only-of-type {\n",
       "        vertical-align: middle;\n",
       "    }\n",
       "\n",
       "    .dataframe tbody tr th {\n",
       "        vertical-align: top;\n",
       "    }\n",
       "\n",
       "    .dataframe thead th {\n",
       "        text-align: right;\n",
       "    }\n",
       "</style>\n",
       "<table border=\"1\" class=\"dataframe\">\n",
       "  <thead>\n",
       "    <tr style=\"text-align: right;\">\n",
       "      <th></th>\n",
       "      <th>Case Number</th>\n",
       "      <th>Date</th>\n",
       "      <th>Year</th>\n",
       "      <th>Type</th>\n",
       "      <th>Country</th>\n",
       "      <th>Area</th>\n",
       "      <th>Location</th>\n",
       "      <th>Activity</th>\n",
       "      <th>Name</th>\n",
       "      <th>Sex</th>\n",
       "      <th>...</th>\n",
       "      <th>Species</th>\n",
       "      <th>Investigator or Source</th>\n",
       "      <th>pdf</th>\n",
       "      <th>href formula</th>\n",
       "      <th>href</th>\n",
       "      <th>Case Number.1</th>\n",
       "      <th>Case Number.2</th>\n",
       "      <th>original order</th>\n",
       "      <th>Unnamed: 22</th>\n",
       "      <th>Unnamed: 23</th>\n",
       "    </tr>\n",
       "  </thead>\n",
       "  <tbody>\n",
       "    <tr>\n",
       "      <th>25718</th>\n",
       "      <td>NaN</td>\n",
       "      <td>NaN</td>\n",
       "      <td>NaN</td>\n",
       "      <td>NaN</td>\n",
       "      <td>NaN</td>\n",
       "      <td>NaN</td>\n",
       "      <td>NaN</td>\n",
       "      <td>NaN</td>\n",
       "      <td>NaN</td>\n",
       "      <td>NaN</td>\n",
       "      <td>...</td>\n",
       "      <td>NaN</td>\n",
       "      <td>NaN</td>\n",
       "      <td>NaN</td>\n",
       "      <td>NaN</td>\n",
       "      <td>NaN</td>\n",
       "      <td>NaN</td>\n",
       "      <td>NaN</td>\n",
       "      <td>NaN</td>\n",
       "      <td>NaN</td>\n",
       "      <td>NaN</td>\n",
       "    </tr>\n",
       "    <tr>\n",
       "      <th>25719</th>\n",
       "      <td>NaN</td>\n",
       "      <td>NaN</td>\n",
       "      <td>NaN</td>\n",
       "      <td>NaN</td>\n",
       "      <td>NaN</td>\n",
       "      <td>NaN</td>\n",
       "      <td>NaN</td>\n",
       "      <td>NaN</td>\n",
       "      <td>NaN</td>\n",
       "      <td>NaN</td>\n",
       "      <td>...</td>\n",
       "      <td>NaN</td>\n",
       "      <td>NaN</td>\n",
       "      <td>NaN</td>\n",
       "      <td>NaN</td>\n",
       "      <td>NaN</td>\n",
       "      <td>NaN</td>\n",
       "      <td>NaN</td>\n",
       "      <td>NaN</td>\n",
       "      <td>NaN</td>\n",
       "      <td>NaN</td>\n",
       "    </tr>\n",
       "    <tr>\n",
       "      <th>25720</th>\n",
       "      <td>NaN</td>\n",
       "      <td>NaN</td>\n",
       "      <td>NaN</td>\n",
       "      <td>NaN</td>\n",
       "      <td>NaN</td>\n",
       "      <td>NaN</td>\n",
       "      <td>NaN</td>\n",
       "      <td>NaN</td>\n",
       "      <td>NaN</td>\n",
       "      <td>NaN</td>\n",
       "      <td>...</td>\n",
       "      <td>NaN</td>\n",
       "      <td>NaN</td>\n",
       "      <td>NaN</td>\n",
       "      <td>NaN</td>\n",
       "      <td>NaN</td>\n",
       "      <td>NaN</td>\n",
       "      <td>NaN</td>\n",
       "      <td>NaN</td>\n",
       "      <td>NaN</td>\n",
       "      <td>NaN</td>\n",
       "    </tr>\n",
       "    <tr>\n",
       "      <th>25721</th>\n",
       "      <td>NaN</td>\n",
       "      <td>NaN</td>\n",
       "      <td>NaN</td>\n",
       "      <td>NaN</td>\n",
       "      <td>NaN</td>\n",
       "      <td>NaN</td>\n",
       "      <td>NaN</td>\n",
       "      <td>NaN</td>\n",
       "      <td>NaN</td>\n",
       "      <td>NaN</td>\n",
       "      <td>...</td>\n",
       "      <td>NaN</td>\n",
       "      <td>NaN</td>\n",
       "      <td>NaN</td>\n",
       "      <td>NaN</td>\n",
       "      <td>NaN</td>\n",
       "      <td>NaN</td>\n",
       "      <td>NaN</td>\n",
       "      <td>NaN</td>\n",
       "      <td>NaN</td>\n",
       "      <td>NaN</td>\n",
       "    </tr>\n",
       "    <tr>\n",
       "      <th>25722</th>\n",
       "      <td>xx</td>\n",
       "      <td>NaN</td>\n",
       "      <td>NaN</td>\n",
       "      <td>NaN</td>\n",
       "      <td>NaN</td>\n",
       "      <td>NaN</td>\n",
       "      <td>NaN</td>\n",
       "      <td>NaN</td>\n",
       "      <td>NaN</td>\n",
       "      <td>NaN</td>\n",
       "      <td>...</td>\n",
       "      <td>NaN</td>\n",
       "      <td>NaN</td>\n",
       "      <td>NaN</td>\n",
       "      <td>NaN</td>\n",
       "      <td>NaN</td>\n",
       "      <td>NaN</td>\n",
       "      <td>NaN</td>\n",
       "      <td>NaN</td>\n",
       "      <td>NaN</td>\n",
       "      <td>NaN</td>\n",
       "    </tr>\n",
       "  </tbody>\n",
       "</table>\n",
       "<p>5 rows × 24 columns</p>\n",
       "</div>"
      ],
      "text/plain": [
       "      Case Number Date  Year Type Country Area Location Activity Name Sex   \\\n",
       "25718         NaN  NaN   NaN  NaN     NaN  NaN      NaN      NaN  NaN  NaN   \n",
       "25719         NaN  NaN   NaN  NaN     NaN  NaN      NaN      NaN  NaN  NaN   \n",
       "25720         NaN  NaN   NaN  NaN     NaN  NaN      NaN      NaN  NaN  NaN   \n",
       "25721         NaN  NaN   NaN  NaN     NaN  NaN      NaN      NaN  NaN  NaN   \n",
       "25722          xx  NaN   NaN  NaN     NaN  NaN      NaN      NaN  NaN  NaN   \n",
       "\n",
       "       ... Species  Investigator or Source  pdf href formula href  \\\n",
       "25718  ...      NaN                    NaN  NaN          NaN  NaN   \n",
       "25719  ...      NaN                    NaN  NaN          NaN  NaN   \n",
       "25720  ...      NaN                    NaN  NaN          NaN  NaN   \n",
       "25721  ...      NaN                    NaN  NaN          NaN  NaN   \n",
       "25722  ...      NaN                    NaN  NaN          NaN  NaN   \n",
       "\n",
       "      Case Number.1 Case Number.2 original order Unnamed: 22 Unnamed: 23  \n",
       "25718           NaN           NaN            NaN         NaN         NaN  \n",
       "25719           NaN           NaN            NaN         NaN         NaN  \n",
       "25720           NaN           NaN            NaN         NaN         NaN  \n",
       "25721           NaN           NaN            NaN         NaN         NaN  \n",
       "25722           NaN           NaN            NaN         NaN         NaN  \n",
       "\n",
       "[5 rows x 24 columns]"
      ]
     },
     "execution_count": 149,
     "metadata": {},
     "output_type": "execute_result"
    }
   ],
   "source": [
    "df.tail()"
   ]
  },
  {
   "cell_type": "code",
   "execution_count": 150,
   "metadata": {},
   "outputs": [
    {
     "data": {
      "text/html": [
       "<div>\n",
       "<style scoped>\n",
       "    .dataframe tbody tr th:only-of-type {\n",
       "        vertical-align: middle;\n",
       "    }\n",
       "\n",
       "    .dataframe tbody tr th {\n",
       "        vertical-align: top;\n",
       "    }\n",
       "\n",
       "    .dataframe thead th {\n",
       "        text-align: right;\n",
       "    }\n",
       "</style>\n",
       "<table border=\"1\" class=\"dataframe\">\n",
       "  <thead>\n",
       "    <tr style=\"text-align: right;\">\n",
       "      <th></th>\n",
       "      <th>Case Number</th>\n",
       "      <th>Date</th>\n",
       "      <th>Year</th>\n",
       "      <th>Type</th>\n",
       "      <th>Country</th>\n",
       "      <th>Area</th>\n",
       "      <th>Location</th>\n",
       "      <th>Activity</th>\n",
       "      <th>Name</th>\n",
       "      <th>Sex</th>\n",
       "      <th>...</th>\n",
       "      <th>Species</th>\n",
       "      <th>Investigator or Source</th>\n",
       "      <th>pdf</th>\n",
       "      <th>href formula</th>\n",
       "      <th>href</th>\n",
       "      <th>Case Number.1</th>\n",
       "      <th>Case Number.2</th>\n",
       "      <th>original order</th>\n",
       "      <th>Unnamed: 22</th>\n",
       "      <th>Unnamed: 23</th>\n",
       "    </tr>\n",
       "  </thead>\n",
       "  <tbody>\n",
       "    <tr>\n",
       "      <th>18612</th>\n",
       "      <td>NaN</td>\n",
       "      <td>NaN</td>\n",
       "      <td>NaN</td>\n",
       "      <td>NaN</td>\n",
       "      <td>NaN</td>\n",
       "      <td>NaN</td>\n",
       "      <td>NaN</td>\n",
       "      <td>NaN</td>\n",
       "      <td>NaN</td>\n",
       "      <td>NaN</td>\n",
       "      <td>...</td>\n",
       "      <td>NaN</td>\n",
       "      <td>NaN</td>\n",
       "      <td>NaN</td>\n",
       "      <td>NaN</td>\n",
       "      <td>NaN</td>\n",
       "      <td>NaN</td>\n",
       "      <td>NaN</td>\n",
       "      <td>NaN</td>\n",
       "      <td>NaN</td>\n",
       "      <td>NaN</td>\n",
       "    </tr>\n",
       "    <tr>\n",
       "      <th>22667</th>\n",
       "      <td>NaN</td>\n",
       "      <td>NaN</td>\n",
       "      <td>NaN</td>\n",
       "      <td>NaN</td>\n",
       "      <td>NaN</td>\n",
       "      <td>NaN</td>\n",
       "      <td>NaN</td>\n",
       "      <td>NaN</td>\n",
       "      <td>NaN</td>\n",
       "      <td>NaN</td>\n",
       "      <td>...</td>\n",
       "      <td>NaN</td>\n",
       "      <td>NaN</td>\n",
       "      <td>NaN</td>\n",
       "      <td>NaN</td>\n",
       "      <td>NaN</td>\n",
       "      <td>NaN</td>\n",
       "      <td>NaN</td>\n",
       "      <td>NaN</td>\n",
       "      <td>NaN</td>\n",
       "      <td>NaN</td>\n",
       "    </tr>\n",
       "    <tr>\n",
       "      <th>11076</th>\n",
       "      <td>NaN</td>\n",
       "      <td>NaN</td>\n",
       "      <td>NaN</td>\n",
       "      <td>NaN</td>\n",
       "      <td>NaN</td>\n",
       "      <td>NaN</td>\n",
       "      <td>NaN</td>\n",
       "      <td>NaN</td>\n",
       "      <td>NaN</td>\n",
       "      <td>NaN</td>\n",
       "      <td>...</td>\n",
       "      <td>NaN</td>\n",
       "      <td>NaN</td>\n",
       "      <td>NaN</td>\n",
       "      <td>NaN</td>\n",
       "      <td>NaN</td>\n",
       "      <td>NaN</td>\n",
       "      <td>NaN</td>\n",
       "      <td>NaN</td>\n",
       "      <td>NaN</td>\n",
       "      <td>NaN</td>\n",
       "    </tr>\n",
       "    <tr>\n",
       "      <th>24730</th>\n",
       "      <td>NaN</td>\n",
       "      <td>NaN</td>\n",
       "      <td>NaN</td>\n",
       "      <td>NaN</td>\n",
       "      <td>NaN</td>\n",
       "      <td>NaN</td>\n",
       "      <td>NaN</td>\n",
       "      <td>NaN</td>\n",
       "      <td>NaN</td>\n",
       "      <td>NaN</td>\n",
       "      <td>...</td>\n",
       "      <td>NaN</td>\n",
       "      <td>NaN</td>\n",
       "      <td>NaN</td>\n",
       "      <td>NaN</td>\n",
       "      <td>NaN</td>\n",
       "      <td>NaN</td>\n",
       "      <td>NaN</td>\n",
       "      <td>NaN</td>\n",
       "      <td>NaN</td>\n",
       "      <td>NaN</td>\n",
       "    </tr>\n",
       "    <tr>\n",
       "      <th>21108</th>\n",
       "      <td>NaN</td>\n",
       "      <td>NaN</td>\n",
       "      <td>NaN</td>\n",
       "      <td>NaN</td>\n",
       "      <td>NaN</td>\n",
       "      <td>NaN</td>\n",
       "      <td>NaN</td>\n",
       "      <td>NaN</td>\n",
       "      <td>NaN</td>\n",
       "      <td>NaN</td>\n",
       "      <td>...</td>\n",
       "      <td>NaN</td>\n",
       "      <td>NaN</td>\n",
       "      <td>NaN</td>\n",
       "      <td>NaN</td>\n",
       "      <td>NaN</td>\n",
       "      <td>NaN</td>\n",
       "      <td>NaN</td>\n",
       "      <td>NaN</td>\n",
       "      <td>NaN</td>\n",
       "      <td>NaN</td>\n",
       "    </tr>\n",
       "  </tbody>\n",
       "</table>\n",
       "<p>5 rows × 24 columns</p>\n",
       "</div>"
      ],
      "text/plain": [
       "      Case Number Date  Year Type Country Area Location Activity Name Sex   \\\n",
       "18612         NaN  NaN   NaN  NaN     NaN  NaN      NaN      NaN  NaN  NaN   \n",
       "22667         NaN  NaN   NaN  NaN     NaN  NaN      NaN      NaN  NaN  NaN   \n",
       "11076         NaN  NaN   NaN  NaN     NaN  NaN      NaN      NaN  NaN  NaN   \n",
       "24730         NaN  NaN   NaN  NaN     NaN  NaN      NaN      NaN  NaN  NaN   \n",
       "21108         NaN  NaN   NaN  NaN     NaN  NaN      NaN      NaN  NaN  NaN   \n",
       "\n",
       "       ... Species  Investigator or Source  pdf href formula href  \\\n",
       "18612  ...      NaN                    NaN  NaN          NaN  NaN   \n",
       "22667  ...      NaN                    NaN  NaN          NaN  NaN   \n",
       "11076  ...      NaN                    NaN  NaN          NaN  NaN   \n",
       "24730  ...      NaN                    NaN  NaN          NaN  NaN   \n",
       "21108  ...      NaN                    NaN  NaN          NaN  NaN   \n",
       "\n",
       "      Case Number.1 Case Number.2 original order Unnamed: 22 Unnamed: 23  \n",
       "18612           NaN           NaN            NaN         NaN         NaN  \n",
       "22667           NaN           NaN            NaN         NaN         NaN  \n",
       "11076           NaN           NaN            NaN         NaN         NaN  \n",
       "24730           NaN           NaN            NaN         NaN         NaN  \n",
       "21108           NaN           NaN            NaN         NaN         NaN  \n",
       "\n",
       "[5 rows x 24 columns]"
      ]
     },
     "execution_count": 150,
     "metadata": {},
     "output_type": "execute_result"
    }
   ],
   "source": [
    "df.sample(5)"
   ]
  },
  {
   "cell_type": "code",
   "execution_count": 151,
   "metadata": {},
   "outputs": [
    {
     "data": {
      "text/plain": [
       "Index(['Case Number', 'Date', 'Year', 'Type', 'Country', 'Area', 'Location',\n",
       "       'Activity', 'Name', 'Sex ', 'Age', 'Injury', 'Fatal (Y/N)', 'Time',\n",
       "       'Species ', 'Investigator or Source', 'pdf', 'href formula', 'href',\n",
       "       'Case Number.1', 'Case Number.2', 'original order', 'Unnamed: 22',\n",
       "       'Unnamed: 23'],\n",
       "      dtype='object')"
      ]
     },
     "execution_count": 151,
     "metadata": {},
     "output_type": "execute_result"
    }
   ],
   "source": [
    "df.columns"
   ]
  },
  {
   "cell_type": "code",
   "execution_count": 152,
   "metadata": {},
   "outputs": [
    {
     "data": {
      "text/plain": [
       "Case Number                object\n",
       "Date                       object\n",
       "Year                      float64\n",
       "Type                       object\n",
       "Country                    object\n",
       "Area                       object\n",
       "Location                   object\n",
       "Activity                   object\n",
       "Name                       object\n",
       "Sex                        object\n",
       "Age                        object\n",
       "Injury                     object\n",
       "Fatal (Y/N)                object\n",
       "Time                       object\n",
       "Species                    object\n",
       "Investigator or Source     object\n",
       "pdf                        object\n",
       "href formula               object\n",
       "href                       object\n",
       "Case Number.1              object\n",
       "Case Number.2              object\n",
       "original order            float64\n",
       "Unnamed: 22                object\n",
       "Unnamed: 23                object\n",
       "dtype: object"
      ]
     },
     "execution_count": 152,
     "metadata": {},
     "output_type": "execute_result"
    }
   ],
   "source": [
    "df.dtypes"
   ]
  },
  {
   "cell_type": "code",
   "execution_count": 153,
   "metadata": {},
   "outputs": [
    {
     "data": {
      "text/plain": [
       "(25723, 24)"
      ]
     },
     "execution_count": 153,
     "metadata": {},
     "output_type": "execute_result"
    }
   ],
   "source": [
    "df.shape"
   ]
  },
  {
   "cell_type": "code",
   "execution_count": 154,
   "metadata": {},
   "outputs": [
    {
     "name": "stdout",
     "output_type": "stream",
     "text": [
      "<class 'pandas.core.frame.DataFrame'>\n",
      "RangeIndex: 25723 entries, 0 to 25722\n",
      "Data columns (total 24 columns):\n",
      " #   Column                  Non-Null Count  Dtype  \n",
      "---  ------                  --------------  -----  \n",
      " 0   Case Number             8702 non-null   object \n",
      " 1   Date                    6302 non-null   object \n",
      " 2   Year                    6300 non-null   float64\n",
      " 3   Type                    6298 non-null   object \n",
      " 4   Country                 6252 non-null   object \n",
      " 5   Area                    5847 non-null   object \n",
      " 6   Location                5762 non-null   object \n",
      " 7   Activity                5758 non-null   object \n",
      " 8   Name                    6092 non-null   object \n",
      " 9   Sex                     5737 non-null   object \n",
      " 10  Age                     3471 non-null   object \n",
      " 11  Injury                  6274 non-null   object \n",
      " 12  Fatal (Y/N)             5763 non-null   object \n",
      " 13  Time                    2948 non-null   object \n",
      " 14  Species                 3464 non-null   object \n",
      " 15  Investigator or Source  6285 non-null   object \n",
      " 16  pdf                     6302 non-null   object \n",
      " 17  href formula            6301 non-null   object \n",
      " 18  href                    6302 non-null   object \n",
      " 19  Case Number.1           6302 non-null   object \n",
      " 20  Case Number.2           6302 non-null   object \n",
      " 21  original order          6309 non-null   float64\n",
      " 22  Unnamed: 22             1 non-null      object \n",
      " 23  Unnamed: 23             2 non-null      object \n",
      "dtypes: float64(2), object(22)\n",
      "memory usage: 4.7+ MB\n"
     ]
    }
   ],
   "source": [
    "df.info()"
   ]
  },
  {
   "cell_type": "code",
   "execution_count": 155,
   "metadata": {},
   "outputs": [
    {
     "data": {
      "text/html": [
       "<div>\n",
       "<style scoped>\n",
       "    .dataframe tbody tr th:only-of-type {\n",
       "        vertical-align: middle;\n",
       "    }\n",
       "\n",
       "    .dataframe tbody tr th {\n",
       "        vertical-align: top;\n",
       "    }\n",
       "\n",
       "    .dataframe thead th {\n",
       "        text-align: right;\n",
       "    }\n",
       "</style>\n",
       "<table border=\"1\" class=\"dataframe\">\n",
       "  <thead>\n",
       "    <tr style=\"text-align: right;\">\n",
       "      <th></th>\n",
       "      <th>Year</th>\n",
       "      <th>original order</th>\n",
       "    </tr>\n",
       "  </thead>\n",
       "  <tbody>\n",
       "    <tr>\n",
       "      <th>count</th>\n",
       "      <td>6300.000000</td>\n",
       "      <td>6309.000000</td>\n",
       "    </tr>\n",
       "    <tr>\n",
       "      <th>mean</th>\n",
       "      <td>1927.272381</td>\n",
       "      <td>3155.999683</td>\n",
       "    </tr>\n",
       "    <tr>\n",
       "      <th>std</th>\n",
       "      <td>281.116308</td>\n",
       "      <td>1821.396206</td>\n",
       "    </tr>\n",
       "    <tr>\n",
       "      <th>min</th>\n",
       "      <td>0.000000</td>\n",
       "      <td>2.000000</td>\n",
       "    </tr>\n",
       "    <tr>\n",
       "      <th>25%</th>\n",
       "      <td>1942.000000</td>\n",
       "      <td>1579.000000</td>\n",
       "    </tr>\n",
       "    <tr>\n",
       "      <th>50%</th>\n",
       "      <td>1977.000000</td>\n",
       "      <td>3156.000000</td>\n",
       "    </tr>\n",
       "    <tr>\n",
       "      <th>75%</th>\n",
       "      <td>2005.000000</td>\n",
       "      <td>4733.000000</td>\n",
       "    </tr>\n",
       "    <tr>\n",
       "      <th>max</th>\n",
       "      <td>2018.000000</td>\n",
       "      <td>6310.000000</td>\n",
       "    </tr>\n",
       "  </tbody>\n",
       "</table>\n",
       "</div>"
      ],
      "text/plain": [
       "              Year  original order\n",
       "count  6300.000000     6309.000000\n",
       "mean   1927.272381     3155.999683\n",
       "std     281.116308     1821.396206\n",
       "min       0.000000        2.000000\n",
       "25%    1942.000000     1579.000000\n",
       "50%    1977.000000     3156.000000\n",
       "75%    2005.000000     4733.000000\n",
       "max    2018.000000     6310.000000"
      ]
     },
     "execution_count": 155,
     "metadata": {},
     "output_type": "execute_result"
    }
   ],
   "source": [
    "df.describe()"
   ]
  },
  {
   "cell_type": "code",
   "execution_count": 156,
   "metadata": {},
   "outputs": [
    {
     "data": {
      "text/plain": [
       "Case Number               6287\n",
       "Date                      5433\n",
       "Year                       249\n",
       "Type                         8\n",
       "Country                    212\n",
       "Area                       825\n",
       "Location                  4108\n",
       "Activity                  1532\n",
       "Name                      5230\n",
       "Sex                          6\n",
       "Age                        157\n",
       "Injury                    3737\n",
       "Fatal (Y/N)                  8\n",
       "Time                       366\n",
       "Species                   1549\n",
       "Investigator or Source    4969\n",
       "pdf                       6291\n",
       "href formula              6290\n",
       "href                      6285\n",
       "Case Number.1             6285\n",
       "Case Number.2             6286\n",
       "original order            6308\n",
       "Unnamed: 22                  1\n",
       "Unnamed: 23                  2\n",
       "dtype: int64"
      ]
     },
     "execution_count": 156,
     "metadata": {},
     "output_type": "execute_result"
    }
   ],
   "source": [
    "df.nunique()"
   ]
  },
  {
   "cell_type": "markdown",
   "metadata": {},
   "source": [
    "# SHARKS\n",
    "1. Cual es el tipo de ataque mas comun?\n",
    "2. Cual es el tiburon mas comun?\n",
    "3. Cual es la actividad mas comun?"
   ]
  },
  {
   "cell_type": "code",
   "execution_count": 157,
   "metadata": {},
   "outputs": [
    {
     "data": {
      "text/plain": [
       "Unprovoked      4595\n",
       "Provoked         574\n",
       "Invalid          547\n",
       "Sea Disaster     239\n",
       "Boating          203\n",
       "Boat             137\n",
       "Questionable       2\n",
       "Boatomg            1\n",
       "Name: Type, dtype: int64"
      ]
     },
     "execution_count": 157,
     "metadata": {},
     "output_type": "execute_result"
    }
   ],
   "source": [
    "df[\"Type\"].value_counts()   #Tipo de ataque mas comun? Veo por type de ataque los value counts"
   ]
  },
  {
   "cell_type": "code",
   "execution_count": 158,
   "metadata": {},
   "outputs": [
    {
     "data": {
      "text/plain": [
       "White shark                                                                                                                      163\n",
       "Shark involvement prior to death was not confirmed                                                                               105\n",
       "Invalid                                                                                                                          102\n",
       "Shark involvement not confirmed                                                                                                   88\n",
       "Tiger shark                                                                                                                       73\n",
       "                                                                                                                                ... \n",
       "1.2 m to 1.5 m [4.5' to 5'] shark                                                                                                  1\n",
       "Bull shark, 2.3 m [7.5']                                                                                                           1\n",
       "0.9 m  [3'] shark                                                                                                                  1\n",
       "Mako shark, 14'                                                                                                                    1\n",
       "Said to involve a grey nurse shark that leapt out of the water and  seized the boy but species identification is questionable      1\n",
       "Name: Species , Length: 1549, dtype: int64"
      ]
     },
     "execution_count": 158,
     "metadata": {},
     "output_type": "execute_result"
    }
   ],
   "source": [
    "df[\"Species \"].value_counts()   # Cual es la specie de tiburon mas comun?"
   ]
  },
  {
   "cell_type": "code",
   "execution_count": 159,
   "metadata": {},
   "outputs": [
    {
     "data": {
      "text/plain": [
       "Surfing                                   971\n",
       "Swimming                                  869\n",
       "Fishing                                   431\n",
       "Spearfishing                              333\n",
       "Bathing                                   162\n",
       "                                         ... \n",
       "Playing with a frisbee in the shallows      1\n",
       "Sinking of the ferryboat Dumaguete          1\n",
       "Wreck of the Storm King                     1\n",
       "Feeding mullet to sharks                    1\n",
       "Wreck of  large double sailing canoe        1\n",
       "Name: Activity, Length: 1532, dtype: int64"
      ]
     },
     "execution_count": 159,
     "metadata": {},
     "output_type": "execute_result"
    }
   ],
   "source": [
    "df[\"Activity\"].value_counts()   # Actividad mas comun?"
   ]
  },
  {
   "cell_type": "markdown",
   "metadata": {},
   "source": [
    "### Limpio Data"
   ]
  },
  {
   "cell_type": "code",
   "execution_count": 160,
   "metadata": {},
   "outputs": [
    {
     "data": {
      "text/plain": [
       "Case Number               17021\n",
       "Date                      19421\n",
       "Year                      19423\n",
       "Type                      19425\n",
       "Country                   19471\n",
       "Area                      19876\n",
       "Location                  19961\n",
       "Activity                  19965\n",
       "Name                      19631\n",
       "Sex                       19986\n",
       "Age                       22252\n",
       "Injury                    19449\n",
       "Fatal (Y/N)               19960\n",
       "Time                      22775\n",
       "Species                   22259\n",
       "Investigator or Source    19438\n",
       "pdf                       19421\n",
       "href formula              19422\n",
       "href                      19421\n",
       "Case Number.1             19421\n",
       "Case Number.2             19421\n",
       "original order            19414\n",
       "Unnamed: 22               25722\n",
       "Unnamed: 23               25721\n",
       "dtype: int64"
      ]
     },
     "execution_count": 160,
     "metadata": {},
     "output_type": "execute_result"
    }
   ],
   "source": [
    "df.isna().sum() # Display missing values"
   ]
  },
  {
   "cell_type": "code",
   "execution_count": 161,
   "metadata": {},
   "outputs": [
    {
     "data": {
      "text/plain": [
       "Species                                                         Type      \n",
       "                                                                Unprovoked    6\n",
       " \"gummy\" shark (Rhizoprionodon or Loxodon) 1.2 m [4']           Unprovoked    1\n",
       " 1.5 m [5'] dusky shark                                         Provoked      1\n",
       " 6' to 8' shark                                                 Unprovoked    1\n",
       " Blacktip shark, C. maculipinnis. 1.9 m to 2.1 m [6.5' to 7']   Unprovoked    1\n",
       "                                                                             ..\n",
       "unknown, possibly a white shark                                 Boating       1\n",
       "whaler shark                                                    Provoked      1\n",
       "white shark                                                     Provoked      1\n",
       "small brown shark                                             Unprovoked    1\n",
       "                                                                Unprovoked    2\n",
       "Name: Type, Length: 1740, dtype: int64"
      ]
     },
     "execution_count": 161,
     "metadata": {},
     "output_type": "execute_result"
    }
   ],
   "source": [
    "# 1. Cual es el tipo de ataque mas comun por specie?\n",
    "df.groupby(\"Species \")[\"Type\"].value_counts()"
   ]
  },
  {
   "cell_type": "code",
   "execution_count": 162,
   "metadata": {},
   "outputs": [
    {
     "data": {
      "text/plain": [
       "Activity                                                                        Type        \n",
       "                                                                                Provoked        1\n",
       "                                                                                Boating         1\n",
       " a canoe was pursuing a schooner that had forcibily abducted 5 young girls      Unprovoked      1\n",
       "\"Boat accident\"                                                                 Unprovoked      1\n",
       "\"Climbing up to ship after repairing the stern in water\"                        Unprovoked      1\n",
       "                                                                                               ..\n",
       "ship torpedoed 400 miles off the African coas. Man was clinging to hatch cover  Sea Disaster    1\n",
       "small boat                                                                      Invalid         1\n",
       "wreck of the State Oil Company ship Permina                                     Sea Disaster    1\n",
       "yachting accident                                                               Sea Disaster    1\n",
       "yachtsman in a zodiac                                                           Unprovoked      1\n",
       "Name: Type, Length: 1678, dtype: int64"
      ]
     },
     "execution_count": 162,
     "metadata": {},
     "output_type": "execute_result"
    }
   ],
   "source": [
    "# 2. Cuál es el tipo de ataque más común por actividad?\n",
    "df.groupby(\"Activity\")[\"Type\"].value_counts()"
   ]
  },
  {
   "cell_type": "code",
   "execution_count": 163,
   "metadata": {},
   "outputs": [
    {
     "data": {
      "text/plain": [
       "Year    Type        \n",
       "0.0     Unprovoked      108\n",
       "        Provoked          7\n",
       "        Sea Disaster      6\n",
       "        Boat              2\n",
       "        Invalid           2\n",
       "                       ... \n",
       "2018.0  Unprovoked       40\n",
       "        Invalid           6\n",
       "        Provoked          4\n",
       "        Questionable      2\n",
       "        Boating           1\n",
       "Name: Type, Length: 757, dtype: int64"
      ]
     },
     "execution_count": 163,
     "metadata": {},
     "output_type": "execute_result"
    }
   ],
   "source": [
    "# 3. Cuál es el tipo de ataque más común por año?\n",
    "df.groupby(\"Year\")[\"Type\"].value_counts()"
   ]
  },
  {
   "cell_type": "code",
   "execution_count": 164,
   "metadata": {},
   "outputs": [
    {
     "data": {
      "text/plain": [
       "Country            Type        \n",
       " PHILIPPINES       Sea Disaster    1\n",
       " TONGA             Unprovoked      2\n",
       "                   Invalid         1\n",
       "ADMIRALTY ISLANDS  Unprovoked      1\n",
       "AFRICA             Unprovoked      1\n",
       "                                  ..\n",
       "WESTERN SAMOA      Unprovoked      1\n",
       "YEMEN              Unprovoked      2\n",
       "YEMEN              Unprovoked      5\n",
       "                   Invalid         1\n",
       "                   Sea Disaster    1\n",
       "Name: Type, Length: 437, dtype: int64"
      ]
     },
     "execution_count": 164,
     "metadata": {},
     "output_type": "execute_result"
    }
   ],
   "source": [
    "# 4. Cuál es el tipo de ataque más común por país?\n",
    "df.groupby(\"Country\")[\"Type\"].value_counts()"
   ]
  },
  {
   "cell_type": "code",
   "execution_count": 165,
   "metadata": {},
   "outputs": [
    {
     "data": {
      "text/plain": [
       "Area                        Type        \n",
       " Kikori River mouth         Provoked        1\n",
       " La Libertad                Provoked        1\n",
       " Lau Province               Unprovoked      1\n",
       " Loyalty Islands            Unprovoked      1\n",
       " Manila Bay                 Unprovoked      1\n",
       "                                           ..\n",
       "Zadar County                Unprovoked      2\n",
       "Zambesi River               Sea Disaster    1\n",
       "Zamboanga del Sur Province  Unprovoked      2\n",
       "                            Provoked        1\n",
       "dÉtang-Salé                Unprovoked      2\n",
       "Name: Type, Length: 1102, dtype: int64"
      ]
     },
     "execution_count": 165,
     "metadata": {},
     "output_type": "execute_result"
    }
   ],
   "source": [
    "# 4. Cuál es el tipo de ataque más común por area?\n",
    "df.groupby(\"Area\")[\"Type\"].value_counts()\n"
   ]
  },
  {
   "cell_type": "markdown",
   "metadata": {},
   "source": [
    "# Sacar/ cambiar columnas y mapeo de 0 y 1"
   ]
  },
  {
   "cell_type": "code",
   "execution_count": 166,
   "metadata": {},
   "outputs": [
    {
     "data": {
      "text/plain": [
       "['Unnamed: 22', 'Unnamed: 23']"
      ]
     },
     "execution_count": 166,
     "metadata": {},
     "output_type": "execute_result"
    }
   ],
   "source": [
    "[col for col in df.columns if \"Unnamed\" in col]     # Ver si hay Unnamed"
   ]
  },
  {
   "cell_type": "code",
   "execution_count": 167,
   "metadata": {},
   "outputs": [],
   "source": [
    "df.drop([col for col in df.columns if \"Unnamed\" in col],axis=1,inplace=True)    #Elimino las Unnamed"
   ]
  },
  {
   "cell_type": "markdown",
   "metadata": {},
   "source": [
    "## Cambio nombre columnas"
   ]
  },
  {
   "cell_type": "code",
   "execution_count": 168,
   "metadata": {},
   "outputs": [],
   "source": [
    "df.rename(columns={'v1':'label','v2':'message'},inplace=True) #Ejemplo de que se llamaban v1 y v2 y les ponngo otro nombre"
   ]
  },
  {
   "cell_type": "markdown",
   "metadata": {},
   "source": [
    "## Mapeo como 0 o 1 a variables que quiero medir"
   ]
  },
  {
   "cell_type": "code",
   "execution_count": 169,
   "metadata": {},
   "outputs": [
    {
     "ename": "AttributeError",
     "evalue": "'DataFrame' object has no attribute 'label'",
     "output_type": "error",
     "traceback": [
      "\u001b[1;31m---------------------------------------------------------------------------\u001b[0m",
      "\u001b[1;31mAttributeError\u001b[0m                            Traceback (most recent call last)",
      "\u001b[1;32mc:\\Users\\cvsob\\OneDrive\\Escritorio\\2do cuatri 2023\\UCEMA_2023\\INFO.IPYNB Cell 81\u001b[0m line \u001b[0;36m1\n\u001b[1;32m----> <a href='vscode-notebook-cell:/c%3A/Users/cvsob/OneDrive/Escritorio/2do%20cuatri%202023/UCEMA_2023/INFO.IPYNB#Y145sZmlsZQ%3D%3D?line=0'>1</a>\u001b[0m df[\u001b[39m'\u001b[39m\u001b[39mlabel_num\u001b[39m\u001b[39m'\u001b[39m] \u001b[39m=\u001b[39m df\u001b[39m.\u001b[39;49mlabel\u001b[39m.\u001b[39mmap({\u001b[39m'\u001b[39m\u001b[39mham\u001b[39m\u001b[39m'\u001b[39m:\u001b[39m0\u001b[39m, \u001b[39m'\u001b[39m\u001b[39mspam\u001b[39m\u001b[39m'\u001b[39m:\u001b[39m1\u001b[39m}) \u001b[39m# En el Dataframe de mensajes de texto que son spam o no, busco en la columna de label si es spam =1 sino =0 y me da una nueva columna\u001b[39;00m\n\u001b[0;32m      <a href='vscode-notebook-cell:/c%3A/Users/cvsob/OneDrive/Escritorio/2do%20cuatri%202023/UCEMA_2023/INFO.IPYNB#Y145sZmlsZQ%3D%3D?line=1'>2</a>\u001b[0m df\u001b[39m.\u001b[39mhead()\n",
      "File \u001b[1;32m~\\AppData\\Local\\Packages\\PythonSoftwareFoundation.Python.3.10_qbz5n2kfra8p0\\LocalCache\\local-packages\\Python310\\site-packages\\pandas\\core\\generic.py:5902\u001b[0m, in \u001b[0;36mNDFrame.__getattr__\u001b[1;34m(self, name)\u001b[0m\n\u001b[0;32m   5895\u001b[0m \u001b[39mif\u001b[39;00m (\n\u001b[0;32m   5896\u001b[0m     name \u001b[39mnot\u001b[39;00m \u001b[39min\u001b[39;00m \u001b[39mself\u001b[39m\u001b[39m.\u001b[39m_internal_names_set\n\u001b[0;32m   5897\u001b[0m     \u001b[39mand\u001b[39;00m name \u001b[39mnot\u001b[39;00m \u001b[39min\u001b[39;00m \u001b[39mself\u001b[39m\u001b[39m.\u001b[39m_metadata\n\u001b[0;32m   5898\u001b[0m     \u001b[39mand\u001b[39;00m name \u001b[39mnot\u001b[39;00m \u001b[39min\u001b[39;00m \u001b[39mself\u001b[39m\u001b[39m.\u001b[39m_accessors\n\u001b[0;32m   5899\u001b[0m     \u001b[39mand\u001b[39;00m \u001b[39mself\u001b[39m\u001b[39m.\u001b[39m_info_axis\u001b[39m.\u001b[39m_can_hold_identifiers_and_holds_name(name)\n\u001b[0;32m   5900\u001b[0m ):\n\u001b[0;32m   5901\u001b[0m     \u001b[39mreturn\u001b[39;00m \u001b[39mself\u001b[39m[name]\n\u001b[1;32m-> 5902\u001b[0m \u001b[39mreturn\u001b[39;00m \u001b[39mobject\u001b[39;49m\u001b[39m.\u001b[39;49m\u001b[39m__getattribute__\u001b[39;49m(\u001b[39mself\u001b[39;49m, name)\n",
      "\u001b[1;31mAttributeError\u001b[0m: 'DataFrame' object has no attribute 'label'"
     ]
    }
   ],
   "source": [
    "df['label_num'] = df.label.map({'ham':0, 'spam':1}) # En el Dataframe de mensajes de texto que son spam o no, busco en la columna de label si es spam =1 sino =0 y me da una nueva columna\n",
    "df.head()"
   ]
  },
  {
   "cell_type": "code",
   "execution_count": null,
   "metadata": {},
   "outputs": [],
   "source": [
    "df['message_len'] = df.message.apply(len)   #Agrego una columna con lo largo de los mensajes"
   ]
  },
  {
   "cell_type": "markdown",
   "metadata": {},
   "source": [
    "# COUNTRIES"
   ]
  },
  {
   "cell_type": "code",
   "execution_count": 170,
   "metadata": {},
   "outputs": [],
   "source": [
    "import pandas as pd"
   ]
  },
  {
   "cell_type": "code",
   "execution_count": 171,
   "metadata": {},
   "outputs": [],
   "source": [
    "df= pd.read_csv(\"countries.csv\")"
   ]
  },
  {
   "cell_type": "code",
   "execution_count": 172,
   "metadata": {},
   "outputs": [
    {
     "data": {
      "text/html": [
       "<div>\n",
       "<style scoped>\n",
       "    .dataframe tbody tr th:only-of-type {\n",
       "        vertical-align: middle;\n",
       "    }\n",
       "\n",
       "    .dataframe tbody tr th {\n",
       "        vertical-align: top;\n",
       "    }\n",
       "\n",
       "    .dataframe thead th {\n",
       "        text-align: right;\n",
       "    }\n",
       "</style>\n",
       "<table border=\"1\" class=\"dataframe\">\n",
       "  <thead>\n",
       "    <tr style=\"text-align: right;\">\n",
       "      <th></th>\n",
       "      <th>Country</th>\n",
       "      <th>Region</th>\n",
       "      <th>Population</th>\n",
       "      <th>Area (sq. mi.)</th>\n",
       "      <th>Pop. Density (per sq. mi.)</th>\n",
       "      <th>Coastline (coast/area ratio)</th>\n",
       "      <th>Net migration</th>\n",
       "      <th>Infant mortality (per 1000 births)</th>\n",
       "      <th>GDP ($ per capita)</th>\n",
       "      <th>Literacy (%)</th>\n",
       "      <th>Phones (per 1000)</th>\n",
       "      <th>Arable (%)</th>\n",
       "      <th>Crops (%)</th>\n",
       "      <th>Other (%)</th>\n",
       "      <th>Climate</th>\n",
       "      <th>Birthrate</th>\n",
       "      <th>Deathrate</th>\n",
       "      <th>Agriculture</th>\n",
       "      <th>Industry</th>\n",
       "      <th>Service</th>\n",
       "    </tr>\n",
       "  </thead>\n",
       "  <tbody>\n",
       "    <tr>\n",
       "      <th>0</th>\n",
       "      <td>Afghanistan</td>\n",
       "      <td>ASIA (EX. NEAR EAST)</td>\n",
       "      <td>31056997</td>\n",
       "      <td>647500</td>\n",
       "      <td>48,0</td>\n",
       "      <td>0,00</td>\n",
       "      <td>23,06</td>\n",
       "      <td>163,07</td>\n",
       "      <td>700.0</td>\n",
       "      <td>36,0</td>\n",
       "      <td>3,2</td>\n",
       "      <td>12,13</td>\n",
       "      <td>0,22</td>\n",
       "      <td>87,65</td>\n",
       "      <td>1</td>\n",
       "      <td>46,6</td>\n",
       "      <td>20,34</td>\n",
       "      <td>0,38</td>\n",
       "      <td>0,24</td>\n",
       "      <td>0,38</td>\n",
       "    </tr>\n",
       "    <tr>\n",
       "      <th>1</th>\n",
       "      <td>Albania</td>\n",
       "      <td>EASTERN EUROPE</td>\n",
       "      <td>3581655</td>\n",
       "      <td>28748</td>\n",
       "      <td>124,6</td>\n",
       "      <td>1,26</td>\n",
       "      <td>-4,93</td>\n",
       "      <td>21,52</td>\n",
       "      <td>4500.0</td>\n",
       "      <td>86,5</td>\n",
       "      <td>71,2</td>\n",
       "      <td>21,09</td>\n",
       "      <td>4,42</td>\n",
       "      <td>74,49</td>\n",
       "      <td>3</td>\n",
       "      <td>15,11</td>\n",
       "      <td>5,22</td>\n",
       "      <td>0,232</td>\n",
       "      <td>0,188</td>\n",
       "      <td>0,579</td>\n",
       "    </tr>\n",
       "    <tr>\n",
       "      <th>2</th>\n",
       "      <td>Algeria</td>\n",
       "      <td>NORTHERN AFRICA</td>\n",
       "      <td>32930091</td>\n",
       "      <td>2381740</td>\n",
       "      <td>13,8</td>\n",
       "      <td>0,04</td>\n",
       "      <td>-0,39</td>\n",
       "      <td>31</td>\n",
       "      <td>6000.0</td>\n",
       "      <td>70,0</td>\n",
       "      <td>78,1</td>\n",
       "      <td>3,22</td>\n",
       "      <td>0,25</td>\n",
       "      <td>96,53</td>\n",
       "      <td>1</td>\n",
       "      <td>17,14</td>\n",
       "      <td>4,61</td>\n",
       "      <td>0,101</td>\n",
       "      <td>0,6</td>\n",
       "      <td>0,298</td>\n",
       "    </tr>\n",
       "    <tr>\n",
       "      <th>3</th>\n",
       "      <td>American Samoa</td>\n",
       "      <td>OCEANIA</td>\n",
       "      <td>57794</td>\n",
       "      <td>199</td>\n",
       "      <td>290,4</td>\n",
       "      <td>58,29</td>\n",
       "      <td>-20,71</td>\n",
       "      <td>9,27</td>\n",
       "      <td>8000.0</td>\n",
       "      <td>97,0</td>\n",
       "      <td>259,5</td>\n",
       "      <td>10</td>\n",
       "      <td>15</td>\n",
       "      <td>75</td>\n",
       "      <td>2</td>\n",
       "      <td>22,46</td>\n",
       "      <td>3,27</td>\n",
       "      <td>NaN</td>\n",
       "      <td>NaN</td>\n",
       "      <td>NaN</td>\n",
       "    </tr>\n",
       "    <tr>\n",
       "      <th>4</th>\n",
       "      <td>Andorra</td>\n",
       "      <td>WESTERN EUROPE</td>\n",
       "      <td>71201</td>\n",
       "      <td>468</td>\n",
       "      <td>152,1</td>\n",
       "      <td>0,00</td>\n",
       "      <td>6,6</td>\n",
       "      <td>4,05</td>\n",
       "      <td>19000.0</td>\n",
       "      <td>100,0</td>\n",
       "      <td>497,2</td>\n",
       "      <td>2,22</td>\n",
       "      <td>0</td>\n",
       "      <td>97,78</td>\n",
       "      <td>3</td>\n",
       "      <td>8,71</td>\n",
       "      <td>6,25</td>\n",
       "      <td>NaN</td>\n",
       "      <td>NaN</td>\n",
       "      <td>NaN</td>\n",
       "    </tr>\n",
       "  </tbody>\n",
       "</table>\n",
       "</div>"
      ],
      "text/plain": [
       "           Country                               Region  Population  \\\n",
       "0     Afghanistan         ASIA (EX. NEAR EAST)             31056997   \n",
       "1         Albania   EASTERN EUROPE                          3581655   \n",
       "2         Algeria   NORTHERN AFRICA                        32930091   \n",
       "3  American Samoa   OCEANIA                                   57794   \n",
       "4         Andorra   WESTERN EUROPE                            71201   \n",
       "\n",
       "   Area (sq. mi.) Pop. Density (per sq. mi.) Coastline (coast/area ratio)  \\\n",
       "0          647500                       48,0                         0,00   \n",
       "1           28748                      124,6                         1,26   \n",
       "2         2381740                       13,8                         0,04   \n",
       "3             199                      290,4                        58,29   \n",
       "4             468                      152,1                         0,00   \n",
       "\n",
       "  Net migration Infant mortality (per 1000 births)  GDP ($ per capita)  \\\n",
       "0         23,06                             163,07               700.0   \n",
       "1         -4,93                              21,52              4500.0   \n",
       "2         -0,39                                 31              6000.0   \n",
       "3        -20,71                               9,27              8000.0   \n",
       "4           6,6                               4,05             19000.0   \n",
       "\n",
       "  Literacy (%) Phones (per 1000) Arable (%) Crops (%) Other (%) Climate  \\\n",
       "0         36,0               3,2      12,13      0,22     87,65       1   \n",
       "1         86,5              71,2      21,09      4,42     74,49       3   \n",
       "2         70,0              78,1       3,22      0,25     96,53       1   \n",
       "3         97,0             259,5         10        15        75       2   \n",
       "4        100,0             497,2       2,22         0     97,78       3   \n",
       "\n",
       "  Birthrate Deathrate Agriculture Industry Service  \n",
       "0      46,6     20,34        0,38     0,24    0,38  \n",
       "1     15,11      5,22       0,232    0,188   0,579  \n",
       "2     17,14      4,61       0,101      0,6   0,298  \n",
       "3     22,46      3,27         NaN      NaN     NaN  \n",
       "4      8,71      6,25         NaN      NaN     NaN  "
      ]
     },
     "execution_count": 172,
     "metadata": {},
     "output_type": "execute_result"
    }
   ],
   "source": [
    "df.head()"
   ]
  },
  {
   "cell_type": "code",
   "execution_count": 173,
   "metadata": {},
   "outputs": [
    {
     "name": "stdout",
     "output_type": "stream",
     "text": [
      "<class 'pandas.core.frame.DataFrame'>\n",
      "RangeIndex: 227 entries, 0 to 226\n",
      "Data columns (total 20 columns):\n",
      " #   Column                              Non-Null Count  Dtype  \n",
      "---  ------                              --------------  -----  \n",
      " 0   Country                             227 non-null    object \n",
      " 1   Region                              227 non-null    object \n",
      " 2   Population                          227 non-null    int64  \n",
      " 3   Area (sq. mi.)                      227 non-null    int64  \n",
      " 4   Pop. Density (per sq. mi.)          227 non-null    object \n",
      " 5   Coastline (coast/area ratio)        227 non-null    object \n",
      " 6   Net migration                       224 non-null    object \n",
      " 7   Infant mortality (per 1000 births)  224 non-null    object \n",
      " 8   GDP ($ per capita)                  226 non-null    float64\n",
      " 9   Literacy (%)                        209 non-null    object \n",
      " 10  Phones (per 1000)                   223 non-null    object \n",
      " 11  Arable (%)                          225 non-null    object \n",
      " 12  Crops (%)                           225 non-null    object \n",
      " 13  Other (%)                           225 non-null    object \n",
      " 14  Climate                             205 non-null    object \n",
      " 15  Birthrate                           224 non-null    object \n",
      " 16  Deathrate                           223 non-null    object \n",
      " 17  Agriculture                         212 non-null    object \n",
      " 18  Industry                            211 non-null    object \n",
      " 19  Service                             212 non-null    object \n",
      "dtypes: float64(1), int64(2), object(17)\n",
      "memory usage: 35.6+ KB\n"
     ]
    }
   ],
   "source": [
    "df.info()"
   ]
  },
  {
   "cell_type": "code",
   "execution_count": 174,
   "metadata": {},
   "outputs": [
    {
     "data": {
      "text/plain": [
       "(227, 20)"
      ]
     },
     "execution_count": 174,
     "metadata": {},
     "output_type": "execute_result"
    }
   ],
   "source": [
    "df.shape    #227 filas con 20 columnas"
   ]
  },
  {
   "cell_type": "code",
   "execution_count": 175,
   "metadata": {},
   "outputs": [
    {
     "data": {
      "text/plain": [
       "Index(['Country', 'Region', 'Population', 'Area (sq. mi.)',\n",
       "       'Pop. Density (per sq. mi.)', 'Coastline (coast/area ratio)',\n",
       "       'Net migration', 'Infant mortality (per 1000 births)',\n",
       "       'GDP ($ per capita)', 'Literacy (%)', 'Phones (per 1000)', 'Arable (%)',\n",
       "       'Crops (%)', 'Other (%)', 'Climate', 'Birthrate', 'Deathrate',\n",
       "       'Agriculture', 'Industry', 'Service'],\n",
       "      dtype='object')"
      ]
     },
     "execution_count": 175,
     "metadata": {},
     "output_type": "execute_result"
    }
   ],
   "source": [
    "df.columns"
   ]
  },
  {
   "cell_type": "code",
   "execution_count": 176,
   "metadata": {},
   "outputs": [
    {
     "data": {
      "text/html": [
       "<div>\n",
       "<style scoped>\n",
       "    .dataframe tbody tr th:only-of-type {\n",
       "        vertical-align: middle;\n",
       "    }\n",
       "\n",
       "    .dataframe tbody tr th {\n",
       "        vertical-align: top;\n",
       "    }\n",
       "\n",
       "    .dataframe thead th {\n",
       "        text-align: right;\n",
       "    }\n",
       "</style>\n",
       "<table border=\"1\" class=\"dataframe\">\n",
       "  <thead>\n",
       "    <tr style=\"text-align: right;\">\n",
       "      <th></th>\n",
       "      <th>Population</th>\n",
       "      <th>Area (sq. mi.)</th>\n",
       "      <th>GDP ($ per capita)</th>\n",
       "    </tr>\n",
       "  </thead>\n",
       "  <tbody>\n",
       "    <tr>\n",
       "      <th>count</th>\n",
       "      <td>2.270000e+02</td>\n",
       "      <td>227.0</td>\n",
       "      <td>226.0</td>\n",
       "    </tr>\n",
       "    <tr>\n",
       "      <th>mean</th>\n",
       "      <td>2.874028e+07</td>\n",
       "      <td>598227.0</td>\n",
       "      <td>9690.0</td>\n",
       "    </tr>\n",
       "    <tr>\n",
       "      <th>std</th>\n",
       "      <td>1.178913e+08</td>\n",
       "      <td>1790282.0</td>\n",
       "      <td>10049.0</td>\n",
       "    </tr>\n",
       "    <tr>\n",
       "      <th>min</th>\n",
       "      <td>7.026000e+03</td>\n",
       "      <td>2.0</td>\n",
       "      <td>500.0</td>\n",
       "    </tr>\n",
       "    <tr>\n",
       "      <th>25%</th>\n",
       "      <td>4.376240e+05</td>\n",
       "      <td>4648.0</td>\n",
       "      <td>1900.0</td>\n",
       "    </tr>\n",
       "    <tr>\n",
       "      <th>50%</th>\n",
       "      <td>4.786994e+06</td>\n",
       "      <td>86600.0</td>\n",
       "      <td>5550.0</td>\n",
       "    </tr>\n",
       "    <tr>\n",
       "      <th>75%</th>\n",
       "      <td>1.749777e+07</td>\n",
       "      <td>441811.0</td>\n",
       "      <td>15700.0</td>\n",
       "    </tr>\n",
       "    <tr>\n",
       "      <th>max</th>\n",
       "      <td>1.313974e+09</td>\n",
       "      <td>17075200.0</td>\n",
       "      <td>55100.0</td>\n",
       "    </tr>\n",
       "  </tbody>\n",
       "</table>\n",
       "</div>"
      ],
      "text/plain": [
       "         Population  Area (sq. mi.)  GDP ($ per capita)\n",
       "count  2.270000e+02           227.0               226.0\n",
       "mean   2.874028e+07        598227.0              9690.0\n",
       "std    1.178913e+08       1790282.0             10049.0\n",
       "min    7.026000e+03             2.0               500.0\n",
       "25%    4.376240e+05          4648.0              1900.0\n",
       "50%    4.786994e+06         86600.0              5550.0\n",
       "75%    1.749777e+07        441811.0             15700.0\n",
       "max    1.313974e+09      17075200.0             55100.0"
      ]
     },
     "execution_count": 176,
     "metadata": {},
     "output_type": "execute_result"
    }
   ],
   "source": [
    "df.describe().round()"
   ]
  },
  {
   "cell_type": "code",
   "execution_count": 177,
   "metadata": {},
   "outputs": [
    {
     "data": {
      "text/plain": [
       "Country                                0\n",
       "Region                                 0\n",
       "Population                             0\n",
       "Area (sq. mi.)                         0\n",
       "Pop. Density (per sq. mi.)             0\n",
       "Coastline (coast/area ratio)           0\n",
       "Net migration                          3\n",
       "Infant mortality (per 1000 births)     3\n",
       "GDP ($ per capita)                     1\n",
       "Literacy (%)                          18\n",
       "Phones (per 1000)                      4\n",
       "Arable (%)                             2\n",
       "Crops (%)                              2\n",
       "Other (%)                              2\n",
       "Climate                               22\n",
       "Birthrate                              3\n",
       "Deathrate                              4\n",
       "Agriculture                           15\n",
       "Industry                              16\n",
       "Service                               15\n",
       "dtype: int64"
      ]
     },
     "execution_count": 177,
     "metadata": {},
     "output_type": "execute_result"
    }
   ],
   "source": [
    "df.isnull().sum()"
   ]
  },
  {
   "cell_type": "code",
   "execution_count": 178,
   "metadata": {},
   "outputs": [
    {
     "data": {
      "text/html": [
       "<div>\n",
       "<style scoped>\n",
       "    .dataframe tbody tr th:only-of-type {\n",
       "        vertical-align: middle;\n",
       "    }\n",
       "\n",
       "    .dataframe tbody tr th {\n",
       "        vertical-align: top;\n",
       "    }\n",
       "\n",
       "    .dataframe thead th {\n",
       "        text-align: right;\n",
       "    }\n",
       "</style>\n",
       "<table border=\"1\" class=\"dataframe\">\n",
       "  <thead>\n",
       "    <tr style=\"text-align: right;\">\n",
       "      <th></th>\n",
       "      <th>Country</th>\n",
       "      <th>Region</th>\n",
       "    </tr>\n",
       "  </thead>\n",
       "  <tbody>\n",
       "    <tr>\n",
       "      <th>0</th>\n",
       "      <td>Afghanistan</td>\n",
       "      <td>ASIA (EX. NEAR EAST)</td>\n",
       "    </tr>\n",
       "    <tr>\n",
       "      <th>1</th>\n",
       "      <td>Albania</td>\n",
       "      <td>EASTERN EUROPE</td>\n",
       "    </tr>\n",
       "    <tr>\n",
       "      <th>2</th>\n",
       "      <td>Algeria</td>\n",
       "      <td>NORTHERN AFRICA</td>\n",
       "    </tr>\n",
       "    <tr>\n",
       "      <th>3</th>\n",
       "      <td>American Samoa</td>\n",
       "      <td>OCEANIA</td>\n",
       "    </tr>\n",
       "    <tr>\n",
       "      <th>4</th>\n",
       "      <td>Andorra</td>\n",
       "      <td>WESTERN EUROPE</td>\n",
       "    </tr>\n",
       "    <tr>\n",
       "      <th>...</th>\n",
       "      <td>...</td>\n",
       "      <td>...</td>\n",
       "    </tr>\n",
       "    <tr>\n",
       "      <th>222</th>\n",
       "      <td>West Bank</td>\n",
       "      <td>NEAR EAST</td>\n",
       "    </tr>\n",
       "    <tr>\n",
       "      <th>223</th>\n",
       "      <td>Western Sahara</td>\n",
       "      <td>NORTHERN AFRICA</td>\n",
       "    </tr>\n",
       "    <tr>\n",
       "      <th>224</th>\n",
       "      <td>Yemen</td>\n",
       "      <td>NEAR EAST</td>\n",
       "    </tr>\n",
       "    <tr>\n",
       "      <th>225</th>\n",
       "      <td>Zambia</td>\n",
       "      <td>SUB-SAHARAN AFRICA</td>\n",
       "    </tr>\n",
       "    <tr>\n",
       "      <th>226</th>\n",
       "      <td>Zimbabwe</td>\n",
       "      <td>SUB-SAHARAN AFRICA</td>\n",
       "    </tr>\n",
       "  </tbody>\n",
       "</table>\n",
       "<p>227 rows × 2 columns</p>\n",
       "</div>"
      ],
      "text/plain": [
       "             Country                               Region\n",
       "0       Afghanistan         ASIA (EX. NEAR EAST)         \n",
       "1           Albania   EASTERN EUROPE                     \n",
       "2           Algeria   NORTHERN AFRICA                    \n",
       "3    American Samoa   OCEANIA                            \n",
       "4           Andorra   WESTERN EUROPE                     \n",
       "..               ...                                  ...\n",
       "222       West Bank   NEAR EAST                          \n",
       "223  Western Sahara   NORTHERN AFRICA                    \n",
       "224           Yemen   NEAR EAST                          \n",
       "225          Zambia   SUB-SAHARAN AFRICA                 \n",
       "226        Zimbabwe   SUB-SAHARAN AFRICA                 \n",
       "\n",
       "[227 rows x 2 columns]"
      ]
     },
     "execution_count": 178,
     "metadata": {},
     "output_type": "execute_result"
    }
   ],
   "source": [
    "df[[\"Country\",\"Region\"]]"
   ]
  },
  {
   "cell_type": "markdown",
   "metadata": {},
   "source": [
    "DF con paises en que la poblacion es mayor que"
   ]
  },
  {
   "cell_type": "code",
   "execution_count": 179,
   "metadata": {},
   "outputs": [
    {
     "data": {
      "text/html": [
       "<div>\n",
       "<style scoped>\n",
       "    .dataframe tbody tr th:only-of-type {\n",
       "        vertical-align: middle;\n",
       "    }\n",
       "\n",
       "    .dataframe tbody tr th {\n",
       "        vertical-align: top;\n",
       "    }\n",
       "\n",
       "    .dataframe thead th {\n",
       "        text-align: right;\n",
       "    }\n",
       "</style>\n",
       "<table border=\"1\" class=\"dataframe\">\n",
       "  <thead>\n",
       "    <tr style=\"text-align: right;\">\n",
       "      <th></th>\n",
       "      <th>Country</th>\n",
       "      <th>Region</th>\n",
       "      <th>Population</th>\n",
       "      <th>Area (sq. mi.)</th>\n",
       "      <th>Pop. Density (per sq. mi.)</th>\n",
       "      <th>Coastline (coast/area ratio)</th>\n",
       "      <th>Net migration</th>\n",
       "      <th>Infant mortality (per 1000 births)</th>\n",
       "      <th>GDP ($ per capita)</th>\n",
       "      <th>Literacy (%)</th>\n",
       "      <th>Phones (per 1000)</th>\n",
       "      <th>Arable (%)</th>\n",
       "      <th>Crops (%)</th>\n",
       "      <th>Other (%)</th>\n",
       "      <th>Climate</th>\n",
       "      <th>Birthrate</th>\n",
       "      <th>Deathrate</th>\n",
       "      <th>Agriculture</th>\n",
       "      <th>Industry</th>\n",
       "      <th>Service</th>\n",
       "    </tr>\n",
       "  </thead>\n",
       "  <tbody>\n",
       "    <tr>\n",
       "      <th>16</th>\n",
       "      <td>Bangladesh</td>\n",
       "      <td>ASIA (EX. NEAR EAST)</td>\n",
       "      <td>147365352</td>\n",
       "      <td>144000</td>\n",
       "      <td>1023,4</td>\n",
       "      <td>0,40</td>\n",
       "      <td>-0,71</td>\n",
       "      <td>62,6</td>\n",
       "      <td>1900.0</td>\n",
       "      <td>43,1</td>\n",
       "      <td>7,3</td>\n",
       "      <td>62,11</td>\n",
       "      <td>3,07</td>\n",
       "      <td>34,82</td>\n",
       "      <td>2</td>\n",
       "      <td>29,8</td>\n",
       "      <td>8,27</td>\n",
       "      <td>0,199</td>\n",
       "      <td>0,198</td>\n",
       "      <td>0,603</td>\n",
       "    </tr>\n",
       "    <tr>\n",
       "      <th>214</th>\n",
       "      <td>United States</td>\n",
       "      <td>NORTHERN AMERICA</td>\n",
       "      <td>298444215</td>\n",
       "      <td>9631420</td>\n",
       "      <td>31,0</td>\n",
       "      <td>0,21</td>\n",
       "      <td>3,41</td>\n",
       "      <td>6,5</td>\n",
       "      <td>37800.0</td>\n",
       "      <td>97,0</td>\n",
       "      <td>898,0</td>\n",
       "      <td>19,13</td>\n",
       "      <td>0,22</td>\n",
       "      <td>80,65</td>\n",
       "      <td>3</td>\n",
       "      <td>14,14</td>\n",
       "      <td>8,26</td>\n",
       "      <td>0,01</td>\n",
       "      <td>0,204</td>\n",
       "      <td>0,787</td>\n",
       "    </tr>\n",
       "    <tr>\n",
       "      <th>27</th>\n",
       "      <td>Brazil</td>\n",
       "      <td>LATIN AMER. &amp; CARIB</td>\n",
       "      <td>188078227</td>\n",
       "      <td>8511965</td>\n",
       "      <td>22,1</td>\n",
       "      <td>0,09</td>\n",
       "      <td>-0,03</td>\n",
       "      <td>29,61</td>\n",
       "      <td>7600.0</td>\n",
       "      <td>86,4</td>\n",
       "      <td>225,3</td>\n",
       "      <td>6,96</td>\n",
       "      <td>0,9</td>\n",
       "      <td>92,15</td>\n",
       "      <td>2</td>\n",
       "      <td>16,56</td>\n",
       "      <td>6,17</td>\n",
       "      <td>0,084</td>\n",
       "      <td>0,4</td>\n",
       "      <td>0,516</td>\n",
       "    </tr>\n",
       "    <tr>\n",
       "      <th>135</th>\n",
       "      <td>Mexico</td>\n",
       "      <td>LATIN AMER. &amp; CARIB</td>\n",
       "      <td>107449525</td>\n",
       "      <td>1972550</td>\n",
       "      <td>54,5</td>\n",
       "      <td>0,47</td>\n",
       "      <td>-4,87</td>\n",
       "      <td>20,91</td>\n",
       "      <td>9000.0</td>\n",
       "      <td>92,2</td>\n",
       "      <td>181,6</td>\n",
       "      <td>12,99</td>\n",
       "      <td>1,31</td>\n",
       "      <td>85,7</td>\n",
       "      <td>1,5</td>\n",
       "      <td>20,69</td>\n",
       "      <td>4,74</td>\n",
       "      <td>0,038</td>\n",
       "      <td>0,259</td>\n",
       "      <td>0,702</td>\n",
       "    </tr>\n",
       "    <tr>\n",
       "      <th>42</th>\n",
       "      <td>China</td>\n",
       "      <td>ASIA (EX. NEAR EAST)</td>\n",
       "      <td>1313973713</td>\n",
       "      <td>9596960</td>\n",
       "      <td>136,9</td>\n",
       "      <td>0,15</td>\n",
       "      <td>-0,4</td>\n",
       "      <td>24,18</td>\n",
       "      <td>5000.0</td>\n",
       "      <td>90,9</td>\n",
       "      <td>266,7</td>\n",
       "      <td>15,4</td>\n",
       "      <td>1,25</td>\n",
       "      <td>83,35</td>\n",
       "      <td>1,5</td>\n",
       "      <td>13,25</td>\n",
       "      <td>6,97</td>\n",
       "      <td>0,125</td>\n",
       "      <td>0,473</td>\n",
       "      <td>0,403</td>\n",
       "    </tr>\n",
       "  </tbody>\n",
       "</table>\n",
       "</div>"
      ],
      "text/plain": [
       "            Country                               Region  Population  \\\n",
       "16      Bangladesh         ASIA (EX. NEAR EAST)            147365352   \n",
       "214  United States   NORTHERN AMERICA                      298444215   \n",
       "27          Brazil               LATIN AMER. & CARIB       188078227   \n",
       "135         Mexico               LATIN AMER. & CARIB       107449525   \n",
       "42           China         ASIA (EX. NEAR EAST)           1313973713   \n",
       "\n",
       "     Area (sq. mi.) Pop. Density (per sq. mi.) Coastline (coast/area ratio)  \\\n",
       "16           144000                     1023,4                         0,40   \n",
       "214         9631420                       31,0                         0,21   \n",
       "27          8511965                       22,1                         0,09   \n",
       "135         1972550                       54,5                         0,47   \n",
       "42          9596960                      136,9                         0,15   \n",
       "\n",
       "    Net migration Infant mortality (per 1000 births)  GDP ($ per capita)  \\\n",
       "16          -0,71                               62,6              1900.0   \n",
       "214          3,41                                6,5             37800.0   \n",
       "27          -0,03                              29,61              7600.0   \n",
       "135         -4,87                              20,91              9000.0   \n",
       "42           -0,4                              24,18              5000.0   \n",
       "\n",
       "    Literacy (%) Phones (per 1000) Arable (%) Crops (%) Other (%) Climate  \\\n",
       "16          43,1               7,3      62,11      3,07     34,82       2   \n",
       "214         97,0             898,0      19,13      0,22     80,65       3   \n",
       "27          86,4             225,3       6,96       0,9     92,15       2   \n",
       "135         92,2             181,6      12,99      1,31      85,7     1,5   \n",
       "42          90,9             266,7       15,4      1,25     83,35     1,5   \n",
       "\n",
       "    Birthrate Deathrate Agriculture Industry Service  \n",
       "16       29,8      8,27       0,199    0,198   0,603  \n",
       "214     14,14      8,26        0,01    0,204   0,787  \n",
       "27      16,56      6,17       0,084      0,4   0,516  \n",
       "135     20,69      4,74       0,038    0,259   0,702  \n",
       "42      13,25      6,97       0,125    0,473   0,403  "
      ]
     },
     "execution_count": 179,
     "metadata": {},
     "output_type": "execute_result"
    }
   ],
   "source": [
    "df[df[\"Population\"]>100000000].sample(5)"
   ]
  },
  {
   "cell_type": "code",
   "execution_count": 180,
   "metadata": {},
   "outputs": [
    {
     "data": {
      "text/html": [
       "<div>\n",
       "<style scoped>\n",
       "    .dataframe tbody tr th:only-of-type {\n",
       "        vertical-align: middle;\n",
       "    }\n",
       "\n",
       "    .dataframe tbody tr th {\n",
       "        vertical-align: top;\n",
       "    }\n",
       "\n",
       "    .dataframe thead th {\n",
       "        text-align: right;\n",
       "    }\n",
       "</style>\n",
       "<table border=\"1\" class=\"dataframe\">\n",
       "  <thead>\n",
       "    <tr style=\"text-align: right;\">\n",
       "      <th></th>\n",
       "      <th>Country</th>\n",
       "      <th>Region</th>\n",
       "      <th>Population</th>\n",
       "      <th>Area (sq. mi.)</th>\n",
       "      <th>Pop. Density (per sq. mi.)</th>\n",
       "      <th>Coastline (coast/area ratio)</th>\n",
       "      <th>Net migration</th>\n",
       "      <th>Infant mortality (per 1000 births)</th>\n",
       "      <th>GDP ($ per capita)</th>\n",
       "      <th>Literacy (%)</th>\n",
       "      <th>Phones (per 1000)</th>\n",
       "      <th>Arable (%)</th>\n",
       "      <th>Crops (%)</th>\n",
       "      <th>Other (%)</th>\n",
       "      <th>Climate</th>\n",
       "      <th>Birthrate</th>\n",
       "      <th>Deathrate</th>\n",
       "      <th>Agriculture</th>\n",
       "      <th>Industry</th>\n",
       "      <th>Service</th>\n",
       "    </tr>\n",
       "  </thead>\n",
       "  <tbody>\n",
       "    <tr>\n",
       "      <th>1</th>\n",
       "      <td>Albania</td>\n",
       "      <td>EASTERN EUROPE</td>\n",
       "      <td>3581655</td>\n",
       "      <td>28748</td>\n",
       "      <td>124,6</td>\n",
       "      <td>1,26</td>\n",
       "      <td>-4,93</td>\n",
       "      <td>21,52</td>\n",
       "      <td>4500.0</td>\n",
       "      <td>86,5</td>\n",
       "      <td>71,2</td>\n",
       "      <td>21,09</td>\n",
       "      <td>4,42</td>\n",
       "      <td>74,49</td>\n",
       "      <td>3</td>\n",
       "      <td>15,11</td>\n",
       "      <td>5,22</td>\n",
       "      <td>0,232</td>\n",
       "      <td>0,188</td>\n",
       "      <td>0,579</td>\n",
       "    </tr>\n",
       "    <tr>\n",
       "      <th>4</th>\n",
       "      <td>Andorra</td>\n",
       "      <td>WESTERN EUROPE</td>\n",
       "      <td>71201</td>\n",
       "      <td>468</td>\n",
       "      <td>152,1</td>\n",
       "      <td>0,00</td>\n",
       "      <td>6,6</td>\n",
       "      <td>4,05</td>\n",
       "      <td>19000.0</td>\n",
       "      <td>100,0</td>\n",
       "      <td>497,2</td>\n",
       "      <td>2,22</td>\n",
       "      <td>0</td>\n",
       "      <td>97,78</td>\n",
       "      <td>3</td>\n",
       "      <td>8,71</td>\n",
       "      <td>6,25</td>\n",
       "      <td>NaN</td>\n",
       "      <td>NaN</td>\n",
       "      <td>NaN</td>\n",
       "    </tr>\n",
       "    <tr>\n",
       "      <th>12</th>\n",
       "      <td>Austria</td>\n",
       "      <td>WESTERN EUROPE</td>\n",
       "      <td>8192880</td>\n",
       "      <td>83870</td>\n",
       "      <td>97,7</td>\n",
       "      <td>0,00</td>\n",
       "      <td>2</td>\n",
       "      <td>4,66</td>\n",
       "      <td>30000.0</td>\n",
       "      <td>98,0</td>\n",
       "      <td>452,2</td>\n",
       "      <td>16,91</td>\n",
       "      <td>0,86</td>\n",
       "      <td>82,23</td>\n",
       "      <td>3</td>\n",
       "      <td>8,74</td>\n",
       "      <td>9,76</td>\n",
       "      <td>0,018</td>\n",
       "      <td>0,304</td>\n",
       "      <td>0,678</td>\n",
       "    </tr>\n",
       "    <tr>\n",
       "      <th>19</th>\n",
       "      <td>Belgium</td>\n",
       "      <td>WESTERN EUROPE</td>\n",
       "      <td>10379067</td>\n",
       "      <td>30528</td>\n",
       "      <td>340,0</td>\n",
       "      <td>0,22</td>\n",
       "      <td>1,23</td>\n",
       "      <td>4,68</td>\n",
       "      <td>29100.0</td>\n",
       "      <td>98,0</td>\n",
       "      <td>462,6</td>\n",
       "      <td>23,28</td>\n",
       "      <td>0,4</td>\n",
       "      <td>76,32</td>\n",
       "      <td>3</td>\n",
       "      <td>10,38</td>\n",
       "      <td>10,27</td>\n",
       "      <td>0,01</td>\n",
       "      <td>0,24</td>\n",
       "      <td>0,749</td>\n",
       "    </tr>\n",
       "    <tr>\n",
       "      <th>25</th>\n",
       "      <td>Bosnia &amp; Herzegovina</td>\n",
       "      <td>EASTERN EUROPE</td>\n",
       "      <td>4498976</td>\n",
       "      <td>51129</td>\n",
       "      <td>88,0</td>\n",
       "      <td>0,04</td>\n",
       "      <td>0,31</td>\n",
       "      <td>21,05</td>\n",
       "      <td>6100.0</td>\n",
       "      <td>NaN</td>\n",
       "      <td>215,4</td>\n",
       "      <td>13,6</td>\n",
       "      <td>2,96</td>\n",
       "      <td>83,44</td>\n",
       "      <td>4</td>\n",
       "      <td>8,77</td>\n",
       "      <td>8,27</td>\n",
       "      <td>0,142</td>\n",
       "      <td>0,308</td>\n",
       "      <td>0,55</td>\n",
       "    </tr>\n",
       "    <tr>\n",
       "      <th>30</th>\n",
       "      <td>Bulgaria</td>\n",
       "      <td>EASTERN EUROPE</td>\n",
       "      <td>7385367</td>\n",
       "      <td>110910</td>\n",
       "      <td>66,6</td>\n",
       "      <td>0,32</td>\n",
       "      <td>-4,58</td>\n",
       "      <td>20,55</td>\n",
       "      <td>7600.0</td>\n",
       "      <td>98,6</td>\n",
       "      <td>336,3</td>\n",
       "      <td>40,02</td>\n",
       "      <td>1,92</td>\n",
       "      <td>58,06</td>\n",
       "      <td>3</td>\n",
       "      <td>9,65</td>\n",
       "      <td>14,27</td>\n",
       "      <td>0,093</td>\n",
       "      <td>0,304</td>\n",
       "      <td>0,603</td>\n",
       "    </tr>\n",
       "    <tr>\n",
       "      <th>50</th>\n",
       "      <td>Croatia</td>\n",
       "      <td>EASTERN EUROPE</td>\n",
       "      <td>4494749</td>\n",
       "      <td>56542</td>\n",
       "      <td>79,5</td>\n",
       "      <td>10,32</td>\n",
       "      <td>1,58</td>\n",
       "      <td>6,84</td>\n",
       "      <td>10600.0</td>\n",
       "      <td>98,5</td>\n",
       "      <td>420,4</td>\n",
       "      <td>26,09</td>\n",
       "      <td>2,27</td>\n",
       "      <td>71,65</td>\n",
       "      <td>NaN</td>\n",
       "      <td>9,61</td>\n",
       "      <td>11,48</td>\n",
       "      <td>0,07</td>\n",
       "      <td>0,308</td>\n",
       "      <td>0,622</td>\n",
       "    </tr>\n",
       "    <tr>\n",
       "      <th>53</th>\n",
       "      <td>Czech Republic</td>\n",
       "      <td>EASTERN EUROPE</td>\n",
       "      <td>10235455</td>\n",
       "      <td>78866</td>\n",
       "      <td>129,8</td>\n",
       "      <td>0,00</td>\n",
       "      <td>0,97</td>\n",
       "      <td>3,93</td>\n",
       "      <td>15700.0</td>\n",
       "      <td>99,9</td>\n",
       "      <td>314,3</td>\n",
       "      <td>39,8</td>\n",
       "      <td>3,05</td>\n",
       "      <td>57,15</td>\n",
       "      <td>3</td>\n",
       "      <td>9,02</td>\n",
       "      <td>10,59</td>\n",
       "      <td>0,034</td>\n",
       "      <td>0,393</td>\n",
       "      <td>0,573</td>\n",
       "    </tr>\n",
       "    <tr>\n",
       "      <th>54</th>\n",
       "      <td>Denmark</td>\n",
       "      <td>WESTERN EUROPE</td>\n",
       "      <td>5450661</td>\n",
       "      <td>43094</td>\n",
       "      <td>126,5</td>\n",
       "      <td>16,97</td>\n",
       "      <td>2,48</td>\n",
       "      <td>4,56</td>\n",
       "      <td>31100.0</td>\n",
       "      <td>100,0</td>\n",
       "      <td>614,6</td>\n",
       "      <td>54,02</td>\n",
       "      <td>0,19</td>\n",
       "      <td>45,79</td>\n",
       "      <td>3</td>\n",
       "      <td>11,13</td>\n",
       "      <td>10,36</td>\n",
       "      <td>0,018</td>\n",
       "      <td>0,246</td>\n",
       "      <td>0,735</td>\n",
       "    </tr>\n",
       "    <tr>\n",
       "      <th>66</th>\n",
       "      <td>Faroe Islands</td>\n",
       "      <td>WESTERN EUROPE</td>\n",
       "      <td>47246</td>\n",
       "      <td>1399</td>\n",
       "      <td>33,8</td>\n",
       "      <td>79,84</td>\n",
       "      <td>1,41</td>\n",
       "      <td>6,24</td>\n",
       "      <td>22000.0</td>\n",
       "      <td>NaN</td>\n",
       "      <td>503,8</td>\n",
       "      <td>2,14</td>\n",
       "      <td>0</td>\n",
       "      <td>97,86</td>\n",
       "      <td>NaN</td>\n",
       "      <td>14,05</td>\n",
       "      <td>8,7</td>\n",
       "      <td>0,27</td>\n",
       "      <td>0,11</td>\n",
       "      <td>0,62</td>\n",
       "    </tr>\n",
       "    <tr>\n",
       "      <th>68</th>\n",
       "      <td>Finland</td>\n",
       "      <td>WESTERN EUROPE</td>\n",
       "      <td>5231372</td>\n",
       "      <td>338145</td>\n",
       "      <td>15,5</td>\n",
       "      <td>0,37</td>\n",
       "      <td>0,95</td>\n",
       "      <td>3,57</td>\n",
       "      <td>27400.0</td>\n",
       "      <td>100,0</td>\n",
       "      <td>405,3</td>\n",
       "      <td>7,19</td>\n",
       "      <td>0,03</td>\n",
       "      <td>92,78</td>\n",
       "      <td>3</td>\n",
       "      <td>10,45</td>\n",
       "      <td>9,86</td>\n",
       "      <td>0,028</td>\n",
       "      <td>0,295</td>\n",
       "      <td>0,676</td>\n",
       "    </tr>\n",
       "    <tr>\n",
       "      <th>69</th>\n",
       "      <td>France</td>\n",
       "      <td>WESTERN EUROPE</td>\n",
       "      <td>60876136</td>\n",
       "      <td>547030</td>\n",
       "      <td>111,3</td>\n",
       "      <td>0,63</td>\n",
       "      <td>0,66</td>\n",
       "      <td>4,26</td>\n",
       "      <td>27600.0</td>\n",
       "      <td>99,0</td>\n",
       "      <td>586,4</td>\n",
       "      <td>33,53</td>\n",
       "      <td>2,07</td>\n",
       "      <td>64,4</td>\n",
       "      <td>4</td>\n",
       "      <td>11,99</td>\n",
       "      <td>9,14</td>\n",
       "      <td>0,022</td>\n",
       "      <td>0,214</td>\n",
       "      <td>0,764</td>\n",
       "    </tr>\n",
       "    <tr>\n",
       "      <th>76</th>\n",
       "      <td>Germany</td>\n",
       "      <td>WESTERN EUROPE</td>\n",
       "      <td>82422299</td>\n",
       "      <td>357021</td>\n",
       "      <td>230,9</td>\n",
       "      <td>0,67</td>\n",
       "      <td>2,18</td>\n",
       "      <td>4,16</td>\n",
       "      <td>27600.0</td>\n",
       "      <td>99,0</td>\n",
       "      <td>667,9</td>\n",
       "      <td>33,85</td>\n",
       "      <td>0,59</td>\n",
       "      <td>65,56</td>\n",
       "      <td>3</td>\n",
       "      <td>8,25</td>\n",
       "      <td>10,62</td>\n",
       "      <td>0,009</td>\n",
       "      <td>0,296</td>\n",
       "      <td>0,695</td>\n",
       "    </tr>\n",
       "    <tr>\n",
       "      <th>78</th>\n",
       "      <td>Gibraltar</td>\n",
       "      <td>WESTERN EUROPE</td>\n",
       "      <td>27928</td>\n",
       "      <td>7</td>\n",
       "      <td>3989,7</td>\n",
       "      <td>171,43</td>\n",
       "      <td>0</td>\n",
       "      <td>5,13</td>\n",
       "      <td>17500.0</td>\n",
       "      <td>NaN</td>\n",
       "      <td>877,7</td>\n",
       "      <td>0</td>\n",
       "      <td>0</td>\n",
       "      <td>100</td>\n",
       "      <td>NaN</td>\n",
       "      <td>10,74</td>\n",
       "      <td>9,31</td>\n",
       "      <td>NaN</td>\n",
       "      <td>NaN</td>\n",
       "      <td>NaN</td>\n",
       "    </tr>\n",
       "    <tr>\n",
       "      <th>79</th>\n",
       "      <td>Greece</td>\n",
       "      <td>WESTERN EUROPE</td>\n",
       "      <td>10688058</td>\n",
       "      <td>131940</td>\n",
       "      <td>81,0</td>\n",
       "      <td>10,37</td>\n",
       "      <td>2,35</td>\n",
       "      <td>5,53</td>\n",
       "      <td>20000.0</td>\n",
       "      <td>97,5</td>\n",
       "      <td>589,7</td>\n",
       "      <td>21,1</td>\n",
       "      <td>8,78</td>\n",
       "      <td>70,12</td>\n",
       "      <td>3</td>\n",
       "      <td>9,68</td>\n",
       "      <td>10,24</td>\n",
       "      <td>0,054</td>\n",
       "      <td>0,213</td>\n",
       "      <td>0,733</td>\n",
       "    </tr>\n",
       "    <tr>\n",
       "      <th>85</th>\n",
       "      <td>Guernsey</td>\n",
       "      <td>WESTERN EUROPE</td>\n",
       "      <td>65409</td>\n",
       "      <td>78</td>\n",
       "      <td>838,6</td>\n",
       "      <td>64,10</td>\n",
       "      <td>3,84</td>\n",
       "      <td>4,71</td>\n",
       "      <td>20000.0</td>\n",
       "      <td>NaN</td>\n",
       "      <td>842,4</td>\n",
       "      <td>NaN</td>\n",
       "      <td>NaN</td>\n",
       "      <td>NaN</td>\n",
       "      <td>3</td>\n",
       "      <td>8,81</td>\n",
       "      <td>10,01</td>\n",
       "      <td>0,03</td>\n",
       "      <td>0,1</td>\n",
       "      <td>0,87</td>\n",
       "    </tr>\n",
       "    <tr>\n",
       "      <th>92</th>\n",
       "      <td>Hungary</td>\n",
       "      <td>EASTERN EUROPE</td>\n",
       "      <td>9981334</td>\n",
       "      <td>93030</td>\n",
       "      <td>107,3</td>\n",
       "      <td>0,00</td>\n",
       "      <td>0,86</td>\n",
       "      <td>8,57</td>\n",
       "      <td>13900.0</td>\n",
       "      <td>99,4</td>\n",
       "      <td>336,2</td>\n",
       "      <td>50,09</td>\n",
       "      <td>2,06</td>\n",
       "      <td>47,85</td>\n",
       "      <td>3</td>\n",
       "      <td>9,72</td>\n",
       "      <td>13,11</td>\n",
       "      <td>0,037</td>\n",
       "      <td>0,312</td>\n",
       "      <td>0,651</td>\n",
       "    </tr>\n",
       "    <tr>\n",
       "      <th>93</th>\n",
       "      <td>Iceland</td>\n",
       "      <td>WESTERN EUROPE</td>\n",
       "      <td>299388</td>\n",
       "      <td>103000</td>\n",
       "      <td>2,9</td>\n",
       "      <td>4,83</td>\n",
       "      <td>2,38</td>\n",
       "      <td>3,31</td>\n",
       "      <td>30900.0</td>\n",
       "      <td>99,9</td>\n",
       "      <td>647,7</td>\n",
       "      <td>0,07</td>\n",
       "      <td>0</td>\n",
       "      <td>99,93</td>\n",
       "      <td>3</td>\n",
       "      <td>13,64</td>\n",
       "      <td>6,72</td>\n",
       "      <td>0,086</td>\n",
       "      <td>0,15</td>\n",
       "      <td>0,765</td>\n",
       "    </tr>\n",
       "    <tr>\n",
       "      <th>98</th>\n",
       "      <td>Ireland</td>\n",
       "      <td>WESTERN EUROPE</td>\n",
       "      <td>4062235</td>\n",
       "      <td>70280</td>\n",
       "      <td>57,8</td>\n",
       "      <td>2,06</td>\n",
       "      <td>4,99</td>\n",
       "      <td>5,39</td>\n",
       "      <td>29600.0</td>\n",
       "      <td>98,0</td>\n",
       "      <td>500,5</td>\n",
       "      <td>15,2</td>\n",
       "      <td>0,03</td>\n",
       "      <td>84,77</td>\n",
       "      <td>3</td>\n",
       "      <td>14,45</td>\n",
       "      <td>7,82</td>\n",
       "      <td>0,05</td>\n",
       "      <td>0,46</td>\n",
       "      <td>0,49</td>\n",
       "    </tr>\n",
       "    <tr>\n",
       "      <th>99</th>\n",
       "      <td>Isle of Man</td>\n",
       "      <td>WESTERN EUROPE</td>\n",
       "      <td>75441</td>\n",
       "      <td>572</td>\n",
       "      <td>131,9</td>\n",
       "      <td>27,97</td>\n",
       "      <td>5,36</td>\n",
       "      <td>5,93</td>\n",
       "      <td>21000.0</td>\n",
       "      <td>NaN</td>\n",
       "      <td>676,0</td>\n",
       "      <td>9</td>\n",
       "      <td>0</td>\n",
       "      <td>91</td>\n",
       "      <td>3</td>\n",
       "      <td>11,05</td>\n",
       "      <td>11,19</td>\n",
       "      <td>0,01</td>\n",
       "      <td>0,13</td>\n",
       "      <td>0,86</td>\n",
       "    </tr>\n",
       "    <tr>\n",
       "      <th>101</th>\n",
       "      <td>Italy</td>\n",
       "      <td>WESTERN EUROPE</td>\n",
       "      <td>58133509</td>\n",
       "      <td>301230</td>\n",
       "      <td>193,0</td>\n",
       "      <td>2,52</td>\n",
       "      <td>2,07</td>\n",
       "      <td>5,94</td>\n",
       "      <td>26700.0</td>\n",
       "      <td>98,6</td>\n",
       "      <td>430,9</td>\n",
       "      <td>27,79</td>\n",
       "      <td>9,53</td>\n",
       "      <td>62,68</td>\n",
       "      <td>NaN</td>\n",
       "      <td>8,72</td>\n",
       "      <td>10,4</td>\n",
       "      <td>0,021</td>\n",
       "      <td>0,291</td>\n",
       "      <td>0,688</td>\n",
       "    </tr>\n",
       "    <tr>\n",
       "      <th>104</th>\n",
       "      <td>Jersey</td>\n",
       "      <td>WESTERN EUROPE</td>\n",
       "      <td>91084</td>\n",
       "      <td>116</td>\n",
       "      <td>785,2</td>\n",
       "      <td>60,34</td>\n",
       "      <td>2,76</td>\n",
       "      <td>5,24</td>\n",
       "      <td>24800.0</td>\n",
       "      <td>NaN</td>\n",
       "      <td>811,3</td>\n",
       "      <td>0</td>\n",
       "      <td>0</td>\n",
       "      <td>100</td>\n",
       "      <td>3</td>\n",
       "      <td>9,3</td>\n",
       "      <td>9,28</td>\n",
       "      <td>0,05</td>\n",
       "      <td>0,02</td>\n",
       "      <td>0,93</td>\n",
       "    </tr>\n",
       "    <tr>\n",
       "      <th>119</th>\n",
       "      <td>Liechtenstein</td>\n",
       "      <td>WESTERN EUROPE</td>\n",
       "      <td>33987</td>\n",
       "      <td>160</td>\n",
       "      <td>212,4</td>\n",
       "      <td>0,00</td>\n",
       "      <td>4,85</td>\n",
       "      <td>4,7</td>\n",
       "      <td>25000.0</td>\n",
       "      <td>100,0</td>\n",
       "      <td>585,5</td>\n",
       "      <td>25</td>\n",
       "      <td>0</td>\n",
       "      <td>75</td>\n",
       "      <td>4</td>\n",
       "      <td>10,21</td>\n",
       "      <td>7,18</td>\n",
       "      <td>0,06</td>\n",
       "      <td>0,39</td>\n",
       "      <td>0,55</td>\n",
       "    </tr>\n",
       "    <tr>\n",
       "      <th>121</th>\n",
       "      <td>Luxembourg</td>\n",
       "      <td>WESTERN EUROPE</td>\n",
       "      <td>474413</td>\n",
       "      <td>2586</td>\n",
       "      <td>183,5</td>\n",
       "      <td>0,00</td>\n",
       "      <td>8,97</td>\n",
       "      <td>4,81</td>\n",
       "      <td>55100.0</td>\n",
       "      <td>100,0</td>\n",
       "      <td>515,4</td>\n",
       "      <td>23,28</td>\n",
       "      <td>0,4</td>\n",
       "      <td>76,32</td>\n",
       "      <td>NaN</td>\n",
       "      <td>11,94</td>\n",
       "      <td>8,41</td>\n",
       "      <td>0,01</td>\n",
       "      <td>0,13</td>\n",
       "      <td>0,86</td>\n",
       "    </tr>\n",
       "    <tr>\n",
       "      <th>123</th>\n",
       "      <td>Macedonia</td>\n",
       "      <td>EASTERN EUROPE</td>\n",
       "      <td>2050554</td>\n",
       "      <td>25333</td>\n",
       "      <td>80,9</td>\n",
       "      <td>0,00</td>\n",
       "      <td>-1,45</td>\n",
       "      <td>10,09</td>\n",
       "      <td>6700.0</td>\n",
       "      <td>NaN</td>\n",
       "      <td>260,0</td>\n",
       "      <td>22,26</td>\n",
       "      <td>1,81</td>\n",
       "      <td>75,93</td>\n",
       "      <td>3</td>\n",
       "      <td>12,02</td>\n",
       "      <td>8,77</td>\n",
       "      <td>0,118</td>\n",
       "      <td>0,319</td>\n",
       "      <td>0,563</td>\n",
       "    </tr>\n",
       "    <tr>\n",
       "      <th>129</th>\n",
       "      <td>Malta</td>\n",
       "      <td>WESTERN EUROPE</td>\n",
       "      <td>400214</td>\n",
       "      <td>316</td>\n",
       "      <td>1266,5</td>\n",
       "      <td>62,28</td>\n",
       "      <td>2,07</td>\n",
       "      <td>3,89</td>\n",
       "      <td>17700.0</td>\n",
       "      <td>92,8</td>\n",
       "      <td>505,0</td>\n",
       "      <td>28,13</td>\n",
       "      <td>3,13</td>\n",
       "      <td>68,74</td>\n",
       "      <td>NaN</td>\n",
       "      <td>10,22</td>\n",
       "      <td>8,1</td>\n",
       "      <td>0,03</td>\n",
       "      <td>0,23</td>\n",
       "      <td>0,74</td>\n",
       "    </tr>\n",
       "    <tr>\n",
       "      <th>138</th>\n",
       "      <td>Monaco</td>\n",
       "      <td>WESTERN EUROPE</td>\n",
       "      <td>32543</td>\n",
       "      <td>2</td>\n",
       "      <td>16271,5</td>\n",
       "      <td>205,00</td>\n",
       "      <td>7,75</td>\n",
       "      <td>5,43</td>\n",
       "      <td>27000.0</td>\n",
       "      <td>99,0</td>\n",
       "      <td>1035,6</td>\n",
       "      <td>0</td>\n",
       "      <td>0</td>\n",
       "      <td>100</td>\n",
       "      <td>NaN</td>\n",
       "      <td>9,19</td>\n",
       "      <td>12,91</td>\n",
       "      <td>0,17</td>\n",
       "      <td>NaN</td>\n",
       "      <td>NaN</td>\n",
       "    </tr>\n",
       "    <tr>\n",
       "      <th>146</th>\n",
       "      <td>Netherlands</td>\n",
       "      <td>WESTERN EUROPE</td>\n",
       "      <td>16491461</td>\n",
       "      <td>41526</td>\n",
       "      <td>397,1</td>\n",
       "      <td>1,09</td>\n",
       "      <td>2,91</td>\n",
       "      <td>5,04</td>\n",
       "      <td>28600.0</td>\n",
       "      <td>99,0</td>\n",
       "      <td>460,8</td>\n",
       "      <td>26,71</td>\n",
       "      <td>0,97</td>\n",
       "      <td>72,32</td>\n",
       "      <td>3</td>\n",
       "      <td>10,9</td>\n",
       "      <td>8,68</td>\n",
       "      <td>0,021</td>\n",
       "      <td>0,244</td>\n",
       "      <td>0,736</td>\n",
       "    </tr>\n",
       "    <tr>\n",
       "      <th>154</th>\n",
       "      <td>Norway</td>\n",
       "      <td>WESTERN EUROPE</td>\n",
       "      <td>4610820</td>\n",
       "      <td>323802</td>\n",
       "      <td>14,2</td>\n",
       "      <td>7,77</td>\n",
       "      <td>1,74</td>\n",
       "      <td>3,7</td>\n",
       "      <td>37800.0</td>\n",
       "      <td>100,0</td>\n",
       "      <td>461,7</td>\n",
       "      <td>2,87</td>\n",
       "      <td>0</td>\n",
       "      <td>97,13</td>\n",
       "      <td>3</td>\n",
       "      <td>11,46</td>\n",
       "      <td>9,4</td>\n",
       "      <td>0,021</td>\n",
       "      <td>0,415</td>\n",
       "      <td>0,564</td>\n",
       "    </tr>\n",
       "    <tr>\n",
       "      <th>163</th>\n",
       "      <td>Poland</td>\n",
       "      <td>EASTERN EUROPE</td>\n",
       "      <td>38536869</td>\n",
       "      <td>312685</td>\n",
       "      <td>123,3</td>\n",
       "      <td>0,16</td>\n",
       "      <td>-0,49</td>\n",
       "      <td>8,51</td>\n",
       "      <td>11100.0</td>\n",
       "      <td>99,8</td>\n",
       "      <td>306,3</td>\n",
       "      <td>45,91</td>\n",
       "      <td>1,12</td>\n",
       "      <td>52,97</td>\n",
       "      <td>3</td>\n",
       "      <td>9,85</td>\n",
       "      <td>9,89</td>\n",
       "      <td>0,05</td>\n",
       "      <td>0,311</td>\n",
       "      <td>0,64</td>\n",
       "    </tr>\n",
       "    <tr>\n",
       "      <th>164</th>\n",
       "      <td>Portugal</td>\n",
       "      <td>WESTERN EUROPE</td>\n",
       "      <td>10605870</td>\n",
       "      <td>92391</td>\n",
       "      <td>114,8</td>\n",
       "      <td>1,94</td>\n",
       "      <td>3,57</td>\n",
       "      <td>5,05</td>\n",
       "      <td>18000.0</td>\n",
       "      <td>93,3</td>\n",
       "      <td>399,2</td>\n",
       "      <td>21,75</td>\n",
       "      <td>7,81</td>\n",
       "      <td>70,44</td>\n",
       "      <td>3</td>\n",
       "      <td>10,72</td>\n",
       "      <td>10,5</td>\n",
       "      <td>0,053</td>\n",
       "      <td>0,274</td>\n",
       "      <td>0,673</td>\n",
       "    </tr>\n",
       "    <tr>\n",
       "      <th>168</th>\n",
       "      <td>Romania</td>\n",
       "      <td>EASTERN EUROPE</td>\n",
       "      <td>22303552</td>\n",
       "      <td>237500</td>\n",
       "      <td>93,9</td>\n",
       "      <td>0,09</td>\n",
       "      <td>-0,13</td>\n",
       "      <td>26,43</td>\n",
       "      <td>7000.0</td>\n",
       "      <td>98,4</td>\n",
       "      <td>196,9</td>\n",
       "      <td>40,82</td>\n",
       "      <td>2,25</td>\n",
       "      <td>56,93</td>\n",
       "      <td>3</td>\n",
       "      <td>10,7</td>\n",
       "      <td>11,77</td>\n",
       "      <td>0,101</td>\n",
       "      <td>0,35</td>\n",
       "      <td>0,549</td>\n",
       "    </tr>\n",
       "    <tr>\n",
       "      <th>177</th>\n",
       "      <td>San Marino</td>\n",
       "      <td>WESTERN EUROPE</td>\n",
       "      <td>29251</td>\n",
       "      <td>61</td>\n",
       "      <td>479,5</td>\n",
       "      <td>0,00</td>\n",
       "      <td>10,98</td>\n",
       "      <td>5,73</td>\n",
       "      <td>34600.0</td>\n",
       "      <td>96,0</td>\n",
       "      <td>704,3</td>\n",
       "      <td>16,67</td>\n",
       "      <td>0</td>\n",
       "      <td>83,33</td>\n",
       "      <td>NaN</td>\n",
       "      <td>10,02</td>\n",
       "      <td>8,17</td>\n",
       "      <td>NaN</td>\n",
       "      <td>NaN</td>\n",
       "      <td>NaN</td>\n",
       "    </tr>\n",
       "    <tr>\n",
       "      <th>181</th>\n",
       "      <td>Serbia</td>\n",
       "      <td>EASTERN EUROPE</td>\n",
       "      <td>9396411</td>\n",
       "      <td>88361</td>\n",
       "      <td>106,3</td>\n",
       "      <td>0,00</td>\n",
       "      <td>-1,33</td>\n",
       "      <td>12,89</td>\n",
       "      <td>2200.0</td>\n",
       "      <td>93,0</td>\n",
       "      <td>285,8</td>\n",
       "      <td>33,35</td>\n",
       "      <td>3,2</td>\n",
       "      <td>63,45</td>\n",
       "      <td>NaN</td>\n",
       "      <td>NaN</td>\n",
       "      <td>NaN</td>\n",
       "      <td>0,166</td>\n",
       "      <td>0,255</td>\n",
       "      <td>0,579</td>\n",
       "    </tr>\n",
       "    <tr>\n",
       "      <th>185</th>\n",
       "      <td>Slovakia</td>\n",
       "      <td>EASTERN EUROPE</td>\n",
       "      <td>5439448</td>\n",
       "      <td>48845</td>\n",
       "      <td>111,4</td>\n",
       "      <td>0,00</td>\n",
       "      <td>0,3</td>\n",
       "      <td>7,41</td>\n",
       "      <td>13300.0</td>\n",
       "      <td>NaN</td>\n",
       "      <td>220,1</td>\n",
       "      <td>30,16</td>\n",
       "      <td>2,62</td>\n",
       "      <td>67,22</td>\n",
       "      <td>3</td>\n",
       "      <td>10,65</td>\n",
       "      <td>9,45</td>\n",
       "      <td>0,035</td>\n",
       "      <td>0,294</td>\n",
       "      <td>0,672</td>\n",
       "    </tr>\n",
       "    <tr>\n",
       "      <th>186</th>\n",
       "      <td>Slovenia</td>\n",
       "      <td>EASTERN EUROPE</td>\n",
       "      <td>2010347</td>\n",
       "      <td>20273</td>\n",
       "      <td>99,2</td>\n",
       "      <td>0,23</td>\n",
       "      <td>1,12</td>\n",
       "      <td>4,45</td>\n",
       "      <td>19000.0</td>\n",
       "      <td>99,7</td>\n",
       "      <td>406,1</td>\n",
       "      <td>8,6</td>\n",
       "      <td>1,49</td>\n",
       "      <td>89,91</td>\n",
       "      <td>NaN</td>\n",
       "      <td>8,98</td>\n",
       "      <td>10,31</td>\n",
       "      <td>0,028</td>\n",
       "      <td>0,369</td>\n",
       "      <td>0,603</td>\n",
       "    </tr>\n",
       "    <tr>\n",
       "      <th>190</th>\n",
       "      <td>Spain</td>\n",
       "      <td>WESTERN EUROPE</td>\n",
       "      <td>40397842</td>\n",
       "      <td>504782</td>\n",
       "      <td>80,0</td>\n",
       "      <td>0,98</td>\n",
       "      <td>0,99</td>\n",
       "      <td>4,42</td>\n",
       "      <td>22000.0</td>\n",
       "      <td>97,9</td>\n",
       "      <td>453,5</td>\n",
       "      <td>26,07</td>\n",
       "      <td>9,87</td>\n",
       "      <td>64,06</td>\n",
       "      <td>3</td>\n",
       "      <td>10,06</td>\n",
       "      <td>9,72</td>\n",
       "      <td>0,04</td>\n",
       "      <td>0,295</td>\n",
       "      <td>0,665</td>\n",
       "    </tr>\n",
       "    <tr>\n",
       "      <th>195</th>\n",
       "      <td>Sweden</td>\n",
       "      <td>WESTERN EUROPE</td>\n",
       "      <td>9016596</td>\n",
       "      <td>449964</td>\n",
       "      <td>20,0</td>\n",
       "      <td>0,72</td>\n",
       "      <td>1,67</td>\n",
       "      <td>2,77</td>\n",
       "      <td>26800.0</td>\n",
       "      <td>99,0</td>\n",
       "      <td>715,0</td>\n",
       "      <td>6,54</td>\n",
       "      <td>0,01</td>\n",
       "      <td>93,45</td>\n",
       "      <td>3</td>\n",
       "      <td>10,27</td>\n",
       "      <td>10,31</td>\n",
       "      <td>0,011</td>\n",
       "      <td>0,282</td>\n",
       "      <td>0,707</td>\n",
       "    </tr>\n",
       "    <tr>\n",
       "      <th>196</th>\n",
       "      <td>Switzerland</td>\n",
       "      <td>WESTERN EUROPE</td>\n",
       "      <td>7523934</td>\n",
       "      <td>41290</td>\n",
       "      <td>182,2</td>\n",
       "      <td>0,00</td>\n",
       "      <td>4,05</td>\n",
       "      <td>4,39</td>\n",
       "      <td>32700.0</td>\n",
       "      <td>99,0</td>\n",
       "      <td>680,9</td>\n",
       "      <td>10,42</td>\n",
       "      <td>0,61</td>\n",
       "      <td>88,97</td>\n",
       "      <td>3</td>\n",
       "      <td>9,71</td>\n",
       "      <td>8,49</td>\n",
       "      <td>0,015</td>\n",
       "      <td>0,34</td>\n",
       "      <td>0,645</td>\n",
       "    </tr>\n",
       "    <tr>\n",
       "      <th>213</th>\n",
       "      <td>United Kingdom</td>\n",
       "      <td>WESTERN EUROPE</td>\n",
       "      <td>60609153</td>\n",
       "      <td>244820</td>\n",
       "      <td>247,6</td>\n",
       "      <td>5,08</td>\n",
       "      <td>2,19</td>\n",
       "      <td>5,16</td>\n",
       "      <td>27700.0</td>\n",
       "      <td>99,0</td>\n",
       "      <td>543,5</td>\n",
       "      <td>23,46</td>\n",
       "      <td>0,21</td>\n",
       "      <td>76,33</td>\n",
       "      <td>3</td>\n",
       "      <td>10,71</td>\n",
       "      <td>10,13</td>\n",
       "      <td>0,005</td>\n",
       "      <td>0,237</td>\n",
       "      <td>0,758</td>\n",
       "    </tr>\n",
       "  </tbody>\n",
       "</table>\n",
       "</div>"
      ],
      "text/plain": [
       "                   Country                               Region  Population  \\\n",
       "1                 Albania   EASTERN EUROPE                          3581655   \n",
       "4                 Andorra   WESTERN EUROPE                            71201   \n",
       "12                Austria   WESTERN EUROPE                          8192880   \n",
       "19                Belgium   WESTERN EUROPE                         10379067   \n",
       "25   Bosnia & Herzegovina   EASTERN EUROPE                          4498976   \n",
       "30               Bulgaria   EASTERN EUROPE                          7385367   \n",
       "50                Croatia   EASTERN EUROPE                          4494749   \n",
       "53         Czech Republic   EASTERN EUROPE                         10235455   \n",
       "54                Denmark   WESTERN EUROPE                          5450661   \n",
       "66          Faroe Islands   WESTERN EUROPE                            47246   \n",
       "68                Finland   WESTERN EUROPE                          5231372   \n",
       "69                 France   WESTERN EUROPE                         60876136   \n",
       "76                Germany   WESTERN EUROPE                         82422299   \n",
       "78              Gibraltar   WESTERN EUROPE                            27928   \n",
       "79                 Greece   WESTERN EUROPE                         10688058   \n",
       "85               Guernsey   WESTERN EUROPE                            65409   \n",
       "92                Hungary   EASTERN EUROPE                          9981334   \n",
       "93                Iceland   WESTERN EUROPE                           299388   \n",
       "98                Ireland   WESTERN EUROPE                          4062235   \n",
       "99            Isle of Man   WESTERN EUROPE                            75441   \n",
       "101                 Italy   WESTERN EUROPE                         58133509   \n",
       "104                Jersey   WESTERN EUROPE                            91084   \n",
       "119         Liechtenstein   WESTERN EUROPE                            33987   \n",
       "121            Luxembourg   WESTERN EUROPE                           474413   \n",
       "123             Macedonia   EASTERN EUROPE                          2050554   \n",
       "129                 Malta   WESTERN EUROPE                           400214   \n",
       "138                Monaco   WESTERN EUROPE                            32543   \n",
       "146           Netherlands   WESTERN EUROPE                         16491461   \n",
       "154                Norway   WESTERN EUROPE                          4610820   \n",
       "163                Poland   EASTERN EUROPE                         38536869   \n",
       "164              Portugal   WESTERN EUROPE                         10605870   \n",
       "168               Romania   EASTERN EUROPE                         22303552   \n",
       "177            San Marino   WESTERN EUROPE                            29251   \n",
       "181                Serbia   EASTERN EUROPE                          9396411   \n",
       "185              Slovakia   EASTERN EUROPE                          5439448   \n",
       "186              Slovenia   EASTERN EUROPE                          2010347   \n",
       "190                 Spain   WESTERN EUROPE                         40397842   \n",
       "195                Sweden   WESTERN EUROPE                          9016596   \n",
       "196           Switzerland   WESTERN EUROPE                          7523934   \n",
       "213        United Kingdom   WESTERN EUROPE                         60609153   \n",
       "\n",
       "     Area (sq. mi.) Pop. Density (per sq. mi.) Coastline (coast/area ratio)  \\\n",
       "1             28748                      124,6                         1,26   \n",
       "4               468                      152,1                         0,00   \n",
       "12            83870                       97,7                         0,00   \n",
       "19            30528                      340,0                         0,22   \n",
       "25            51129                       88,0                         0,04   \n",
       "30           110910                       66,6                         0,32   \n",
       "50            56542                       79,5                        10,32   \n",
       "53            78866                      129,8                         0,00   \n",
       "54            43094                      126,5                        16,97   \n",
       "66             1399                       33,8                        79,84   \n",
       "68           338145                       15,5                         0,37   \n",
       "69           547030                      111,3                         0,63   \n",
       "76           357021                      230,9                         0,67   \n",
       "78                7                     3989,7                       171,43   \n",
       "79           131940                       81,0                        10,37   \n",
       "85               78                      838,6                        64,10   \n",
       "92            93030                      107,3                         0,00   \n",
       "93           103000                        2,9                         4,83   \n",
       "98            70280                       57,8                         2,06   \n",
       "99              572                      131,9                        27,97   \n",
       "101          301230                      193,0                         2,52   \n",
       "104             116                      785,2                        60,34   \n",
       "119             160                      212,4                         0,00   \n",
       "121            2586                      183,5                         0,00   \n",
       "123           25333                       80,9                         0,00   \n",
       "129             316                     1266,5                        62,28   \n",
       "138               2                    16271,5                       205,00   \n",
       "146           41526                      397,1                         1,09   \n",
       "154          323802                       14,2                         7,77   \n",
       "163          312685                      123,3                         0,16   \n",
       "164           92391                      114,8                         1,94   \n",
       "168          237500                       93,9                         0,09   \n",
       "177              61                      479,5                         0,00   \n",
       "181           88361                      106,3                         0,00   \n",
       "185           48845                      111,4                         0,00   \n",
       "186           20273                       99,2                         0,23   \n",
       "190          504782                       80,0                         0,98   \n",
       "195          449964                       20,0                         0,72   \n",
       "196           41290                      182,2                         0,00   \n",
       "213          244820                      247,6                         5,08   \n",
       "\n",
       "    Net migration Infant mortality (per 1000 births)  GDP ($ per capita)  \\\n",
       "1           -4,93                              21,52              4500.0   \n",
       "4             6,6                               4,05             19000.0   \n",
       "12              2                               4,66             30000.0   \n",
       "19           1,23                               4,68             29100.0   \n",
       "25           0,31                              21,05              6100.0   \n",
       "30          -4,58                              20,55              7600.0   \n",
       "50           1,58                               6,84             10600.0   \n",
       "53           0,97                               3,93             15700.0   \n",
       "54           2,48                               4,56             31100.0   \n",
       "66           1,41                               6,24             22000.0   \n",
       "68           0,95                               3,57             27400.0   \n",
       "69           0,66                               4,26             27600.0   \n",
       "76           2,18                               4,16             27600.0   \n",
       "78              0                               5,13             17500.0   \n",
       "79           2,35                               5,53             20000.0   \n",
       "85           3,84                               4,71             20000.0   \n",
       "92           0,86                               8,57             13900.0   \n",
       "93           2,38                               3,31             30900.0   \n",
       "98           4,99                               5,39             29600.0   \n",
       "99           5,36                               5,93             21000.0   \n",
       "101          2,07                               5,94             26700.0   \n",
       "104          2,76                               5,24             24800.0   \n",
       "119          4,85                                4,7             25000.0   \n",
       "121          8,97                               4,81             55100.0   \n",
       "123         -1,45                              10,09              6700.0   \n",
       "129          2,07                               3,89             17700.0   \n",
       "138          7,75                               5,43             27000.0   \n",
       "146          2,91                               5,04             28600.0   \n",
       "154          1,74                                3,7             37800.0   \n",
       "163         -0,49                               8,51             11100.0   \n",
       "164          3,57                               5,05             18000.0   \n",
       "168         -0,13                              26,43              7000.0   \n",
       "177         10,98                               5,73             34600.0   \n",
       "181         -1,33                              12,89              2200.0   \n",
       "185           0,3                               7,41             13300.0   \n",
       "186          1,12                               4,45             19000.0   \n",
       "190          0,99                               4,42             22000.0   \n",
       "195          1,67                               2,77             26800.0   \n",
       "196          4,05                               4,39             32700.0   \n",
       "213          2,19                               5,16             27700.0   \n",
       "\n",
       "    Literacy (%) Phones (per 1000) Arable (%) Crops (%) Other (%) Climate  \\\n",
       "1           86,5              71,2      21,09      4,42     74,49       3   \n",
       "4          100,0             497,2       2,22         0     97,78       3   \n",
       "12          98,0             452,2      16,91      0,86     82,23       3   \n",
       "19          98,0             462,6      23,28       0,4     76,32       3   \n",
       "25           NaN             215,4       13,6      2,96     83,44       4   \n",
       "30          98,6             336,3      40,02      1,92     58,06       3   \n",
       "50          98,5             420,4      26,09      2,27     71,65     NaN   \n",
       "53          99,9             314,3       39,8      3,05     57,15       3   \n",
       "54         100,0             614,6      54,02      0,19     45,79       3   \n",
       "66           NaN             503,8       2,14         0     97,86     NaN   \n",
       "68         100,0             405,3       7,19      0,03     92,78       3   \n",
       "69          99,0             586,4      33,53      2,07      64,4       4   \n",
       "76          99,0             667,9      33,85      0,59     65,56       3   \n",
       "78           NaN             877,7          0         0       100     NaN   \n",
       "79          97,5             589,7       21,1      8,78     70,12       3   \n",
       "85           NaN             842,4        NaN       NaN       NaN       3   \n",
       "92          99,4             336,2      50,09      2,06     47,85       3   \n",
       "93          99,9             647,7       0,07         0     99,93       3   \n",
       "98          98,0             500,5       15,2      0,03     84,77       3   \n",
       "99           NaN             676,0          9         0        91       3   \n",
       "101         98,6             430,9      27,79      9,53     62,68     NaN   \n",
       "104          NaN             811,3          0         0       100       3   \n",
       "119        100,0             585,5         25         0        75       4   \n",
       "121        100,0             515,4      23,28       0,4     76,32     NaN   \n",
       "123          NaN             260,0      22,26      1,81     75,93       3   \n",
       "129         92,8             505,0      28,13      3,13     68,74     NaN   \n",
       "138         99,0            1035,6          0         0       100     NaN   \n",
       "146         99,0             460,8      26,71      0,97     72,32       3   \n",
       "154        100,0             461,7       2,87         0     97,13       3   \n",
       "163         99,8             306,3      45,91      1,12     52,97       3   \n",
       "164         93,3             399,2      21,75      7,81     70,44       3   \n",
       "168         98,4             196,9      40,82      2,25     56,93       3   \n",
       "177         96,0             704,3      16,67         0     83,33     NaN   \n",
       "181         93,0             285,8      33,35       3,2     63,45     NaN   \n",
       "185          NaN             220,1      30,16      2,62     67,22       3   \n",
       "186         99,7             406,1        8,6      1,49     89,91     NaN   \n",
       "190         97,9             453,5      26,07      9,87     64,06       3   \n",
       "195         99,0             715,0       6,54      0,01     93,45       3   \n",
       "196         99,0             680,9      10,42      0,61     88,97       3   \n",
       "213         99,0             543,5      23,46      0,21     76,33       3   \n",
       "\n",
       "    Birthrate Deathrate Agriculture Industry Service  \n",
       "1       15,11      5,22       0,232    0,188   0,579  \n",
       "4        8,71      6,25         NaN      NaN     NaN  \n",
       "12       8,74      9,76       0,018    0,304   0,678  \n",
       "19      10,38     10,27        0,01     0,24   0,749  \n",
       "25       8,77      8,27       0,142    0,308    0,55  \n",
       "30       9,65     14,27       0,093    0,304   0,603  \n",
       "50       9,61     11,48        0,07    0,308   0,622  \n",
       "53       9,02     10,59       0,034    0,393   0,573  \n",
       "54      11,13     10,36       0,018    0,246   0,735  \n",
       "66      14,05       8,7        0,27     0,11    0,62  \n",
       "68      10,45      9,86       0,028    0,295   0,676  \n",
       "69      11,99      9,14       0,022    0,214   0,764  \n",
       "76       8,25     10,62       0,009    0,296   0,695  \n",
       "78      10,74      9,31         NaN      NaN     NaN  \n",
       "79       9,68     10,24       0,054    0,213   0,733  \n",
       "85       8,81     10,01        0,03      0,1    0,87  \n",
       "92       9,72     13,11       0,037    0,312   0,651  \n",
       "93      13,64      6,72       0,086     0,15   0,765  \n",
       "98      14,45      7,82        0,05     0,46    0,49  \n",
       "99      11,05     11,19        0,01     0,13    0,86  \n",
       "101      8,72      10,4       0,021    0,291   0,688  \n",
       "104       9,3      9,28        0,05     0,02    0,93  \n",
       "119     10,21      7,18        0,06     0,39    0,55  \n",
       "121     11,94      8,41        0,01     0,13    0,86  \n",
       "123     12,02      8,77       0,118    0,319   0,563  \n",
       "129     10,22       8,1        0,03     0,23    0,74  \n",
       "138      9,19     12,91        0,17      NaN     NaN  \n",
       "146      10,9      8,68       0,021    0,244   0,736  \n",
       "154     11,46       9,4       0,021    0,415   0,564  \n",
       "163      9,85      9,89        0,05    0,311    0,64  \n",
       "164     10,72      10,5       0,053    0,274   0,673  \n",
       "168      10,7     11,77       0,101     0,35   0,549  \n",
       "177     10,02      8,17         NaN      NaN     NaN  \n",
       "181       NaN       NaN       0,166    0,255   0,579  \n",
       "185     10,65      9,45       0,035    0,294   0,672  \n",
       "186      8,98     10,31       0,028    0,369   0,603  \n",
       "190     10,06      9,72        0,04    0,295   0,665  \n",
       "195     10,27     10,31       0,011    0,282   0,707  \n",
       "196      9,71      8,49       0,015     0,34   0,645  \n",
       "213     10,71     10,13       0,005    0,237   0,758  "
      ]
     },
     "execution_count": 180,
     "metadata": {},
     "output_type": "execute_result"
    }
   ],
   "source": [
    "europe_filter = df[\"Region\"].str.contains(\"EUR\")  # Busco paises europeos\n",
    "df[europe_filter]"
   ]
  },
  {
   "cell_type": "code",
   "execution_count": 181,
   "metadata": {},
   "outputs": [
    {
     "data": {
      "text/plain": [
       "0"
      ]
     },
     "execution_count": 181,
     "metadata": {},
     "output_type": "execute_result"
    }
   ],
   "source": [
    "condicion1 = (df.Region ==\"OCEANIA\")\n",
    "condicion2 = (df[\"Population\"]<1000000)\n",
    "\n",
    "df[condicion1&condicion2][\"Population\"].sum()"
   ]
  },
  {
   "cell_type": "code",
   "execution_count": 182,
   "metadata": {},
   "outputs": [
    {
     "data": {
      "text/plain": [
       "['ASIA (EX. NEAR EAST)         ',\n",
       " 'EASTERN EUROPE                     ',\n",
       " 'NORTHERN AFRICA                    ',\n",
       " 'OCEANIA                            ',\n",
       " 'WESTERN EUROPE                     ',\n",
       " 'SUB-SAHARAN AFRICA                 ',\n",
       " 'LATIN AMER. & CARIB    ',\n",
       " 'C.W. OF IND. STATES ',\n",
       " 'NEAR EAST                          ',\n",
       " 'NORTHERN AMERICA                   ',\n",
       " 'BALTICS                            ']"
      ]
     },
     "execution_count": 182,
     "metadata": {},
     "output_type": "execute_result"
    }
   ],
   "source": [
    "list(df[\"Region\"].unique())"
   ]
  },
  {
   "cell_type": "code",
   "execution_count": 183,
   "metadata": {},
   "outputs": [
    {
     "data": {
      "text/html": [
       "<div>\n",
       "<style scoped>\n",
       "    .dataframe tbody tr th:only-of-type {\n",
       "        vertical-align: middle;\n",
       "    }\n",
       "\n",
       "    .dataframe tbody tr th {\n",
       "        vertical-align: top;\n",
       "    }\n",
       "\n",
       "    .dataframe thead th {\n",
       "        text-align: right;\n",
       "    }\n",
       "</style>\n",
       "<table border=\"1\" class=\"dataframe\">\n",
       "  <thead>\n",
       "    <tr style=\"text-align: right;\">\n",
       "      <th></th>\n",
       "      <th>Country</th>\n",
       "      <th>Region</th>\n",
       "      <th>Population</th>\n",
       "      <th>Area (sq. mi.)</th>\n",
       "      <th>Pop. Density (per sq. mi.)</th>\n",
       "      <th>Coastline (coast/area ratio)</th>\n",
       "      <th>Net migration</th>\n",
       "      <th>Infant mortality (per 1000 births)</th>\n",
       "      <th>GDP ($ per capita)</th>\n",
       "      <th>Literacy (%)</th>\n",
       "      <th>Phones (per 1000)</th>\n",
       "      <th>Arable (%)</th>\n",
       "      <th>Crops (%)</th>\n",
       "      <th>Other (%)</th>\n",
       "      <th>Climate</th>\n",
       "      <th>Birthrate</th>\n",
       "      <th>Deathrate</th>\n",
       "      <th>Agriculture</th>\n",
       "      <th>Industry</th>\n",
       "      <th>Service</th>\n",
       "    </tr>\n",
       "  </thead>\n",
       "  <tbody>\n",
       "    <tr>\n",
       "      <th>0</th>\n",
       "      <td>Afghanistan</td>\n",
       "      <td>ASIA (EX. NEAR EAST)</td>\n",
       "      <td>31056997</td>\n",
       "      <td>647500</td>\n",
       "      <td>48,0</td>\n",
       "      <td>0,00</td>\n",
       "      <td>23,06</td>\n",
       "      <td>163,07</td>\n",
       "      <td>700.0</td>\n",
       "      <td>36,0</td>\n",
       "      <td>3,2</td>\n",
       "      <td>12,13</td>\n",
       "      <td>0,22</td>\n",
       "      <td>87,65</td>\n",
       "      <td>1</td>\n",
       "      <td>46,6</td>\n",
       "      <td>20,34</td>\n",
       "      <td>0,38</td>\n",
       "      <td>0,24</td>\n",
       "      <td>0,38</td>\n",
       "    </tr>\n",
       "    <tr>\n",
       "      <th>1</th>\n",
       "      <td>Albania</td>\n",
       "      <td>EASTERN EUROPE</td>\n",
       "      <td>3581655</td>\n",
       "      <td>28748</td>\n",
       "      <td>124,6</td>\n",
       "      <td>1,26</td>\n",
       "      <td>-4,93</td>\n",
       "      <td>21,52</td>\n",
       "      <td>4500.0</td>\n",
       "      <td>86,5</td>\n",
       "      <td>71,2</td>\n",
       "      <td>21,09</td>\n",
       "      <td>4,42</td>\n",
       "      <td>74,49</td>\n",
       "      <td>3</td>\n",
       "      <td>15,11</td>\n",
       "      <td>5,22</td>\n",
       "      <td>0,232</td>\n",
       "      <td>0,188</td>\n",
       "      <td>0,579</td>\n",
       "    </tr>\n",
       "    <tr>\n",
       "      <th>2</th>\n",
       "      <td>Algeria</td>\n",
       "      <td>NORTHERN AFRICA</td>\n",
       "      <td>32930091</td>\n",
       "      <td>2381740</td>\n",
       "      <td>13,8</td>\n",
       "      <td>0,04</td>\n",
       "      <td>-0,39</td>\n",
       "      <td>31</td>\n",
       "      <td>6000.0</td>\n",
       "      <td>70,0</td>\n",
       "      <td>78,1</td>\n",
       "      <td>3,22</td>\n",
       "      <td>0,25</td>\n",
       "      <td>96,53</td>\n",
       "      <td>1</td>\n",
       "      <td>17,14</td>\n",
       "      <td>4,61</td>\n",
       "      <td>0,101</td>\n",
       "      <td>0,6</td>\n",
       "      <td>0,298</td>\n",
       "    </tr>\n",
       "    <tr>\n",
       "      <th>3</th>\n",
       "      <td>American Samoa</td>\n",
       "      <td>OCEANIA</td>\n",
       "      <td>57794</td>\n",
       "      <td>199</td>\n",
       "      <td>290,4</td>\n",
       "      <td>58,29</td>\n",
       "      <td>-20,71</td>\n",
       "      <td>9,27</td>\n",
       "      <td>8000.0</td>\n",
       "      <td>97,0</td>\n",
       "      <td>259,5</td>\n",
       "      <td>10</td>\n",
       "      <td>15</td>\n",
       "      <td>75</td>\n",
       "      <td>2</td>\n",
       "      <td>22,46</td>\n",
       "      <td>3,27</td>\n",
       "      <td>NaN</td>\n",
       "      <td>NaN</td>\n",
       "      <td>NaN</td>\n",
       "    </tr>\n",
       "    <tr>\n",
       "      <th>4</th>\n",
       "      <td>Andorra</td>\n",
       "      <td>WESTERN EUROPE</td>\n",
       "      <td>71201</td>\n",
       "      <td>468</td>\n",
       "      <td>152,1</td>\n",
       "      <td>0,00</td>\n",
       "      <td>6,6</td>\n",
       "      <td>4,05</td>\n",
       "      <td>19000.0</td>\n",
       "      <td>100,0</td>\n",
       "      <td>497,2</td>\n",
       "      <td>2,22</td>\n",
       "      <td>0</td>\n",
       "      <td>97,78</td>\n",
       "      <td>3</td>\n",
       "      <td>8,71</td>\n",
       "      <td>6,25</td>\n",
       "      <td>NaN</td>\n",
       "      <td>NaN</td>\n",
       "      <td>NaN</td>\n",
       "    </tr>\n",
       "    <tr>\n",
       "      <th>...</th>\n",
       "      <td>...</td>\n",
       "      <td>...</td>\n",
       "      <td>...</td>\n",
       "      <td>...</td>\n",
       "      <td>...</td>\n",
       "      <td>...</td>\n",
       "      <td>...</td>\n",
       "      <td>...</td>\n",
       "      <td>...</td>\n",
       "      <td>...</td>\n",
       "      <td>...</td>\n",
       "      <td>...</td>\n",
       "      <td>...</td>\n",
       "      <td>...</td>\n",
       "      <td>...</td>\n",
       "      <td>...</td>\n",
       "      <td>...</td>\n",
       "      <td>...</td>\n",
       "      <td>...</td>\n",
       "      <td>...</td>\n",
       "    </tr>\n",
       "    <tr>\n",
       "      <th>222</th>\n",
       "      <td>West Bank</td>\n",
       "      <td>NEAR EAST</td>\n",
       "      <td>2460492</td>\n",
       "      <td>5860</td>\n",
       "      <td>419,9</td>\n",
       "      <td>0,00</td>\n",
       "      <td>2,98</td>\n",
       "      <td>19,62</td>\n",
       "      <td>800.0</td>\n",
       "      <td>NaN</td>\n",
       "      <td>145,2</td>\n",
       "      <td>16,9</td>\n",
       "      <td>18,97</td>\n",
       "      <td>64,13</td>\n",
       "      <td>3</td>\n",
       "      <td>31,67</td>\n",
       "      <td>3,92</td>\n",
       "      <td>0,09</td>\n",
       "      <td>0,28</td>\n",
       "      <td>0,63</td>\n",
       "    </tr>\n",
       "    <tr>\n",
       "      <th>223</th>\n",
       "      <td>Western Sahara</td>\n",
       "      <td>NORTHERN AFRICA</td>\n",
       "      <td>273008</td>\n",
       "      <td>266000</td>\n",
       "      <td>1,0</td>\n",
       "      <td>0,42</td>\n",
       "      <td>NaN</td>\n",
       "      <td>NaN</td>\n",
       "      <td>NaN</td>\n",
       "      <td>NaN</td>\n",
       "      <td>NaN</td>\n",
       "      <td>0,02</td>\n",
       "      <td>0</td>\n",
       "      <td>99,98</td>\n",
       "      <td>1</td>\n",
       "      <td>NaN</td>\n",
       "      <td>NaN</td>\n",
       "      <td>NaN</td>\n",
       "      <td>NaN</td>\n",
       "      <td>0,4</td>\n",
       "    </tr>\n",
       "    <tr>\n",
       "      <th>224</th>\n",
       "      <td>Yemen</td>\n",
       "      <td>NEAR EAST</td>\n",
       "      <td>21456188</td>\n",
       "      <td>527970</td>\n",
       "      <td>40,6</td>\n",
       "      <td>0,36</td>\n",
       "      <td>0</td>\n",
       "      <td>61,5</td>\n",
       "      <td>800.0</td>\n",
       "      <td>50,2</td>\n",
       "      <td>37,2</td>\n",
       "      <td>2,78</td>\n",
       "      <td>0,24</td>\n",
       "      <td>96,98</td>\n",
       "      <td>1</td>\n",
       "      <td>42,89</td>\n",
       "      <td>8,3</td>\n",
       "      <td>0,135</td>\n",
       "      <td>0,472</td>\n",
       "      <td>0,393</td>\n",
       "    </tr>\n",
       "    <tr>\n",
       "      <th>225</th>\n",
       "      <td>Zambia</td>\n",
       "      <td>SUB-SAHARAN AFRICA</td>\n",
       "      <td>11502010</td>\n",
       "      <td>752614</td>\n",
       "      <td>15,3</td>\n",
       "      <td>0,00</td>\n",
       "      <td>0</td>\n",
       "      <td>88,29</td>\n",
       "      <td>800.0</td>\n",
       "      <td>80,6</td>\n",
       "      <td>8,2</td>\n",
       "      <td>7,08</td>\n",
       "      <td>0,03</td>\n",
       "      <td>92,9</td>\n",
       "      <td>2</td>\n",
       "      <td>41</td>\n",
       "      <td>19,93</td>\n",
       "      <td>0,22</td>\n",
       "      <td>0,29</td>\n",
       "      <td>0,489</td>\n",
       "    </tr>\n",
       "    <tr>\n",
       "      <th>226</th>\n",
       "      <td>Zimbabwe</td>\n",
       "      <td>SUB-SAHARAN AFRICA</td>\n",
       "      <td>12236805</td>\n",
       "      <td>390580</td>\n",
       "      <td>31,3</td>\n",
       "      <td>0,00</td>\n",
       "      <td>0</td>\n",
       "      <td>67,69</td>\n",
       "      <td>1900.0</td>\n",
       "      <td>90,7</td>\n",
       "      <td>26,8</td>\n",
       "      <td>8,32</td>\n",
       "      <td>0,34</td>\n",
       "      <td>91,34</td>\n",
       "      <td>2</td>\n",
       "      <td>28,01</td>\n",
       "      <td>21,84</td>\n",
       "      <td>0,179</td>\n",
       "      <td>0,243</td>\n",
       "      <td>0,579</td>\n",
       "    </tr>\n",
       "  </tbody>\n",
       "</table>\n",
       "<p>227 rows × 20 columns</p>\n",
       "</div>"
      ],
      "text/plain": [
       "             Country                               Region  Population  \\\n",
       "0       Afghanistan         ASIA (EX. NEAR EAST)             31056997   \n",
       "1           Albania   EASTERN EUROPE                          3581655   \n",
       "2           Algeria   NORTHERN AFRICA                        32930091   \n",
       "3    American Samoa   OCEANIA                                   57794   \n",
       "4           Andorra   WESTERN EUROPE                            71201   \n",
       "..               ...                                  ...         ...   \n",
       "222       West Bank   NEAR EAST                               2460492   \n",
       "223  Western Sahara   NORTHERN AFRICA                          273008   \n",
       "224           Yemen   NEAR EAST                              21456188   \n",
       "225          Zambia   SUB-SAHARAN AFRICA                     11502010   \n",
       "226        Zimbabwe   SUB-SAHARAN AFRICA                     12236805   \n",
       "\n",
       "     Area (sq. mi.) Pop. Density (per sq. mi.) Coastline (coast/area ratio)  \\\n",
       "0            647500                       48,0                         0,00   \n",
       "1             28748                      124,6                         1,26   \n",
       "2           2381740                       13,8                         0,04   \n",
       "3               199                      290,4                        58,29   \n",
       "4               468                      152,1                         0,00   \n",
       "..              ...                        ...                          ...   \n",
       "222            5860                      419,9                         0,00   \n",
       "223          266000                        1,0                         0,42   \n",
       "224          527970                       40,6                         0,36   \n",
       "225          752614                       15,3                         0,00   \n",
       "226          390580                       31,3                         0,00   \n",
       "\n",
       "    Net migration Infant mortality (per 1000 births)  GDP ($ per capita)  \\\n",
       "0           23,06                             163,07               700.0   \n",
       "1           -4,93                              21,52              4500.0   \n",
       "2           -0,39                                 31              6000.0   \n",
       "3          -20,71                               9,27              8000.0   \n",
       "4             6,6                               4,05             19000.0   \n",
       "..            ...                                ...                 ...   \n",
       "222          2,98                              19,62               800.0   \n",
       "223           NaN                                NaN                 NaN   \n",
       "224             0                               61,5               800.0   \n",
       "225             0                              88,29               800.0   \n",
       "226             0                              67,69              1900.0   \n",
       "\n",
       "    Literacy (%) Phones (per 1000) Arable (%) Crops (%) Other (%) Climate  \\\n",
       "0           36,0               3,2      12,13      0,22     87,65       1   \n",
       "1           86,5              71,2      21,09      4,42     74,49       3   \n",
       "2           70,0              78,1       3,22      0,25     96,53       1   \n",
       "3           97,0             259,5         10        15        75       2   \n",
       "4          100,0             497,2       2,22         0     97,78       3   \n",
       "..           ...               ...        ...       ...       ...     ...   \n",
       "222          NaN             145,2       16,9     18,97     64,13       3   \n",
       "223          NaN               NaN       0,02         0     99,98       1   \n",
       "224         50,2              37,2       2,78      0,24     96,98       1   \n",
       "225         80,6               8,2       7,08      0,03      92,9       2   \n",
       "226         90,7              26,8       8,32      0,34     91,34       2   \n",
       "\n",
       "    Birthrate Deathrate Agriculture Industry Service  \n",
       "0        46,6     20,34        0,38     0,24    0,38  \n",
       "1       15,11      5,22       0,232    0,188   0,579  \n",
       "2       17,14      4,61       0,101      0,6   0,298  \n",
       "3       22,46      3,27         NaN      NaN     NaN  \n",
       "4        8,71      6,25         NaN      NaN     NaN  \n",
       "..        ...       ...         ...      ...     ...  \n",
       "222     31,67      3,92        0,09     0,28    0,63  \n",
       "223       NaN       NaN         NaN      NaN     0,4  \n",
       "224     42,89       8,3       0,135    0,472   0,393  \n",
       "225        41     19,93        0,22     0,29   0,489  \n",
       "226     28,01     21,84       0,179    0,243   0,579  \n",
       "\n",
       "[227 rows x 20 columns]"
      ]
     },
     "execution_count": 183,
     "metadata": {},
     "output_type": "execute_result"
    }
   ],
   "source": [
    "df[~df[\"Region\"].isin([\"WESTERN EUROPE\",'EASTERN EUROPE'])]     # ~ (alt gr) ANTI FILTRO"
   ]
  },
  {
   "cell_type": "code",
   "execution_count": 184,
   "metadata": {},
   "outputs": [
    {
     "data": {
      "text/plain": [
       "0         Afghanistan \n",
       "1             Albania \n",
       "2             Algeria \n",
       "3      American Samoa \n",
       "4             Andorra \n",
       "            ...       \n",
       "222         West Bank \n",
       "223    Western Sahara \n",
       "224             Yemen \n",
       "225            Zambia \n",
       "226          Zimbabwe \n",
       "Name: Country, Length: 227, dtype: object"
      ]
     },
     "execution_count": 184,
     "metadata": {},
     "output_type": "execute_result"
    }
   ],
   "source": [
    "df[\"Country\"]"
   ]
  },
  {
   "cell_type": "code",
   "execution_count": 185,
   "metadata": {},
   "outputs": [],
   "source": [
    "df[\"Country\"] = df[\"Country\"].map(str.strip)"
   ]
  },
  {
   "cell_type": "code",
   "execution_count": null,
   "metadata": {},
   "outputs": [],
   "source": [
    "df.set_index(\"Country\", inplace=True)   #Le saco el index y se pongo Cpuntry como 1"
   ]
  },
  {
   "cell_type": "code",
   "execution_count": 190,
   "metadata": {},
   "outputs": [
    {
     "data": {
      "text/html": [
       "<div>\n",
       "<style scoped>\n",
       "    .dataframe tbody tr th:only-of-type {\n",
       "        vertical-align: middle;\n",
       "    }\n",
       "\n",
       "    .dataframe tbody tr th {\n",
       "        vertical-align: top;\n",
       "    }\n",
       "\n",
       "    .dataframe thead th {\n",
       "        text-align: right;\n",
       "    }\n",
       "</style>\n",
       "<table border=\"1\" class=\"dataframe\">\n",
       "  <thead>\n",
       "    <tr style=\"text-align: right;\">\n",
       "      <th></th>\n",
       "      <th>Region</th>\n",
       "      <th>Population</th>\n",
       "      <th>Area (sq. mi.)</th>\n",
       "      <th>Pop. Density (per sq. mi.)</th>\n",
       "      <th>Coastline (coast/area ratio)</th>\n",
       "      <th>Net migration</th>\n",
       "      <th>Infant mortality (per 1000 births)</th>\n",
       "      <th>GDP ($ per capita)</th>\n",
       "      <th>Literacy (%)</th>\n",
       "      <th>Phones (per 1000)</th>\n",
       "      <th>Arable (%)</th>\n",
       "      <th>Crops (%)</th>\n",
       "      <th>Other (%)</th>\n",
       "      <th>Climate</th>\n",
       "      <th>Birthrate</th>\n",
       "      <th>Deathrate</th>\n",
       "      <th>Agriculture</th>\n",
       "      <th>Industry</th>\n",
       "      <th>Service</th>\n",
       "    </tr>\n",
       "    <tr>\n",
       "      <th>Country</th>\n",
       "      <th></th>\n",
       "      <th></th>\n",
       "      <th></th>\n",
       "      <th></th>\n",
       "      <th></th>\n",
       "      <th></th>\n",
       "      <th></th>\n",
       "      <th></th>\n",
       "      <th></th>\n",
       "      <th></th>\n",
       "      <th></th>\n",
       "      <th></th>\n",
       "      <th></th>\n",
       "      <th></th>\n",
       "      <th></th>\n",
       "      <th></th>\n",
       "      <th></th>\n",
       "      <th></th>\n",
       "      <th></th>\n",
       "    </tr>\n",
       "  </thead>\n",
       "  <tbody>\n",
       "    <tr>\n",
       "      <th>Afghanistan</th>\n",
       "      <td>ASIA (EX. NEAR EAST)</td>\n",
       "      <td>31056997</td>\n",
       "      <td>647500</td>\n",
       "      <td>48,0</td>\n",
       "      <td>0,00</td>\n",
       "      <td>23,06</td>\n",
       "      <td>163,07</td>\n",
       "      <td>700.0</td>\n",
       "      <td>36,0</td>\n",
       "      <td>3,2</td>\n",
       "      <td>12,13</td>\n",
       "      <td>0,22</td>\n",
       "      <td>87,65</td>\n",
       "      <td>1</td>\n",
       "      <td>46,6</td>\n",
       "      <td>20,34</td>\n",
       "      <td>0,38</td>\n",
       "      <td>0,24</td>\n",
       "      <td>0,38</td>\n",
       "    </tr>\n",
       "    <tr>\n",
       "      <th>Albania</th>\n",
       "      <td>EASTERN EUROPE</td>\n",
       "      <td>3581655</td>\n",
       "      <td>28748</td>\n",
       "      <td>124,6</td>\n",
       "      <td>1,26</td>\n",
       "      <td>-4,93</td>\n",
       "      <td>21,52</td>\n",
       "      <td>4500.0</td>\n",
       "      <td>86,5</td>\n",
       "      <td>71,2</td>\n",
       "      <td>21,09</td>\n",
       "      <td>4,42</td>\n",
       "      <td>74,49</td>\n",
       "      <td>3</td>\n",
       "      <td>15,11</td>\n",
       "      <td>5,22</td>\n",
       "      <td>0,232</td>\n",
       "      <td>0,188</td>\n",
       "      <td>0,579</td>\n",
       "    </tr>\n",
       "    <tr>\n",
       "      <th>Algeria</th>\n",
       "      <td>NORTHERN AFRICA</td>\n",
       "      <td>32930091</td>\n",
       "      <td>2381740</td>\n",
       "      <td>13,8</td>\n",
       "      <td>0,04</td>\n",
       "      <td>-0,39</td>\n",
       "      <td>31</td>\n",
       "      <td>6000.0</td>\n",
       "      <td>70,0</td>\n",
       "      <td>78,1</td>\n",
       "      <td>3,22</td>\n",
       "      <td>0,25</td>\n",
       "      <td>96,53</td>\n",
       "      <td>1</td>\n",
       "      <td>17,14</td>\n",
       "      <td>4,61</td>\n",
       "      <td>0,101</td>\n",
       "      <td>0,6</td>\n",
       "      <td>0,298</td>\n",
       "    </tr>\n",
       "    <tr>\n",
       "      <th>American Samoa</th>\n",
       "      <td>OCEANIA</td>\n",
       "      <td>57794</td>\n",
       "      <td>199</td>\n",
       "      <td>290,4</td>\n",
       "      <td>58,29</td>\n",
       "      <td>-20,71</td>\n",
       "      <td>9,27</td>\n",
       "      <td>8000.0</td>\n",
       "      <td>97,0</td>\n",
       "      <td>259,5</td>\n",
       "      <td>10</td>\n",
       "      <td>15</td>\n",
       "      <td>75</td>\n",
       "      <td>2</td>\n",
       "      <td>22,46</td>\n",
       "      <td>3,27</td>\n",
       "      <td>NaN</td>\n",
       "      <td>NaN</td>\n",
       "      <td>NaN</td>\n",
       "    </tr>\n",
       "    <tr>\n",
       "      <th>Andorra</th>\n",
       "      <td>WESTERN EUROPE</td>\n",
       "      <td>71201</td>\n",
       "      <td>468</td>\n",
       "      <td>152,1</td>\n",
       "      <td>0,00</td>\n",
       "      <td>6,6</td>\n",
       "      <td>4,05</td>\n",
       "      <td>19000.0</td>\n",
       "      <td>100,0</td>\n",
       "      <td>497,2</td>\n",
       "      <td>2,22</td>\n",
       "      <td>0</td>\n",
       "      <td>97,78</td>\n",
       "      <td>3</td>\n",
       "      <td>8,71</td>\n",
       "      <td>6,25</td>\n",
       "      <td>NaN</td>\n",
       "      <td>NaN</td>\n",
       "      <td>NaN</td>\n",
       "    </tr>\n",
       "    <tr>\n",
       "      <th>...</th>\n",
       "      <td>...</td>\n",
       "      <td>...</td>\n",
       "      <td>...</td>\n",
       "      <td>...</td>\n",
       "      <td>...</td>\n",
       "      <td>...</td>\n",
       "      <td>...</td>\n",
       "      <td>...</td>\n",
       "      <td>...</td>\n",
       "      <td>...</td>\n",
       "      <td>...</td>\n",
       "      <td>...</td>\n",
       "      <td>...</td>\n",
       "      <td>...</td>\n",
       "      <td>...</td>\n",
       "      <td>...</td>\n",
       "      <td>...</td>\n",
       "      <td>...</td>\n",
       "      <td>...</td>\n",
       "    </tr>\n",
       "    <tr>\n",
       "      <th>West Bank</th>\n",
       "      <td>NEAR EAST</td>\n",
       "      <td>2460492</td>\n",
       "      <td>5860</td>\n",
       "      <td>419,9</td>\n",
       "      <td>0,00</td>\n",
       "      <td>2,98</td>\n",
       "      <td>19,62</td>\n",
       "      <td>800.0</td>\n",
       "      <td>NaN</td>\n",
       "      <td>145,2</td>\n",
       "      <td>16,9</td>\n",
       "      <td>18,97</td>\n",
       "      <td>64,13</td>\n",
       "      <td>3</td>\n",
       "      <td>31,67</td>\n",
       "      <td>3,92</td>\n",
       "      <td>0,09</td>\n",
       "      <td>0,28</td>\n",
       "      <td>0,63</td>\n",
       "    </tr>\n",
       "    <tr>\n",
       "      <th>Western Sahara</th>\n",
       "      <td>NORTHERN AFRICA</td>\n",
       "      <td>273008</td>\n",
       "      <td>266000</td>\n",
       "      <td>1,0</td>\n",
       "      <td>0,42</td>\n",
       "      <td>NaN</td>\n",
       "      <td>NaN</td>\n",
       "      <td>NaN</td>\n",
       "      <td>NaN</td>\n",
       "      <td>NaN</td>\n",
       "      <td>0,02</td>\n",
       "      <td>0</td>\n",
       "      <td>99,98</td>\n",
       "      <td>1</td>\n",
       "      <td>NaN</td>\n",
       "      <td>NaN</td>\n",
       "      <td>NaN</td>\n",
       "      <td>NaN</td>\n",
       "      <td>0,4</td>\n",
       "    </tr>\n",
       "    <tr>\n",
       "      <th>Yemen</th>\n",
       "      <td>NEAR EAST</td>\n",
       "      <td>21456188</td>\n",
       "      <td>527970</td>\n",
       "      <td>40,6</td>\n",
       "      <td>0,36</td>\n",
       "      <td>0</td>\n",
       "      <td>61,5</td>\n",
       "      <td>800.0</td>\n",
       "      <td>50,2</td>\n",
       "      <td>37,2</td>\n",
       "      <td>2,78</td>\n",
       "      <td>0,24</td>\n",
       "      <td>96,98</td>\n",
       "      <td>1</td>\n",
       "      <td>42,89</td>\n",
       "      <td>8,3</td>\n",
       "      <td>0,135</td>\n",
       "      <td>0,472</td>\n",
       "      <td>0,393</td>\n",
       "    </tr>\n",
       "    <tr>\n",
       "      <th>Zambia</th>\n",
       "      <td>SUB-SAHARAN AFRICA</td>\n",
       "      <td>11502010</td>\n",
       "      <td>752614</td>\n",
       "      <td>15,3</td>\n",
       "      <td>0,00</td>\n",
       "      <td>0</td>\n",
       "      <td>88,29</td>\n",
       "      <td>800.0</td>\n",
       "      <td>80,6</td>\n",
       "      <td>8,2</td>\n",
       "      <td>7,08</td>\n",
       "      <td>0,03</td>\n",
       "      <td>92,9</td>\n",
       "      <td>2</td>\n",
       "      <td>41</td>\n",
       "      <td>19,93</td>\n",
       "      <td>0,22</td>\n",
       "      <td>0,29</td>\n",
       "      <td>0,489</td>\n",
       "    </tr>\n",
       "    <tr>\n",
       "      <th>Zimbabwe</th>\n",
       "      <td>SUB-SAHARAN AFRICA</td>\n",
       "      <td>12236805</td>\n",
       "      <td>390580</td>\n",
       "      <td>31,3</td>\n",
       "      <td>0,00</td>\n",
       "      <td>0</td>\n",
       "      <td>67,69</td>\n",
       "      <td>1900.0</td>\n",
       "      <td>90,7</td>\n",
       "      <td>26,8</td>\n",
       "      <td>8,32</td>\n",
       "      <td>0,34</td>\n",
       "      <td>91,34</td>\n",
       "      <td>2</td>\n",
       "      <td>28,01</td>\n",
       "      <td>21,84</td>\n",
       "      <td>0,179</td>\n",
       "      <td>0,243</td>\n",
       "      <td>0,579</td>\n",
       "    </tr>\n",
       "  </tbody>\n",
       "</table>\n",
       "<p>227 rows × 19 columns</p>\n",
       "</div>"
      ],
      "text/plain": [
       "                                             Region  Population  \\\n",
       "Country                                                           \n",
       "Afghanistan           ASIA (EX. NEAR EAST)             31056997   \n",
       "Albania         EASTERN EUROPE                          3581655   \n",
       "Algeria         NORTHERN AFRICA                        32930091   \n",
       "American Samoa  OCEANIA                                   57794   \n",
       "Andorra         WESTERN EUROPE                            71201   \n",
       "...                                             ...         ...   \n",
       "West Bank       NEAR EAST                               2460492   \n",
       "Western Sahara  NORTHERN AFRICA                          273008   \n",
       "Yemen           NEAR EAST                              21456188   \n",
       "Zambia          SUB-SAHARAN AFRICA                     11502010   \n",
       "Zimbabwe        SUB-SAHARAN AFRICA                     12236805   \n",
       "\n",
       "                Area (sq. mi.) Pop. Density (per sq. mi.)  \\\n",
       "Country                                                     \n",
       "Afghanistan             647500                       48,0   \n",
       "Albania                  28748                      124,6   \n",
       "Algeria                2381740                       13,8   \n",
       "American Samoa             199                      290,4   \n",
       "Andorra                    468                      152,1   \n",
       "...                        ...                        ...   \n",
       "West Bank                 5860                      419,9   \n",
       "Western Sahara          266000                        1,0   \n",
       "Yemen                   527970                       40,6   \n",
       "Zambia                  752614                       15,3   \n",
       "Zimbabwe                390580                       31,3   \n",
       "\n",
       "               Coastline (coast/area ratio) Net migration  \\\n",
       "Country                                                     \n",
       "Afghanistan                            0,00         23,06   \n",
       "Albania                                1,26         -4,93   \n",
       "Algeria                                0,04         -0,39   \n",
       "American Samoa                        58,29        -20,71   \n",
       "Andorra                                0,00           6,6   \n",
       "...                                     ...           ...   \n",
       "West Bank                              0,00          2,98   \n",
       "Western Sahara                         0,42           NaN   \n",
       "Yemen                                  0,36             0   \n",
       "Zambia                                 0,00             0   \n",
       "Zimbabwe                               0,00             0   \n",
       "\n",
       "               Infant mortality (per 1000 births)  GDP ($ per capita)  \\\n",
       "Country                                                                 \n",
       "Afghanistan                                163,07               700.0   \n",
       "Albania                                     21,52              4500.0   \n",
       "Algeria                                        31              6000.0   \n",
       "American Samoa                               9,27              8000.0   \n",
       "Andorra                                      4,05             19000.0   \n",
       "...                                           ...                 ...   \n",
       "West Bank                                   19,62               800.0   \n",
       "Western Sahara                                NaN                 NaN   \n",
       "Yemen                                        61,5               800.0   \n",
       "Zambia                                      88,29               800.0   \n",
       "Zimbabwe                                    67,69              1900.0   \n",
       "\n",
       "               Literacy (%) Phones (per 1000) Arable (%) Crops (%) Other (%)  \\\n",
       "Country                                                                        \n",
       "Afghanistan            36,0               3,2      12,13      0,22     87,65   \n",
       "Albania                86,5              71,2      21,09      4,42     74,49   \n",
       "Algeria                70,0              78,1       3,22      0,25     96,53   \n",
       "American Samoa         97,0             259,5         10        15        75   \n",
       "Andorra               100,0             497,2       2,22         0     97,78   \n",
       "...                     ...               ...        ...       ...       ...   \n",
       "West Bank               NaN             145,2       16,9     18,97     64,13   \n",
       "Western Sahara          NaN               NaN       0,02         0     99,98   \n",
       "Yemen                  50,2              37,2       2,78      0,24     96,98   \n",
       "Zambia                 80,6               8,2       7,08      0,03      92,9   \n",
       "Zimbabwe               90,7              26,8       8,32      0,34     91,34   \n",
       "\n",
       "               Climate Birthrate Deathrate Agriculture Industry Service  \n",
       "Country                                                                  \n",
       "Afghanistan          1      46,6     20,34        0,38     0,24    0,38  \n",
       "Albania              3     15,11      5,22       0,232    0,188   0,579  \n",
       "Algeria              1     17,14      4,61       0,101      0,6   0,298  \n",
       "American Samoa       2     22,46      3,27         NaN      NaN     NaN  \n",
       "Andorra              3      8,71      6,25         NaN      NaN     NaN  \n",
       "...                ...       ...       ...         ...      ...     ...  \n",
       "West Bank            3     31,67      3,92        0,09     0,28    0,63  \n",
       "Western Sahara       1       NaN       NaN         NaN      NaN     0,4  \n",
       "Yemen                1     42,89       8,3       0,135    0,472   0,393  \n",
       "Zambia               2        41     19,93        0,22     0,29   0,489  \n",
       "Zimbabwe             2     28,01     21,84       0,179    0,243   0,579  \n",
       "\n",
       "[227 rows x 19 columns]"
      ]
     },
     "execution_count": 190,
     "metadata": {},
     "output_type": "execute_result"
    }
   ],
   "source": [
    "df"
   ]
  },
  {
   "cell_type": "code",
   "execution_count": 191,
   "metadata": {},
   "outputs": [
    {
     "data": {
      "text/html": [
       "<div>\n",
       "<style scoped>\n",
       "    .dataframe tbody tr th:only-of-type {\n",
       "        vertical-align: middle;\n",
       "    }\n",
       "\n",
       "    .dataframe tbody tr th {\n",
       "        vertical-align: top;\n",
       "    }\n",
       "\n",
       "    .dataframe thead th {\n",
       "        text-align: right;\n",
       "    }\n",
       "</style>\n",
       "<table border=\"1\" class=\"dataframe\">\n",
       "  <thead>\n",
       "    <tr style=\"text-align: right;\">\n",
       "      <th></th>\n",
       "      <th>Region</th>\n",
       "      <th>Population</th>\n",
       "    </tr>\n",
       "    <tr>\n",
       "      <th>Country</th>\n",
       "      <th></th>\n",
       "      <th></th>\n",
       "    </tr>\n",
       "  </thead>\n",
       "  <tbody>\n",
       "    <tr>\n",
       "      <th>France</th>\n",
       "      <td>WESTERN EUROPE</td>\n",
       "      <td>60876136</td>\n",
       "    </tr>\n",
       "    <tr>\n",
       "      <th>French Guiana</th>\n",
       "      <td>LATIN AMER. &amp; CARIB</td>\n",
       "      <td>199509</td>\n",
       "    </tr>\n",
       "    <tr>\n",
       "      <th>French Polynesia</th>\n",
       "      <td>OCEANIA</td>\n",
       "      <td>274578</td>\n",
       "    </tr>\n",
       "    <tr>\n",
       "      <th>Gabon</th>\n",
       "      <td>SUB-SAHARAN AFRICA</td>\n",
       "      <td>1424906</td>\n",
       "    </tr>\n",
       "    <tr>\n",
       "      <th>Gambia, The</th>\n",
       "      <td>SUB-SAHARAN AFRICA</td>\n",
       "      <td>1641564</td>\n",
       "    </tr>\n",
       "    <tr>\n",
       "      <th>Gaza Strip</th>\n",
       "      <td>NEAR EAST</td>\n",
       "      <td>1428757</td>\n",
       "    </tr>\n",
       "    <tr>\n",
       "      <th>Georgia</th>\n",
       "      <td>C.W. OF IND. STATES</td>\n",
       "      <td>4661473</td>\n",
       "    </tr>\n",
       "    <tr>\n",
       "      <th>Germany</th>\n",
       "      <td>WESTERN EUROPE</td>\n",
       "      <td>82422299</td>\n",
       "    </tr>\n",
       "  </tbody>\n",
       "</table>\n",
       "</div>"
      ],
      "text/plain": [
       "                                               Region  Population\n",
       "Country                                                          \n",
       "France            WESTERN EUROPE                         60876136\n",
       "French Guiana                 LATIN AMER. & CARIB          199509\n",
       "French Polynesia  OCEANIA                                  274578\n",
       "Gabon             SUB-SAHARAN AFRICA                      1424906\n",
       "Gambia, The       SUB-SAHARAN AFRICA                      1641564\n",
       "Gaza Strip        NEAR EAST                               1428757\n",
       "Georgia                          C.W. OF IND. STATES      4661473\n",
       "Germany           WESTERN EUROPE                         82422299"
      ]
     },
     "execution_count": 191,
     "metadata": {},
     "output_type": "execute_result"
    }
   ],
   "source": [
    "df.loc[\"France\":\"Germany\", [\"Region\",\"Population\"]] # Desde la F hasta la G por region y population"
   ]
  },
  {
   "cell_type": "code",
   "execution_count": null,
   "metadata": {},
   "outputs": [],
   "source": [
    "df.sort_index(ascending=False)  #Invierto el df ya que le puse de Z a A"
   ]
  },
  {
   "cell_type": "code",
   "execution_count": 192,
   "metadata": {},
   "outputs": [
    {
     "data": {
      "text/html": [
       "<div>\n",
       "<style scoped>\n",
       "    .dataframe tbody tr th:only-of-type {\n",
       "        vertical-align: middle;\n",
       "    }\n",
       "\n",
       "    .dataframe tbody tr th {\n",
       "        vertical-align: top;\n",
       "    }\n",
       "\n",
       "    .dataframe thead th {\n",
       "        text-align: right;\n",
       "    }\n",
       "</style>\n",
       "<table border=\"1\" class=\"dataframe\">\n",
       "  <thead>\n",
       "    <tr style=\"text-align: right;\">\n",
       "      <th></th>\n",
       "      <th>Region</th>\n",
       "      <th>Population</th>\n",
       "      <th>Area (sq. mi.)</th>\n",
       "      <th>Pop. Density (per sq. mi.)</th>\n",
       "      <th>Coastline (coast/area ratio)</th>\n",
       "      <th>Net migration</th>\n",
       "      <th>Infant mortality (per 1000 births)</th>\n",
       "      <th>GDP ($ per capita)</th>\n",
       "      <th>Literacy (%)</th>\n",
       "      <th>Phones (per 1000)</th>\n",
       "      <th>Arable (%)</th>\n",
       "      <th>Crops (%)</th>\n",
       "      <th>Other (%)</th>\n",
       "      <th>Climate</th>\n",
       "      <th>Birthrate</th>\n",
       "      <th>Deathrate</th>\n",
       "      <th>Agriculture</th>\n",
       "      <th>Industry</th>\n",
       "      <th>Service</th>\n",
       "    </tr>\n",
       "    <tr>\n",
       "      <th>Country</th>\n",
       "      <th></th>\n",
       "      <th></th>\n",
       "      <th></th>\n",
       "      <th></th>\n",
       "      <th></th>\n",
       "      <th></th>\n",
       "      <th></th>\n",
       "      <th></th>\n",
       "      <th></th>\n",
       "      <th></th>\n",
       "      <th></th>\n",
       "      <th></th>\n",
       "      <th></th>\n",
       "      <th></th>\n",
       "      <th></th>\n",
       "      <th></th>\n",
       "      <th></th>\n",
       "      <th></th>\n",
       "      <th></th>\n",
       "    </tr>\n",
       "  </thead>\n",
       "  <tbody>\n",
       "    <tr>\n",
       "      <th>Luxembourg</th>\n",
       "      <td>WESTERN EUROPE</td>\n",
       "      <td>474413</td>\n",
       "      <td>2586</td>\n",
       "      <td>183,5</td>\n",
       "      <td>0,00</td>\n",
       "      <td>8,97</td>\n",
       "      <td>4,81</td>\n",
       "      <td>55100.0</td>\n",
       "      <td>100,0</td>\n",
       "      <td>515,4</td>\n",
       "      <td>23,28</td>\n",
       "      <td>0,4</td>\n",
       "      <td>76,32</td>\n",
       "      <td>NaN</td>\n",
       "      <td>11,94</td>\n",
       "      <td>8,41</td>\n",
       "      <td>0,01</td>\n",
       "      <td>0,13</td>\n",
       "      <td>0,86</td>\n",
       "    </tr>\n",
       "    <tr>\n",
       "      <th>Norway</th>\n",
       "      <td>WESTERN EUROPE</td>\n",
       "      <td>4610820</td>\n",
       "      <td>323802</td>\n",
       "      <td>14,2</td>\n",
       "      <td>7,77</td>\n",
       "      <td>1,74</td>\n",
       "      <td>3,7</td>\n",
       "      <td>37800.0</td>\n",
       "      <td>100,0</td>\n",
       "      <td>461,7</td>\n",
       "      <td>2,87</td>\n",
       "      <td>0</td>\n",
       "      <td>97,13</td>\n",
       "      <td>3</td>\n",
       "      <td>11,46</td>\n",
       "      <td>9,4</td>\n",
       "      <td>0,021</td>\n",
       "      <td>0,415</td>\n",
       "      <td>0,564</td>\n",
       "    </tr>\n",
       "    <tr>\n",
       "      <th>United States</th>\n",
       "      <td>NORTHERN AMERICA</td>\n",
       "      <td>298444215</td>\n",
       "      <td>9631420</td>\n",
       "      <td>31,0</td>\n",
       "      <td>0,21</td>\n",
       "      <td>3,41</td>\n",
       "      <td>6,5</td>\n",
       "      <td>37800.0</td>\n",
       "      <td>97,0</td>\n",
       "      <td>898,0</td>\n",
       "      <td>19,13</td>\n",
       "      <td>0,22</td>\n",
       "      <td>80,65</td>\n",
       "      <td>3</td>\n",
       "      <td>14,14</td>\n",
       "      <td>8,26</td>\n",
       "      <td>0,01</td>\n",
       "      <td>0,204</td>\n",
       "      <td>0,787</td>\n",
       "    </tr>\n",
       "    <tr>\n",
       "      <th>Bermuda</th>\n",
       "      <td>NORTHERN AMERICA</td>\n",
       "      <td>65773</td>\n",
       "      <td>53</td>\n",
       "      <td>1241,0</td>\n",
       "      <td>194,34</td>\n",
       "      <td>2,49</td>\n",
       "      <td>8,53</td>\n",
       "      <td>36000.0</td>\n",
       "      <td>98,0</td>\n",
       "      <td>851,4</td>\n",
       "      <td>20</td>\n",
       "      <td>0</td>\n",
       "      <td>80</td>\n",
       "      <td>2</td>\n",
       "      <td>11,4</td>\n",
       "      <td>7,74</td>\n",
       "      <td>0,01</td>\n",
       "      <td>0,1</td>\n",
       "      <td>0,89</td>\n",
       "    </tr>\n",
       "    <tr>\n",
       "      <th>Cayman Islands</th>\n",
       "      <td>LATIN AMER. &amp; CARIB</td>\n",
       "      <td>45436</td>\n",
       "      <td>262</td>\n",
       "      <td>173,4</td>\n",
       "      <td>61,07</td>\n",
       "      <td>18,75</td>\n",
       "      <td>8,19</td>\n",
       "      <td>35000.0</td>\n",
       "      <td>98,0</td>\n",
       "      <td>836,3</td>\n",
       "      <td>3,85</td>\n",
       "      <td>0</td>\n",
       "      <td>96,15</td>\n",
       "      <td>2</td>\n",
       "      <td>12,74</td>\n",
       "      <td>4,89</td>\n",
       "      <td>0,014</td>\n",
       "      <td>0,032</td>\n",
       "      <td>0,954</td>\n",
       "    </tr>\n",
       "    <tr>\n",
       "      <th>...</th>\n",
       "      <td>...</td>\n",
       "      <td>...</td>\n",
       "      <td>...</td>\n",
       "      <td>...</td>\n",
       "      <td>...</td>\n",
       "      <td>...</td>\n",
       "      <td>...</td>\n",
       "      <td>...</td>\n",
       "      <td>...</td>\n",
       "      <td>...</td>\n",
       "      <td>...</td>\n",
       "      <td>...</td>\n",
       "      <td>...</td>\n",
       "      <td>...</td>\n",
       "      <td>...</td>\n",
       "      <td>...</td>\n",
       "      <td>...</td>\n",
       "      <td>...</td>\n",
       "      <td>...</td>\n",
       "    </tr>\n",
       "    <tr>\n",
       "      <th>Malawi</th>\n",
       "      <td>SUB-SAHARAN AFRICA</td>\n",
       "      <td>13013926</td>\n",
       "      <td>118480</td>\n",
       "      <td>109,8</td>\n",
       "      <td>0,00</td>\n",
       "      <td>0</td>\n",
       "      <td>103,32</td>\n",
       "      <td>600.0</td>\n",
       "      <td>62,7</td>\n",
       "      <td>7,9</td>\n",
       "      <td>23,38</td>\n",
       "      <td>1,49</td>\n",
       "      <td>75,13</td>\n",
       "      <td>2</td>\n",
       "      <td>43,13</td>\n",
       "      <td>19,33</td>\n",
       "      <td>0,342</td>\n",
       "      <td>0,158</td>\n",
       "      <td>0,499</td>\n",
       "    </tr>\n",
       "    <tr>\n",
       "      <th>Sierra Leone</th>\n",
       "      <td>SUB-SAHARAN AFRICA</td>\n",
       "      <td>6005250</td>\n",
       "      <td>71740</td>\n",
       "      <td>83,7</td>\n",
       "      <td>0,56</td>\n",
       "      <td>0</td>\n",
       "      <td>143,64</td>\n",
       "      <td>500.0</td>\n",
       "      <td>31,4</td>\n",
       "      <td>4,0</td>\n",
       "      <td>6,98</td>\n",
       "      <td>0,89</td>\n",
       "      <td>92,13</td>\n",
       "      <td>2</td>\n",
       "      <td>45,76</td>\n",
       "      <td>23,03</td>\n",
       "      <td>0,49</td>\n",
       "      <td>0,31</td>\n",
       "      <td>0,21</td>\n",
       "    </tr>\n",
       "    <tr>\n",
       "      <th>Somalia</th>\n",
       "      <td>SUB-SAHARAN AFRICA</td>\n",
       "      <td>8863338</td>\n",
       "      <td>637657</td>\n",
       "      <td>13,9</td>\n",
       "      <td>0,47</td>\n",
       "      <td>5,37</td>\n",
       "      <td>116,7</td>\n",
       "      <td>500.0</td>\n",
       "      <td>37,8</td>\n",
       "      <td>11,3</td>\n",
       "      <td>1,67</td>\n",
       "      <td>0,04</td>\n",
       "      <td>98,29</td>\n",
       "      <td>1</td>\n",
       "      <td>45,13</td>\n",
       "      <td>16,63</td>\n",
       "      <td>0,65</td>\n",
       "      <td>0,1</td>\n",
       "      <td>0,25</td>\n",
       "    </tr>\n",
       "    <tr>\n",
       "      <th>East Timor</th>\n",
       "      <td>ASIA (EX. NEAR EAST)</td>\n",
       "      <td>1062777</td>\n",
       "      <td>15007</td>\n",
       "      <td>70,8</td>\n",
       "      <td>4,70</td>\n",
       "      <td>0</td>\n",
       "      <td>47,41</td>\n",
       "      <td>500.0</td>\n",
       "      <td>58,6</td>\n",
       "      <td>NaN</td>\n",
       "      <td>4,71</td>\n",
       "      <td>0,67</td>\n",
       "      <td>94,62</td>\n",
       "      <td>2</td>\n",
       "      <td>26,99</td>\n",
       "      <td>6,24</td>\n",
       "      <td>0,085</td>\n",
       "      <td>0,231</td>\n",
       "      <td>0,684</td>\n",
       "    </tr>\n",
       "    <tr>\n",
       "      <th>Western Sahara</th>\n",
       "      <td>NORTHERN AFRICA</td>\n",
       "      <td>273008</td>\n",
       "      <td>266000</td>\n",
       "      <td>1,0</td>\n",
       "      <td>0,42</td>\n",
       "      <td>NaN</td>\n",
       "      <td>NaN</td>\n",
       "      <td>NaN</td>\n",
       "      <td>NaN</td>\n",
       "      <td>NaN</td>\n",
       "      <td>0,02</td>\n",
       "      <td>0</td>\n",
       "      <td>99,98</td>\n",
       "      <td>1</td>\n",
       "      <td>NaN</td>\n",
       "      <td>NaN</td>\n",
       "      <td>NaN</td>\n",
       "      <td>NaN</td>\n",
       "      <td>0,4</td>\n",
       "    </tr>\n",
       "  </tbody>\n",
       "</table>\n",
       "<p>227 rows × 19 columns</p>\n",
       "</div>"
      ],
      "text/plain": [
       "                                             Region  Population  \\\n",
       "Country                                                           \n",
       "Luxembourg      WESTERN EUROPE                           474413   \n",
       "Norway          WESTERN EUROPE                          4610820   \n",
       "United States   NORTHERN AMERICA                      298444215   \n",
       "Bermuda         NORTHERN AMERICA                          65773   \n",
       "Cayman Islands              LATIN AMER. & CARIB           45436   \n",
       "...                                             ...         ...   \n",
       "Malawi          SUB-SAHARAN AFRICA                     13013926   \n",
       "Sierra Leone    SUB-SAHARAN AFRICA                      6005250   \n",
       "Somalia         SUB-SAHARAN AFRICA                      8863338   \n",
       "East Timor            ASIA (EX. NEAR EAST)              1062777   \n",
       "Western Sahara  NORTHERN AFRICA                          273008   \n",
       "\n",
       "                Area (sq. mi.) Pop. Density (per sq. mi.)  \\\n",
       "Country                                                     \n",
       "Luxembourg                2586                      183,5   \n",
       "Norway                  323802                       14,2   \n",
       "United States          9631420                       31,0   \n",
       "Bermuda                     53                     1241,0   \n",
       "Cayman Islands             262                      173,4   \n",
       "...                        ...                        ...   \n",
       "Malawi                  118480                      109,8   \n",
       "Sierra Leone             71740                       83,7   \n",
       "Somalia                 637657                       13,9   \n",
       "East Timor               15007                       70,8   \n",
       "Western Sahara          266000                        1,0   \n",
       "\n",
       "               Coastline (coast/area ratio) Net migration  \\\n",
       "Country                                                     \n",
       "Luxembourg                             0,00          8,97   \n",
       "Norway                                 7,77          1,74   \n",
       "United States                          0,21          3,41   \n",
       "Bermuda                              194,34          2,49   \n",
       "Cayman Islands                        61,07         18,75   \n",
       "...                                     ...           ...   \n",
       "Malawi                                 0,00             0   \n",
       "Sierra Leone                           0,56             0   \n",
       "Somalia                                0,47          5,37   \n",
       "East Timor                             4,70             0   \n",
       "Western Sahara                         0,42           NaN   \n",
       "\n",
       "               Infant mortality (per 1000 births)  GDP ($ per capita)  \\\n",
       "Country                                                                 \n",
       "Luxembourg                                   4,81             55100.0   \n",
       "Norway                                        3,7             37800.0   \n",
       "United States                                 6,5             37800.0   \n",
       "Bermuda                                      8,53             36000.0   \n",
       "Cayman Islands                               8,19             35000.0   \n",
       "...                                           ...                 ...   \n",
       "Malawi                                     103,32               600.0   \n",
       "Sierra Leone                               143,64               500.0   \n",
       "Somalia                                     116,7               500.0   \n",
       "East Timor                                  47,41               500.0   \n",
       "Western Sahara                                NaN                 NaN   \n",
       "\n",
       "               Literacy (%) Phones (per 1000) Arable (%) Crops (%) Other (%)  \\\n",
       "Country                                                                        \n",
       "Luxembourg            100,0             515,4      23,28       0,4     76,32   \n",
       "Norway                100,0             461,7       2,87         0     97,13   \n",
       "United States          97,0             898,0      19,13      0,22     80,65   \n",
       "Bermuda                98,0             851,4         20         0        80   \n",
       "Cayman Islands         98,0             836,3       3,85         0     96,15   \n",
       "...                     ...               ...        ...       ...       ...   \n",
       "Malawi                 62,7               7,9      23,38      1,49     75,13   \n",
       "Sierra Leone           31,4               4,0       6,98      0,89     92,13   \n",
       "Somalia                37,8              11,3       1,67      0,04     98,29   \n",
       "East Timor             58,6               NaN       4,71      0,67     94,62   \n",
       "Western Sahara          NaN               NaN       0,02         0     99,98   \n",
       "\n",
       "               Climate Birthrate Deathrate Agriculture Industry Service  \n",
       "Country                                                                  \n",
       "Luxembourg         NaN     11,94      8,41        0,01     0,13    0,86  \n",
       "Norway               3     11,46       9,4       0,021    0,415   0,564  \n",
       "United States        3     14,14      8,26        0,01    0,204   0,787  \n",
       "Bermuda              2      11,4      7,74        0,01      0,1    0,89  \n",
       "Cayman Islands       2     12,74      4,89       0,014    0,032   0,954  \n",
       "...                ...       ...       ...         ...      ...     ...  \n",
       "Malawi               2     43,13     19,33       0,342    0,158   0,499  \n",
       "Sierra Leone         2     45,76     23,03        0,49     0,31    0,21  \n",
       "Somalia              1     45,13     16,63        0,65      0,1    0,25  \n",
       "East Timor           2     26,99      6,24       0,085    0,231   0,684  \n",
       "Western Sahara       1       NaN       NaN         NaN      NaN     0,4  \n",
       "\n",
       "[227 rows x 19 columns]"
      ]
     },
     "execution_count": 192,
     "metadata": {},
     "output_type": "execute_result"
    }
   ],
   "source": [
    "df.sort_values(by = 'GDP ($ per capita)', ascending=False)  #Ordeno de mayor a menor por GDP"
   ]
  },
  {
   "cell_type": "markdown",
   "metadata": {},
   "source": [
    "### Grouping"
   ]
  },
  {
   "cell_type": "code",
   "execution_count": 193,
   "metadata": {},
   "outputs": [],
   "source": [
    "regions = df.groupby(\"Region\")  #Agrupo por region"
   ]
  },
  {
   "cell_type": "code",
   "execution_count": 194,
   "metadata": {},
   "outputs": [
    {
     "data": {
      "text/html": [
       "<div>\n",
       "<style scoped>\n",
       "    .dataframe tbody tr th:only-of-type {\n",
       "        vertical-align: middle;\n",
       "    }\n",
       "\n",
       "    .dataframe tbody tr th {\n",
       "        vertical-align: top;\n",
       "    }\n",
       "\n",
       "    .dataframe thead th {\n",
       "        text-align: right;\n",
       "    }\n",
       "</style>\n",
       "<table border=\"1\" class=\"dataframe\">\n",
       "  <thead>\n",
       "    <tr style=\"text-align: right;\">\n",
       "      <th></th>\n",
       "      <th>Population</th>\n",
       "      <th>Area (sq. mi.)</th>\n",
       "    </tr>\n",
       "    <tr>\n",
       "      <th>Region</th>\n",
       "      <th></th>\n",
       "      <th></th>\n",
       "    </tr>\n",
       "  </thead>\n",
       "  <tbody>\n",
       "    <tr>\n",
       "      <th>ASIA (EX. NEAR EAST)</th>\n",
       "      <td>3687982236</td>\n",
       "      <td>23096712</td>\n",
       "    </tr>\n",
       "    <tr>\n",
       "      <th>BALTICS</th>\n",
       "      <td>7184974</td>\n",
       "      <td>175015</td>\n",
       "    </tr>\n",
       "    <tr>\n",
       "      <th>C.W. OF IND. STATES</th>\n",
       "      <td>280081548</td>\n",
       "      <td>22100843</td>\n",
       "    </tr>\n",
       "    <tr>\n",
       "      <th>EASTERN EUROPE</th>\n",
       "      <td>119914717</td>\n",
       "      <td>1152222</td>\n",
       "    </tr>\n",
       "    <tr>\n",
       "      <th>LATIN AMER. &amp; CARIB</th>\n",
       "      <td>561824599</td>\n",
       "      <td>20544084</td>\n",
       "    </tr>\n",
       "    <tr>\n",
       "      <th>NEAR EAST</th>\n",
       "      <td>195068377</td>\n",
       "      <td>4355586</td>\n",
       "    </tr>\n",
       "    <tr>\n",
       "      <th>NORTHERN AFRICA</th>\n",
       "      <td>161407133</td>\n",
       "      <td>6018890</td>\n",
       "    </tr>\n",
       "    <tr>\n",
       "      <th>NORTHERN AMERICA</th>\n",
       "      <td>331672307</td>\n",
       "      <td>21782471</td>\n",
       "    </tr>\n",
       "    <tr>\n",
       "      <th>OCEANIA</th>\n",
       "      <td>33131662</td>\n",
       "      <td>8519812</td>\n",
       "    </tr>\n",
       "    <tr>\n",
       "      <th>SUB-SAHARAN AFRICA</th>\n",
       "      <td>749437000</td>\n",
       "      <td>24341406</td>\n",
       "    </tr>\n",
       "    <tr>\n",
       "      <th>WESTERN EUROPE</th>\n",
       "      <td>396339998</td>\n",
       "      <td>3710478</td>\n",
       "    </tr>\n",
       "  </tbody>\n",
       "</table>\n",
       "</div>"
      ],
      "text/plain": [
       "                                     Population  Area (sq. mi.)\n",
       "Region                                                         \n",
       "ASIA (EX. NEAR EAST)                 3687982236        23096712\n",
       "BALTICS                                 7184974          175015\n",
       "C.W. OF IND. STATES                   280081548        22100843\n",
       "EASTERN EUROPE                        119914717         1152222\n",
       "LATIN AMER. & CARIB                   561824599        20544084\n",
       "NEAR EAST                             195068377         4355586\n",
       "NORTHERN AFRICA                       161407133         6018890\n",
       "NORTHERN AMERICA                      331672307        21782471\n",
       "OCEANIA                                33131662         8519812\n",
       "SUB-SAHARAN AFRICA                    749437000        24341406\n",
       "WESTERN EUROPE                        396339998         3710478"
      ]
     },
     "execution_count": 194,
     "metadata": {},
     "output_type": "execute_result"
    }
   ],
   "source": [
    "regions[[\"Population\", \"Area (sq. mi.)\"]].sum()"
   ]
  },
  {
   "cell_type": "code",
   "execution_count": 195,
   "metadata": {},
   "outputs": [
    {
     "data": {
      "text/html": [
       "<div>\n",
       "<style scoped>\n",
       "    .dataframe tbody tr th:only-of-type {\n",
       "        vertical-align: middle;\n",
       "    }\n",
       "\n",
       "    .dataframe tbody tr th {\n",
       "        vertical-align: top;\n",
       "    }\n",
       "\n",
       "    .dataframe thead th {\n",
       "        text-align: right;\n",
       "    }\n",
       "</style>\n",
       "<table border=\"1\" class=\"dataframe\">\n",
       "  <thead>\n",
       "    <tr style=\"text-align: right;\">\n",
       "      <th></th>\n",
       "      <th>Population</th>\n",
       "      <th>Area (sq. mi.)</th>\n",
       "    </tr>\n",
       "    <tr>\n",
       "      <th>Region</th>\n",
       "      <th></th>\n",
       "      <th></th>\n",
       "    </tr>\n",
       "  </thead>\n",
       "  <tbody>\n",
       "    <tr>\n",
       "      <th>ASIA (EX. NEAR EAST)</th>\n",
       "      <td>3687982236</td>\n",
       "      <td>23096712</td>\n",
       "    </tr>\n",
       "    <tr>\n",
       "      <th>SUB-SAHARAN AFRICA</th>\n",
       "      <td>749437000</td>\n",
       "      <td>24341406</td>\n",
       "    </tr>\n",
       "    <tr>\n",
       "      <th>LATIN AMER. &amp; CARIB</th>\n",
       "      <td>561824599</td>\n",
       "      <td>20544084</td>\n",
       "    </tr>\n",
       "    <tr>\n",
       "      <th>WESTERN EUROPE</th>\n",
       "      <td>396339998</td>\n",
       "      <td>3710478</td>\n",
       "    </tr>\n",
       "    <tr>\n",
       "      <th>NORTHERN AMERICA</th>\n",
       "      <td>331672307</td>\n",
       "      <td>21782471</td>\n",
       "    </tr>\n",
       "    <tr>\n",
       "      <th>C.W. OF IND. STATES</th>\n",
       "      <td>280081548</td>\n",
       "      <td>22100843</td>\n",
       "    </tr>\n",
       "    <tr>\n",
       "      <th>NEAR EAST</th>\n",
       "      <td>195068377</td>\n",
       "      <td>4355586</td>\n",
       "    </tr>\n",
       "    <tr>\n",
       "      <th>NORTHERN AFRICA</th>\n",
       "      <td>161407133</td>\n",
       "      <td>6018890</td>\n",
       "    </tr>\n",
       "    <tr>\n",
       "      <th>EASTERN EUROPE</th>\n",
       "      <td>119914717</td>\n",
       "      <td>1152222</td>\n",
       "    </tr>\n",
       "    <tr>\n",
       "      <th>OCEANIA</th>\n",
       "      <td>33131662</td>\n",
       "      <td>8519812</td>\n",
       "    </tr>\n",
       "    <tr>\n",
       "      <th>BALTICS</th>\n",
       "      <td>7184974</td>\n",
       "      <td>175015</td>\n",
       "    </tr>\n",
       "  </tbody>\n",
       "</table>\n",
       "</div>"
      ],
      "text/plain": [
       "                                     Population  Area (sq. mi.)\n",
       "Region                                                         \n",
       "ASIA (EX. NEAR EAST)                 3687982236        23096712\n",
       "SUB-SAHARAN AFRICA                    749437000        24341406\n",
       "LATIN AMER. & CARIB                   561824599        20544084\n",
       "WESTERN EUROPE                        396339998         3710478\n",
       "NORTHERN AMERICA                      331672307        21782471\n",
       "C.W. OF IND. STATES                   280081548        22100843\n",
       "NEAR EAST                             195068377         4355586\n",
       "NORTHERN AFRICA                       161407133         6018890\n",
       "EASTERN EUROPE                        119914717         1152222\n",
       "OCEANIA                                33131662         8519812\n",
       "BALTICS                                 7184974          175015"
      ]
     },
     "execution_count": 195,
     "metadata": {},
     "output_type": "execute_result"
    }
   ],
   "source": [
    "regions[[\"Population\", \"Area (sq. mi.)\"]].sum().sort_values(by = 'Population', ascending=False)     #ordeno de mayor a menor"
   ]
  },
  {
   "cell_type": "markdown",
   "metadata": {},
   "source": [
    "# API FINANCE"
   ]
  },
  {
   "cell_type": "code",
   "execution_count": 196,
   "metadata": {},
   "outputs": [],
   "source": [
    "import pandas as pd\n",
    "import yfinance as yf\n",
    "import matplotlib.pyplot as plt\n",
    "\n",
    "pd.options.display.float_format = '{:,.2f}'.format\n",
    "\n",
    "\n",
    "# berkshire hathaway inc. (b stock)\n",
    "\n",
    "ypf_finance = yf.Ticker('ypf')\n",
    "hist_preestatizacion = ypf_finance.history(start='2000-01-01', end='2022-08-24', auto_adjust=True)"
   ]
  },
  {
   "cell_type": "code",
   "execution_count": 197,
   "metadata": {},
   "outputs": [
    {
     "data": {
      "text/html": [
       "<div>\n",
       "<style scoped>\n",
       "    .dataframe tbody tr th:only-of-type {\n",
       "        vertical-align: middle;\n",
       "    }\n",
       "\n",
       "    .dataframe tbody tr th {\n",
       "        vertical-align: top;\n",
       "    }\n",
       "\n",
       "    .dataframe thead th {\n",
       "        text-align: right;\n",
       "    }\n",
       "</style>\n",
       "<table border=\"1\" class=\"dataframe\">\n",
       "  <thead>\n",
       "    <tr style=\"text-align: right;\">\n",
       "      <th></th>\n",
       "      <th>Year</th>\n",
       "      <th>Month</th>\n",
       "      <th>Date</th>\n",
       "      <th>Open</th>\n",
       "      <th>High</th>\n",
       "      <th>Low</th>\n",
       "      <th>Close</th>\n",
       "      <th>Volume</th>\n",
       "      <th>Dividends</th>\n",
       "    </tr>\n",
       "  </thead>\n",
       "  <tbody>\n",
       "    <tr>\n",
       "      <th>0</th>\n",
       "      <td>2000</td>\n",
       "      <td>1</td>\n",
       "      <td>2000-01-03 00:00:00-05:00</td>\n",
       "      <td>11.65</td>\n",
       "      <td>11.65</td>\n",
       "      <td>11.49</td>\n",
       "      <td>11.53</td>\n",
       "      <td>52400</td>\n",
       "      <td>0.00</td>\n",
       "    </tr>\n",
       "    <tr>\n",
       "      <th>1</th>\n",
       "      <td>2000</td>\n",
       "      <td>1</td>\n",
       "      <td>2000-01-04 00:00:00-05:00</td>\n",
       "      <td>11.47</td>\n",
       "      <td>11.47</td>\n",
       "      <td>11.43</td>\n",
       "      <td>11.45</td>\n",
       "      <td>18300</td>\n",
       "      <td>0.00</td>\n",
       "    </tr>\n",
       "    <tr>\n",
       "      <th>2</th>\n",
       "      <td>2000</td>\n",
       "      <td>1</td>\n",
       "      <td>2000-01-05 00:00:00-05:00</td>\n",
       "      <td>11.37</td>\n",
       "      <td>11.59</td>\n",
       "      <td>11.31</td>\n",
       "      <td>11.51</td>\n",
       "      <td>42000</td>\n",
       "      <td>0.00</td>\n",
       "    </tr>\n",
       "    <tr>\n",
       "      <th>3</th>\n",
       "      <td>2000</td>\n",
       "      <td>1</td>\n",
       "      <td>2000-01-06 00:00:00-05:00</td>\n",
       "      <td>11.47</td>\n",
       "      <td>11.47</td>\n",
       "      <td>11.35</td>\n",
       "      <td>11.43</td>\n",
       "      <td>6400</td>\n",
       "      <td>0.00</td>\n",
       "    </tr>\n",
       "    <tr>\n",
       "      <th>4</th>\n",
       "      <td>2000</td>\n",
       "      <td>1</td>\n",
       "      <td>2000-01-07 00:00:00-05:00</td>\n",
       "      <td>11.39</td>\n",
       "      <td>11.67</td>\n",
       "      <td>11.37</td>\n",
       "      <td>11.55</td>\n",
       "      <td>8800</td>\n",
       "      <td>0.00</td>\n",
       "    </tr>\n",
       "    <tr>\n",
       "      <th>...</th>\n",
       "      <td>...</td>\n",
       "      <td>...</td>\n",
       "      <td>...</td>\n",
       "      <td>...</td>\n",
       "      <td>...</td>\n",
       "      <td>...</td>\n",
       "      <td>...</td>\n",
       "      <td>...</td>\n",
       "      <td>...</td>\n",
       "    </tr>\n",
       "    <tr>\n",
       "      <th>5692</th>\n",
       "      <td>2022</td>\n",
       "      <td>8</td>\n",
       "      <td>2022-08-17 00:00:00-04:00</td>\n",
       "      <td>4.61</td>\n",
       "      <td>4.72</td>\n",
       "      <td>4.50</td>\n",
       "      <td>4.64</td>\n",
       "      <td>2434100</td>\n",
       "      <td>0.00</td>\n",
       "    </tr>\n",
       "    <tr>\n",
       "      <th>5693</th>\n",
       "      <td>2022</td>\n",
       "      <td>8</td>\n",
       "      <td>2022-08-18 00:00:00-04:00</td>\n",
       "      <td>4.65</td>\n",
       "      <td>4.94</td>\n",
       "      <td>4.65</td>\n",
       "      <td>4.85</td>\n",
       "      <td>2554100</td>\n",
       "      <td>0.00</td>\n",
       "    </tr>\n",
       "    <tr>\n",
       "      <th>5694</th>\n",
       "      <td>2022</td>\n",
       "      <td>8</td>\n",
       "      <td>2022-08-19 00:00:00-04:00</td>\n",
       "      <td>4.79</td>\n",
       "      <td>4.79</td>\n",
       "      <td>4.61</td>\n",
       "      <td>4.65</td>\n",
       "      <td>1595400</td>\n",
       "      <td>0.00</td>\n",
       "    </tr>\n",
       "    <tr>\n",
       "      <th>5695</th>\n",
       "      <td>2022</td>\n",
       "      <td>8</td>\n",
       "      <td>2022-08-22 00:00:00-04:00</td>\n",
       "      <td>4.59</td>\n",
       "      <td>4.86</td>\n",
       "      <td>4.47</td>\n",
       "      <td>4.77</td>\n",
       "      <td>2282600</td>\n",
       "      <td>0.00</td>\n",
       "    </tr>\n",
       "    <tr>\n",
       "      <th>5696</th>\n",
       "      <td>2022</td>\n",
       "      <td>8</td>\n",
       "      <td>2022-08-23 00:00:00-04:00</td>\n",
       "      <td>4.84</td>\n",
       "      <td>5.21</td>\n",
       "      <td>4.81</td>\n",
       "      <td>5.17</td>\n",
       "      <td>5211000</td>\n",
       "      <td>0.00</td>\n",
       "    </tr>\n",
       "  </tbody>\n",
       "</table>\n",
       "<p>5697 rows × 9 columns</p>\n",
       "</div>"
      ],
      "text/plain": [
       "      Year  Month                      Date  Open  High   Low  Close   Volume  \\\n",
       "0     2000      1 2000-01-03 00:00:00-05:00 11.65 11.65 11.49  11.53    52400   \n",
       "1     2000      1 2000-01-04 00:00:00-05:00 11.47 11.47 11.43  11.45    18300   \n",
       "2     2000      1 2000-01-05 00:00:00-05:00 11.37 11.59 11.31  11.51    42000   \n",
       "3     2000      1 2000-01-06 00:00:00-05:00 11.47 11.47 11.35  11.43     6400   \n",
       "4     2000      1 2000-01-07 00:00:00-05:00 11.39 11.67 11.37  11.55     8800   \n",
       "...    ...    ...                       ...   ...   ...   ...    ...      ...   \n",
       "5692  2022      8 2022-08-17 00:00:00-04:00  4.61  4.72  4.50   4.64  2434100   \n",
       "5693  2022      8 2022-08-18 00:00:00-04:00  4.65  4.94  4.65   4.85  2554100   \n",
       "5694  2022      8 2022-08-19 00:00:00-04:00  4.79  4.79  4.61   4.65  1595400   \n",
       "5695  2022      8 2022-08-22 00:00:00-04:00  4.59  4.86  4.47   4.77  2282600   \n",
       "5696  2022      8 2022-08-23 00:00:00-04:00  4.84  5.21  4.81   5.17  5211000   \n",
       "\n",
       "      Dividends  \n",
       "0          0.00  \n",
       "1          0.00  \n",
       "2          0.00  \n",
       "3          0.00  \n",
       "4          0.00  \n",
       "...         ...  \n",
       "5692       0.00  \n",
       "5693       0.00  \n",
       "5694       0.00  \n",
       "5695       0.00  \n",
       "5696       0.00  \n",
       "\n",
       "[5697 rows x 9 columns]"
      ]
     },
     "execution_count": 197,
     "metadata": {},
     "output_type": "execute_result"
    }
   ],
   "source": [
    "hist_preestatizacion.reset_index(inplace=True)\n",
    "hist_preestatizacion['Year'] = hist_preestatizacion['Date'].dt.year\n",
    "hist_preestatizacion['Month'] = hist_preestatizacion['Date'].dt.month\n",
    "hist_preestatizacion = hist_preestatizacion.reindex(columns=['Year','Month','Date','Open','High','Low','Close', 'Volume','Dividends']) #Saque \"Stock Splits\", todos los valores = 0\"\n",
    "hist_preestatizacion"
   ]
  },
  {
   "cell_type": "code",
   "execution_count": 198,
   "metadata": {},
   "outputs": [
    {
     "data": {
      "text/plain": [
       "<AxesSubplot: xlabel='Year,Month'>"
      ]
     },
     "execution_count": 198,
     "metadata": {},
     "output_type": "execute_result"
    },
    {
     "data": {
      "image/png": "[encoded data removed]",
      "text/plain": [
       "<Figure size 1500x1000 with 1 Axes>"
      ]
     },
     "metadata": {},
     "output_type": "display_data"
    }
   ],
   "source": [
    "hist_preestatizacion = hist_preestatizacion.groupby(['Year','Month']).agg({'Close': max})\n",
    "hist_preestatizacion.plot(figsize=(15,10))"
   ]
  },
  {
   "cell_type": "markdown",
   "metadata": {},
   "source": [
    "# TXT"
   ]
  },
  {
   "cell_type": "code",
   "execution_count": null,
   "metadata": {},
   "outputs": [],
   "source": [
    "# Leer un TXT\n",
    "def read_text(file_name):\n",
    "    with open(file_name, 'r') as f:\n",
    "        text = f.read()\n",
    "    return text\n",
    "\n",
    "read_text(\"data/alllines.txt\")"
   ]
  },
  {
   "cell_type": "markdown",
   "metadata": {},
   "source": [
    "# BOOK"
   ]
  },
  {
   "cell_type": "code",
   "execution_count": 199,
   "metadata": {},
   "outputs": [
    {
     "data": {
      "text/plain": [
       "0   0.25\n",
       "1   0.50\n",
       "2   0.75\n",
       "3   1.00\n",
       "dtype: float64"
      ]
     },
     "execution_count": 199,
     "metadata": {},
     "output_type": "execute_result"
    }
   ],
   "source": [
    "data = pd.Series([0.25, 0.5, 0.75, 1.0])  #A Pandas Series is a one-dimensional array of indexed data. It can be created from a list or array.\n",
    "data"
   ]
  },
  {
   "cell_type": "code",
   "execution_count": 200,
   "metadata": {},
   "outputs": [
    {
     "data": {
      "text/plain": [
       "array([0.25, 0.5 , 0.75, 1.  ])"
      ]
     },
     "execution_count": 200,
     "metadata": {},
     "output_type": "execute_result"
    }
   ],
   "source": [
    "data.values"
   ]
  },
  {
   "cell_type": "code",
   "execution_count": 201,
   "metadata": {},
   "outputs": [
    {
     "data": {
      "text/plain": [
       "RangeIndex(start=0, stop=4, step=1)"
      ]
     },
     "execution_count": 201,
     "metadata": {},
     "output_type": "execute_result"
    }
   ],
   "source": [
    "data.index"
   ]
  },
  {
   "cell_type": "code",
   "execution_count": 202,
   "metadata": {},
   "outputs": [
    {
     "data": {
      "text/plain": [
       "1   0.50\n",
       "dtype: float64"
      ]
     },
     "execution_count": 202,
     "metadata": {},
     "output_type": "execute_result"
    }
   ],
   "source": [
    "data[1:2]"
   ]
  },
  {
   "cell_type": "code",
   "execution_count": 204,
   "metadata": {},
   "outputs": [
    {
     "data": {
      "text/plain": [
       "a   0.25\n",
       "b   0.50\n",
       "c   0.75\n",
       "d   1.00\n",
       "dtype: float64"
      ]
     },
     "execution_count": 204,
     "metadata": {},
     "output_type": "execute_result"
    }
   ],
   "source": [
    "data = pd.Series([0.25, 0.5, 0.75, 1.0], index=['a', 'b', 'c', 'd'])    #Yo le pongo el index que quiera\n",
    "data"
   ]
  },
  {
   "cell_type": "code",
   "execution_count": 205,
   "metadata": {},
   "outputs": [
    {
     "data": {
      "text/plain": [
       "California    38332521\n",
       "Texas         26448193\n",
       "New York      19651127\n",
       "Florida       19552860\n",
       "Illinois      12882135\n",
       "dtype: int64"
      ]
     },
     "execution_count": 205,
     "metadata": {},
     "output_type": "execute_result"
    }
   ],
   "source": [
    "population_dict = {'California': 38332521,\n",
    "                   'Texas': 26448193,\n",
    "                   'New York': 19651127,\n",
    "                   'Florida': 19552860,\n",
    "                   'Illinois': 12882135}\n",
    "\n",
    "population = pd.Series(population_dict)\n",
    "population"
   ]
  },
  {
   "cell_type": "code",
   "execution_count": 206,
   "metadata": {},
   "outputs": [
    {
     "data": {
      "text/plain": [
       "38332521"
      ]
     },
     "execution_count": 206,
     "metadata": {},
     "output_type": "execute_result"
    }
   ],
   "source": [
    "population['California']"
   ]
  },
  {
   "cell_type": "code",
   "execution_count": 207,
   "metadata": {},
   "outputs": [
    {
     "data": {
      "text/plain": [
       "California    38332521\n",
       "Texas         26448193\n",
       "New York      19651127\n",
       "Florida       19552860\n",
       "Illinois      12882135\n",
       "dtype: int64"
      ]
     },
     "execution_count": 207,
     "metadata": {},
     "output_type": "execute_result"
    }
   ],
   "source": [
    "population['California':'Illinois']"
   ]
  },
  {
   "cell_type": "code",
   "execution_count": 208,
   "metadata": {},
   "outputs": [
    {
     "data": {
      "text/plain": [
       "2    a\n",
       "1    b\n",
       "3    c\n",
       "dtype: object"
      ]
     },
     "execution_count": 208,
     "metadata": {},
     "output_type": "execute_result"
    }
   ],
   "source": [
    "pd.Series({2:'a', 1:'b', 3:'c'})"
   ]
  },
  {
   "cell_type": "code",
   "execution_count": 209,
   "metadata": {},
   "outputs": [
    {
     "data": {
      "text/plain": [
       "3    c\n",
       "2    a\n",
       "dtype: object"
      ]
     },
     "execution_count": 209,
     "metadata": {},
     "output_type": "execute_result"
    }
   ],
   "source": [
    "pd.Series({2:'a', 1:'b', 3:'c'}, index=[3, 2])  #les otorgo y ordeno como quiero"
   ]
  },
  {
   "cell_type": "code",
   "execution_count": 210,
   "metadata": {},
   "outputs": [
    {
     "data": {
      "text/plain": [
       "California    423967\n",
       "Texas         695662\n",
       "New York      141297\n",
       "Florida       170312\n",
       "Illinois      149995\n",
       "dtype: int64"
      ]
     },
     "execution_count": 210,
     "metadata": {},
     "output_type": "execute_result"
    }
   ],
   "source": [
    "area_dict = {'California': 423967, 'Texas': 695662, 'New York': 141297,\n",
    "             'Florida': 170312, 'Illinois': 149995}\n",
    "area = pd.Series(area_dict)\n",
    "area"
   ]
  },
  {
   "cell_type": "markdown",
   "metadata": {},
   "source": [
    "# Plots - GRAFICOS"
   ]
  },
  {
   "cell_type": "code",
   "execution_count": 2,
   "metadata": {},
   "outputs": [
    {
     "data": {
      "image/png": "[encoded data removed]",
      "text/plain": [
       "<Figure size 640x480 with 1 Axes>"
      ]
     },
     "metadata": {},
     "output_type": "display_data"
    }
   ],
   "source": [
    "import matplotlib.pyplot as plt\n",
    "\n",
    "eje_x_years = [1975, 1980, 1985, 1990, 1995, 2000, 2005, 2010, 2015]\n",
    "eje_y_prices = [1243, 1543, 1619, 1831, 1960, 2310, 2415, 2270, 1918]\n",
    "\n",
    "plt.plot(eje_x_years, eje_y_prices)\n",
    "plt.show()"
   ]
  },
  {
   "cell_type": "code",
   "execution_count": 3,
   "metadata": {},
   "outputs": [
    {
     "data": {
      "text/plain": [
       "<Figure size 640x480 with 0 Axes>"
      ]
     },
     "metadata": {},
     "output_type": "display_data"
    }
   ],
   "source": [
    "# [...]\n",
    "plt.savefig('Precios.png')\n",
    "plt.show()"
   ]
  },
  {
   "cell_type": "code",
   "execution_count": 4,
   "metadata": {},
   "outputs": [
    {
     "data": {
      "image/png": "[encoded data removed]",
      "text/plain": [
       "<Figure size 640x480 with 1 Axes>"
      ]
     },
     "metadata": {},
     "output_type": "display_data"
    }
   ],
   "source": [
    "\n",
    "plt.title(\"Precios por años\")\n",
    "\n",
    "plt.xlabel(\"Años\")\n",
    "plt.ylabel(\"Precios en dolares\")\n",
    "\n",
    "plt.xticks([1975, 1995, 2015], ['start', 1995, 'end'])\n",
    "plt.yticks([0, 5000])\n",
    "\n",
    "petroleo_y = [823, 1136, 1367, 1547, 1660, 1927, 1983, 1827, 1352]\n",
    "gasoil_y = [171, 200, 166, 175, 228, 280, 319, 399, 529]\n",
    "\n",
    "plt.plot(eje_x_years, petroleo_y)\n",
    "plt.plot(eje_x_years, gasoil_y)\n",
    "\n",
    "plt.plot(eje_x_years, eje_y_prices, label=\"Precios Totales\")\n",
    "plt.plot(eje_x_years, petroleo_y, label=\"Precios Petroleo\")\n",
    "plt.plot(eje_x_years, gasoil_y, label=\"Precios Gasoil\")\n",
    "\n",
    "plt.legend(loc=\"best\")\n",
    "\n",
    "plt.grid(axis=\"y\", linewidth=0.5)\n"
   ]
  },
  {
   "cell_type": "code",
   "execution_count": 5,
   "metadata": {},
   "outputs": [
    {
     "data": {
      "image/png": "[encoded data removed]",
      "text/plain": [
       "<Figure size 640x480 with 1 Axes>"
      ]
     },
     "metadata": {},
     "output_type": "display_data"
    }
   ],
   "source": [
    "with plt.style.context('Solarize_Light2'):\n",
    "    plt.plot(eje_x_years, eje_y_prices)\n",
    "    plt.show()"
   ]
  },
  {
   "cell_type": "code",
   "execution_count": 6,
   "metadata": {},
   "outputs": [
    {
     "data": {
      "text/plain": [
       "[<matplotlib.lines.Line2D at 0x1bcffb4d1e0>]"
      ]
     },
     "execution_count": 6,
     "metadata": {},
     "output_type": "execute_result"
    },
    {
     "data": {
      "image/png": "[encoded data removed]",
      "text/plain": [
       "<Figure size 640x480 with 1 Axes>"
      ]
     },
     "metadata": {},
     "output_type": "display_data"
    }
   ],
   "source": [
    "plt.plot(eje_x_years, eje_y_prices, color=\"#999999\", linestyle=':', marker='s')\n",
    "plt.plot(eje_x_years, petroleo_y, linewidth=3)"
   ]
  },
  {
   "cell_type": "code",
   "execution_count": 7,
   "metadata": {},
   "outputs": [
    {
     "data": {
      "image/png": "[encoded data removed]",
      "text/plain": [
       "<Figure size 1000x500 with 1 Axes>"
      ]
     },
     "metadata": {},
     "output_type": "display_data"
    }
   ],
   "source": [
    "plt.figure(figsize=(10,5))\n",
    "\n",
    "# 3 lines plot\n",
    "plt.plot(eje_x_years, eje_y_prices, label=\"Precios Totales\")\n",
    "plt.plot(eje_x_years, petroleo_y, label=\"Precios Petroleo\")\n",
    "plt.plot(eje_x_years, gasoil_y, label=\"Precios Gasoil\")\n",
    "# Decoration\n",
    "plt.legend()\n",
    "plt.title('Precios de las materias primas desde 1975 hasta 2015')\n",
    "plt.ylim((0,3000))\n",
    "plt.ylabel('USD')\n",
    "plt.grid(lw=0.5)\n",
    "\n",
    "plt.show()"
   ]
  },
  {
   "cell_type": "code",
   "execution_count": 8,
   "metadata": {},
   "outputs": [
    {
     "data": {
      "image/png": "[encoded data removed]",
      "text/plain": [
       "<Figure size 1000x300 with 2 Axes>"
      ]
     },
     "metadata": {},
     "output_type": "display_data"
    }
   ],
   "source": [
    "# Start a figure\n",
    "plt.figure(figsize=(10,3))\n",
    "# First subplot\n",
    "plt.subplot(1,2,1)\n",
    "plt.plot(eje_x_years, eje_y_prices, label=\"Precios Totales\")\n",
    "plt.plot(eje_x_years, petroleo_y, label=\"Precios Petroleo\")\n",
    "plt.title('Total vs. Petroleo')\n",
    "plt.legend()\n",
    "# Second subplot\n",
    "plt.subplot(1,2,2) \n",
    "plt.plot(eje_x_years, eje_y_prices, label=\"total\", c='black')\n",
    "plt.title(\"Todas las materias primas\")\n",
    "# Global figure methods\n",
    "plt.suptitle('1975 - 2015')\n",
    "plt.show()"
   ]
  },
  {
   "cell_type": "markdown",
   "metadata": {},
   "source": [
    "## Grafico de Barras"
   ]
  },
  {
   "cell_type": "code",
   "execution_count": null,
   "metadata": {},
   "outputs": [],
   "source": [
    "Data= pd.read_csv(\"datasets_plots/bar_chart_data.csv\")  #No tengo el path\n",
    "Data\n",
    "\n",
    "plt.figure(figsize=(9,6))\n",
    "plt.bar(x=Data[\"Brand\"],height=Data[\"Cars Listings\"],color=\"midnightblue\")\n",
    "plt.xticks(rotation=45)\n",
    "plt.yticks(fontsize=12)\n",
    "plt.title(\"Car listings by Brand\",fontsize=16,fontweight='bold')\n",
    "plt.ylabel(\"Car Listings\", fontsize=14)\n",
    "plt.show()"
   ]
  },
  {
   "cell_type": "markdown",
   "metadata": {},
   "source": [
    "## Grafico de Torta"
   ]
  },
  {
   "cell_type": "code",
   "execution_count": null,
   "metadata": {},
   "outputs": [],
   "source": [
    "pie_data=pd.read_csv(\"datasets_plots/pie_chart_data.csv\")\n",
    "pie_data\n",
    "\n",
    "import seaborn as sns\n",
    "sns.set_palette('colorblind')\n",
    "plt.figure(figsize=(10,8))\n",
    "plt.pie(pie_data[\"Number of Cars\"],\n",
    "   labels=pie_data[\"Engine Fuel Type\"],\n",
    "    autopct='%.2f%%',\n",
    "    textprops={\"size\": \"x-large\",\n",
    "              \"rotation\": \"30\"})\n",
    "plt.legend()\n",
    "plt.title(\"Cars by fuel type\", fontsize=\"16\",fontweight=\"bold\")\n",
    "plt.show()"
   ]
  },
  {
   "cell_type": "markdown",
   "metadata": {},
   "source": [
    "## Grafico de picos"
   ]
  },
  {
   "cell_type": "code",
   "execution_count": null,
   "metadata": {},
   "outputs": [],
   "source": [
    "stack_data=pd.read_csv(\"datasets_plots/stacked_area_chart_data.csv\")\n",
    "stack_data.head()\n",
    "\n",
    "plt.figure(figsize=(12,6))\n",
    "sns.set_style(\"white\")\n",
    "labels=[\"Gas\",\"Petrol\",\"Diesel\"]\n",
    "plt.stackplot(stack_data[\"Year\"],\n",
    "              stack_data[\"Gas\"],\n",
    "              stack_data[\"Petrol\"],\n",
    "              stack_data[\"Diesel\"],\n",
    "              edgecolor='none',\n",
    "              colors=[\"#FFB6C1\",\"FF00FF\",\"#9400D3\"])\n",
    "plt.xticks(stack_data[\"Year\"], rotation=90)\n",
    "plt.title(\"Popularity of engine fuel types(1982-2016)\", fontsize=14, weight=\"bold\")\n",
    "plt.legend(labels=labels, loc='upper left')\n",
    "sns.despine()\n",
    "plt.show()"
   ]
  },
  {
   "cell_type": "markdown",
   "metadata": {},
   "source": [
    "## Line Chart"
   ]
  },
  {
   "cell_type": "code",
   "execution_count": null,
   "metadata": {},
   "outputs": [],
   "source": [
    "line_chart=pd.read_csv(\"datasets_plots/line_chart_data.csv\")\n",
    "line_chart\n",
    "\n",
    "plt.figure(figsize=(20,8))\n",
    "plt.plot(line_chart[\"date\"],line_chart[\"GSPC500\"])\n",
    "plt.plot(line_chart[\"date\"],line_chart[\"FTSE100\"])\n",
    "plt.title(\"S&P vs FTSE return(2000-2010)\",fontsize=14,weight=\"bold\")\n",
    "plt.legend(labels=[\"Date\",\"S&P 500\",\"FTSE 100\"], loc=\"upper left\")\n",
    "plt.show()\n",
    "\n",
    "#Puedo elegir un tramo para analizar \n",
    "df_2009= line_chart[(line_chart.date>=\"2009-07-01\") & (line_chart.date<=\"2009-12-31\")]\n",
    "df_2009\n",
    "\n",
    "plt.figure(figsize=(20,8))\n",
    "plt.plot(df_2009[\"date\"],df_2009[\"GSPC500\"],color=\"midnightblue\")\n",
    "plt.plot(df_2009[\"date\"],df_2009[\"FTSE100\"],color=\"crimson\")\n",
    "plt.title(\"S&P vs FTSE return(2000-2010)\",fontsize=14,weight=\"bold\")\n",
    "plt.legend(labels=[\"Date\",\"S&P 500\",\"FTSE 100\"], loc=\"upper left\",fontsize=\"large\")\n",
    "plt.show()"
   ]
  },
  {
   "cell_type": "markdown",
   "metadata": {},
   "source": [
    "## Histograma\n"
   ]
  },
  {
   "cell_type": "code",
   "execution_count": null,
   "metadata": {},
   "outputs": [],
   "source": [
    "hist_data=pd.read_csv(\"datasets_plots/histogram_data.csv\")\n",
    "hist_data\n",
    "\n",
    "plt.figure(figsize=(9,6))\n",
    "sns.set_style(\"white\")\n",
    "plt.hist(hist_data[\"Price\"], bins=8, color=\"#008080\")\n",
    "plt.title(\"Distribution of Real State Prices\", fontsize=14, weight=\"bold\")\n",
    "plt.xlabel(\"Price\")\n",
    "sns.despine()\n",
    "plt.show()"
   ]
  },
  {
   "cell_type": "markdown",
   "metadata": {},
   "source": [
    "## Scatter Plot"
   ]
  },
  {
   "cell_type": "code",
   "execution_count": null,
   "metadata": {},
   "outputs": [],
   "source": [
    "scatter_data= pd.read_csv(\"datasets_plots/scatter_data.csv\")\n",
    "scatter_data\n",
    "\n",
    "plt.figure(figsize=(9,6))\n",
    "scatter=plt.scatter(scatter_data[\"Area (ft.)\"],\n",
    "            scatter_data[\"Price\"],\n",
    "           alpha=0.6,\n",
    "           c=scatter_data[\"Building Type\"],\n",
    "           cmap='viridis')\n",
    "plt.title(\"Area V/S Price\", fontsize=14, weight=\"bold\")\n",
    "plt.xlabel(\"Area\")\n",
    "plt.ylabel(\"Price\")\n",
    "plt.legend(*scatter.legend_elements(), loc=\"upper left\", title=\"Building Type\")\n",
    "plt.show()"
   ]
  },
  {
   "cell_type": "markdown",
   "metadata": {},
   "source": [
    "## Regression PLots"
   ]
  },
  {
   "cell_type": "code",
   "execution_count": null,
   "metadata": {},
   "outputs": [],
   "source": [
    "regression_data=pd.read_csv(\"datasets_plots/scatter_plot_ii.csv\")\n",
    "regression_data.head()\n",
    "\n",
    "plt.figure(figsize=(9,6))\n",
    "sns.regplot(x=\"Budget\",\n",
    "            y=\"Sales\",\n",
    "            data= regression_data,\n",
    "            scatter_kws={'color':'k'},\n",
    "            line_kws={'color':'red'})\n",
    "plt.title(\"Effect of Budget on Sales\", fontsize=14, weight=\"bold\")\n",
    "plt.show()"
   ]
  },
  {
   "cell_type": "markdown",
   "metadata": {},
   "source": [
    "## Bar and Line Chart"
   ]
  },
  {
   "cell_type": "code",
   "execution_count": null,
   "metadata": {},
   "outputs": [],
   "source": [
    "combined_data= pd.read_csv(\"datasets_plots/bar_line_chart_data.csv\")\n",
    "combined_data.head()\n",
    "\n",
    "from matplotlib.ticker import PercentFormatter\n",
    "sns.set_style(\"white\")\n",
    "fig, ax= plt.subplots(figsize=(10,7))\n",
    "ax.bar(combined_data[\"Year\"],\n",
    "      combined_data[\"Participants\"],\n",
    "      color='k')\n",
    "ax.set_ylabel(\"Number of Participants\", fontsize=14, weight=\"bold\")\n",
    "ax1= ax.twinx()\n",
    "ax1.set_ylim(0,1)\n",
    "ax1.yaxis.set_major_formatter(PercentFormatter(xmax=1.0))\n",
    "ax1.plot(combined_data[\"Year\"],\n",
    "      combined_data[\"Python Users\"],\n",
    "      color='#b60000',\n",
    "      marker='D')\n",
    "ax1.set_ylabel(\"Python Users\", fontsize=14, weight=\"bold\")\n",
    "ax.set_title(\"KD Nuggets Survey Python Users\", fontsize=14, weight=\"bold\")\n",
    "plt.show()"
   ]
  },
  {
   "cell_type": "markdown",
   "metadata": {},
   "source": [
    "# CARGAR UNA FOTO"
   ]
  },
  {
   "cell_type": "code",
   "execution_count": null,
   "metadata": {},
   "outputs": [],
   "source": [
    "from IPython.display import display, Image\n",
    "display(Image(filename='img/fig_map.png'))"
   ]
  },
  {
   "cell_type": "markdown",
   "metadata": {},
   "source": [
    "# ESTADISTICA"
   ]
  },
  {
   "cell_type": "code",
   "execution_count": 9,
   "metadata": {},
   "outputs": [],
   "source": [
    "# Data Manipulation\n",
    "import numpy as np\n",
    "import pandas as pd\n",
    "# Scientific libraries\n",
    "import scipy.stats as stats\n",
    "# Data Visualisation\n",
    "import seaborn as sns\n",
    "import matplotlib.pyplot as plt"
   ]
  },
  {
   "cell_type": "code",
   "execution_count": null,
   "metadata": {},
   "outputs": [],
   "source": [
    "df = sns.load_dataset(\"tips\")\n",
    "df.head()\n",
    "\n",
    "#EDA\n",
    "\n",
    "len(df) # you can also use df.shape[0]\n",
    "\n",
    "sns.displot(x = \"total_bill\", data = df, kde = True)  #Grafico de distribucion\n",
    "\n",
    "# mu and sigma como media y desvio estandar\n",
    "mu = df[\"total_bill\"].mean()\n",
    "print(f\"mu: {round(mu,2)}\")\n",
    "\n",
    "sigma = df[\"total_bill\"].std()\n",
    "print(f\"sigma: {round(sigma,2)}\")"
   ]
  }
 ],
 "metadata": {
  "kernelspec": {
   "display_name": "Python 3",
   "language": "python",
   "name": "python3"
  },
  "language_info": {
   "codemirror_mode": {
    "name": "ipython",
    "version": 3
   },
   "file_extension": ".py",
   "mimetype": "text/x-python",
   "name": "python",
   "nbconvert_exporter": "python",
   "pygments_lexer": "ipython3",
   "version": "3.10.11"
  }
 },
 "nbformat": 4,
 "nbformat_minor": 2
}
