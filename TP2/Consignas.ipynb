{
 "cells": [
  {
   "cell_type": "markdown",
   "metadata": {},
   "source": [
    "## Resolución Olist.\n",
    "Fecha entrega: 31/10/2023.\n",
    "\n",
    "**Crearse una repositorio personal en github. Completar el codigo dentro de la carpeta olist/ y completar las notebooks**"
   ]
  }
 ],
 "metadata": {
  "language_info": {
   "name": "python"
  }
 },
 "nbformat": 4,
 "nbformat_minor": 2
}
