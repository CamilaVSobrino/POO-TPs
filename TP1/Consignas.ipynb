{
 "cells": [
  {
   "cell_type": "markdown",
   "metadata": {},
   "source": [
    "# Trabajo Practico 1. Gregors:\n",
    "\n",
    "Fecha entrega: 28/10/2023.\n",
    "\n",
    "Las entregas se enumeran a continuación\n",
    "\n",
    "a. EDA personal: Enfocarse en las variables order_has_email y order_has_phone respecto a la conversión mensual y compararlo a las variables de horario segun zona geografica.\n",
    "\n",
    "b. Diapositiva 5 Slides: Utiliza el Pyramid Principle de Barbra Minto para estructurar tus hallazgos en una presentación PowerPoint de 5 diapositiva\n"
   ]
  },
  {
   "cell_type": "markdown",
   "metadata": {},
   "source": [
    "**Gregors** es un producto B2B2C y se asocia con prestamistas y agencias de investigación de antecedentes para **ayudar completar las necesidades de verificación de ingresos y empleo**\n",
    "Como parte de este proceso, el usuario final accede al widget de Gregors integrado en el portal de nuestro cliente o a un formulario de pedido enviado por correo electrónico o SMS, donde realiza lo siguiente:\n",
    "\n",
    "1. Busque el empleador en el que trabaja actualmente.\n",
    "\n",
    "2. Cuando un usuario comienza a escribir utilizamos nuestra base de datos interna de empleadores; si el empleador es\n",
    "no encontrado, al usuario se le presentan los resultados de la API de Google (las dos primeras filas) o la entrada manual\n",
    "(última fila), vea la captura de pantalla a continuación.\n",
    "\n",
    "3. Una vez que un usuario selecciona un empleador, puede ver la pantalla de inicio de sesión del proveedor de nómina.\n",
    "(empleadores mapeados) o consulte una lista de proveedores de nómina.\n",
    "\n",
    "4. Una vez que un usuario envía sus credenciales, terminan en Éxito o Error cuando el usuario\n",
    "Déjalo ir"
   ]
  },
  {
   "cell_type": "markdown",
   "metadata": {},
   "source": [
    "**EMBUDO**\n",
    "\n",
    "1. **Creado**: se crea el pedido\n",
    "2. **Notificación enviada**: se envía una notificación al usuario que desea verificar su información. **MAIL/SMS**\n",
    "3. **Notificación abierta**: la notificación la abre el usuario.\n",
    "4. **Clic de notificación**: se hace clic en el enlace dentro del correo electrónico/mensaje (este enlace abre nuestro widget)\n",
    "5. **Widget cargado**: el widget lo carga el usuario.\n",
    "6. **Empleador seleccionado**: el usuario busca y selecciona un empleador\n",
    "7. **Inicio de sesión del proveedor visto:** el usuario ve la página de inicio de sesión del proveedor\n",
    "8. **Inicio de sesión enviado**: el usuario envía sus credenciales\n",
    "9. **Completado**: el usuario puede iniciar sesión exitosamente en su empleador y verificar su información.\n",
    "\n",
    "## **Planteamiento del problema**\n",
    "Nuestra métrica estrella del norte es la \"Tasa de conversión\", que es la proporción de usuarios que completan con éxito una verificación (Estado del embudo de pedido = \"9-Completado\").\n",
    "\n",
    "**Uno de nuestros clientes nos contacta quejándose de una caída en CR y quiere recomendaciones sobre cómo mejorarla.**\n",
    "\n",
    "**Tarea**\n",
    "\n",
    "* Averigüe si la tasa de conversión realmente ha disminuido y, de ser así, explique por qué disminuyó.\n",
    "* Proporcionar recomendaciones sobre cómo mejorar la tasa de conversión.\n",
    "\n"
   ]
  },
  {
   "cell_type": "markdown",
   "metadata": {},
   "source": [
    "**Primer paso: validación de datos**: más importante paso es validar el conjunto de datos en cuanto a su integridad, coherencia e integridad. \n",
    "\n",
    "1. Verifique los valores faltantes: \n",
    "\n",
    "identifique cualquier valor faltante o nulo en el conjunto de datos que pueda afectar el análisis. Esto es especialmente importante para variables clave como \"Estado del embudo de pedidos\", \"Clics en correos electrónicos\", \"Aperturas de correos electrónicos\", etc.\n",
    "\n",
    "2. Consistencia de los embudos: \n",
    "\n",
    "valide el flujo lógico del 'Estado del embudo de pedidos'. un pedido no debe estar en el estado \"Notificación en la que se hizo clic\" sin antes estar en los estados \"Notificación enviada\" y \"Notificación abierta\".\n",
    "\n",
    "3. Métricas de correo electrónico y SMS: \n",
    "\n",
    "examine las variables relacionadas con el correo electrónico y los SMS para identificar cualquier inconsistencia.no debería haber ningún 'Clic en correo electrónico' sin sus correspondientes 'Aperturas de correo electrónico' y 'Correos electrónicos enviados'.\n",
    "\n",
    "Por qué este paso es importante:\n",
    "* Integridad de los datos: garantizar que no falten puntos de datos o que sean inconsistentes permite realizar un análisis más preciso y confiable.\n",
    "\n",
    "* Identificar anomalías: la identificación temprana de cualquier inconsistencia o anomalía ayudará a corregir los datos o tener en cuenta dichos problemas en el análisis.\n",
    "\n",
    "* Base para el análisis: un conjunto de datos validado sienta una base sólida para los pasos posteriores del análisis, garantizando que los conocimientos y las recomendaciones sean confiables.\n"
   ]
  },
  {
   "cell_type": "markdown",
   "metadata": {},
   "source": [
    "## INFORMACION DEL DATASET + INFORMACION SOBRE VARIABLES\n"
   ]
  },
  {
   "cell_type": "markdown",
   "metadata": {},
   "source": [
    "Las siglas \"EST\" y \"CST\" se refieren a dos zonas horarias en América del Norte:\n",
    "\n",
    "EST: Eastern Standard Time (Hora Estándar del Este)\n",
    "\n",
    "EST es UTC-5, lo que significa que está 5 horas detrás del Tiempo Universal Coordinado (UTC). Durante el horario estándar, esta zona horaria se utiliza en la costa este de América del Norte, que incluye lugares como Nueva York, Washington D.C., Atlanta y partes de Canadá, como Toronto y Montreal.\n",
    "CST: Central Standard Time (Hora Estándar Central)\n",
    "\n",
    "CST es UTC-6, lo que significa que está 6 horas detrás del Tiempo Universal Coordinado (UTC). Esta zona horaria se utiliza en la región central de América del Norte, que incluye ciudades como Chicago, Dallas, Houston y algunas partes de México, como Ciudad de México.\n",
    "Es importante tener en cuenta que durante el horario de verano, algunas áreas que normalmente observan EST y CST pueden cambiar a EDT (Hora de Verano del Este) y CDT (Hora de Verano Central), respectivamente, lo que implica que avanzan una hora en el reloj. Esto se hace para aprovechar mejor la luz solar durante los meses más cálidos. Por lo tanto, la diferencia horaria puede variar según la época del año.\n",
    "\n",
    "PST: Pacific Standard Time (Hora Estándar del Pacífico)\n",
    "\n",
    "PST es UTC-8, lo que significa que está 8 horas detrás del Tiempo Universal Coordinado (UTC). Se utiliza en la costa oeste de América del Norte, incluyendo ciudades como Los Ángeles y Seattle.\n",
    "MST: Mountain Standard Time (Hora Estándar de la Montaña)\n",
    "\n",
    "MST es UTC-7, lo que significa que está 7 horas detrás del Tiempo Universal Coordinado (UTC). Se utiliza en regiones de la zona de montaña de América del Norte, como Denver y Phoenix.\n",
    "AST: Atlantic Standard Time (Hora Estándar del Atlántico)\n",
    "\n",
    "AST es UTC-4, lo que significa que está 4 horas detrás del Tiempo Universal Coordinado (UTC). Se encuentra en la zona del Atlántico y se utiliza en lugares como Puerto Rico y las Islas Vírgenes de los Estados Unidos.\n",
    "UTC-10: Esta es una zona horaria que está 10 horas detrás del Tiempo Universal Coordinado (UTC). Se utiliza en algunas partes de Hawái y otras islas del Pacífico, y se conoce como Hawaii Standard Time (Hora Estándar de Hawái).\n",
    "\n",
    "UTC-9: Esta es una zona horaria que está 9 horas detrás del Tiempo Universal Coordinado (UTC). No es una zona horaria estándar ampliamente reconocida, pero puede usarse en algunas ubicaciones específicas, como las Islas Marquesas en la Polinesia Francesa."
   ]
  }
 ],
 "metadata": {
  "language_info": {
   "name": "python"
  }
 },
 "nbformat": 4,
 "nbformat_minor": 2
}
